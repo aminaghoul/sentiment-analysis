{
  "nbformat": 4,
  "nbformat_minor": 0,
  "metadata": {
    "accelerator": "GPU",
    "colab": {
      "name": "1-RNN-Simple.ipynb",
      "provenance": [],
      "collapsed_sections": []
    },
    "kernelspec": {
      "display_name": "Python 3",
      "language": "python",
      "name": "python3"
    },
    "language_info": {
      "codemirror_mode": {
        "name": "ipython",
        "version": 3
      },
      "file_extension": ".py",
      "mimetype": "text/x-python",
      "name": "python",
      "nbconvert_exporter": "python",
      "pygments_lexer": "ipython3",
      "version": "3.7.6"
    }
  },
  "cells": [
    {
      "cell_type": "markdown",
      "metadata": {
        "id": "F4YxwviWtesV"
      },
      "source": [
        "# RNN pour l'analyse de sentiments\n",
        "\n",
        "Nous allons dans ce notebook faire une analyse de sentiments sur le jeu de données IMbd Reviews en utilisant les réseaux de neurones récurrents.\n",
        "\n",
        "## Réseaux de neurones récurrents\n",
        "\n",
        "Les réseaux de **neurones récurrents** ou (RNN), sont souvent utilisés pour analyser des séquences.\n",
        "En effet, dans les réseaux de neurones généraux, un input est traité par un certain nombre de couches et un output est produit à la sortie, avec l'hypothèse que deux inputs successifs sont indépendants.\n",
        "Cependant, cette hypothèse n'est pas correcte dans un certain nombre de scénarios. \n",
        "Par exemple, si on veut prédire le mot suivant dans une séquence, il est indispensable de considérer la dépendance des observations précédentes.\n",
        "    \n",
        "Dans notre cas, le modèle RNN prend une séquence de mots $X=\\{x_1, ..., x_T\\}$, une à la fois, et produit un état caché $h$, pour chaque mot.\n",
        "On utilise le RNN en lui donnant le mot courant $x_t$ ainsi que l'état caché du mot précédent, $h_{t-1}$, pour produire l'état caché suivant, $h_t$.\n",
        "\n",
        "\n",
        "$$h_t = \\text{RNN}(x_t, h_{t-1})$$\n",
        "\n",
        "\n",
        "Une fois que l'on a notre état caché final, $h_T$, obtenu après avoir donné le dernier mot de la séquence $x_T$ au modèle, on le donne à une couche $f$, (qui s'appelle également fully connected layer), pour recevoir notre sentiment prédit, $\\hat{y} = f(h_T)$.\n",
        "\n",
        "<center> <img src=\"./img/RNN.png\" alt=\"drawing\" width=\"700\"/>\n",
        "        \n",
        "        \n",
        "Cette illustration montre un exemple de phrase, avec le RNN prédisant 0, c'est-à-dire que le sentiment est négatif. Le RNN est représenté en orange et la couche fully connected layer est en gris. On utilise le même RNN pour chaque mot, c'est-à-dire qu'il a les mêmes paramètres. L'état initial caché $h_0$, est un tensor initialisé à zéro."
      ]
    },
    {
      "cell_type": "markdown",
      "metadata": {
        "id": "IINy-8uQtesY"
      },
      "source": [
        "## Préparation des données\n",
        "\n",
        "Dans ce notebook, on utilise la librairie torch et TorchText.\n",
        "\n",
        "TorchText a une méthode `Field` qui sert à définir comment les données brutes doivent être traitées.\n",
        "\n",
        "La méthode `TEXT` définit comment les commentaires doivent être traités, et `LABEL` comment les labels doivent être traités. \n",
        "Ces méthodes comportent plusieurs paramètres qui sont décrits dans la \n",
        "<a href=\"https://torchtext.readthedocs.io/en/latest/data.html#field\">documentation</a>."
      ]
    },
    {
      "cell_type": "code",
      "metadata": {
        "id": "SV06LPyQtesa",
        "outputId": "ce5aacb6-07b1-44cc-ae54-38be2cd4cb8d",
        "colab": {
          "base_uri": "https://localhost:8080/"
        }
      },
      "source": [
        "import pandas as pd\n",
        "import torch\n",
        "from torchtext import data\n",
        "from torchtext import datasets\n",
        "import random\n",
        "# pour la reproductibilité\n",
        "SEED = 1234\n",
        "torch.manual_seed(SEED)\n",
        "torch.backends.cudnn.deterministic = True\n",
        "\n",
        "TEXT = data.Field(sequential=True,lower=True, tokenize = 'spacy')\n",
        "LABEL = data.LabelField(dtype = torch.float)\n",
        "\n",
        "train_data, test_data = datasets.IMDB.splits(TEXT, LABEL)"
      ],
      "execution_count": 1,
      "outputs": [
        {
          "output_type": "stream",
          "text": [
            "downloading aclImdb_v1.tar.gz\n"
          ],
          "name": "stdout"
        },
        {
          "output_type": "stream",
          "text": [
            "aclImdb_v1.tar.gz: 100%|██████████| 84.1M/84.1M [00:07<00:00, 11.5MB/s]\n"
          ],
          "name": "stderr"
        }
      ]
    },
    {
      "cell_type": "markdown",
      "metadata": {
        "id": "jQgaklyXeUej"
      },
      "source": [
        "On sépare les données en données de train, de test et de validation."
      ]
    },
    {
      "cell_type": "code",
      "metadata": {
        "id": "KMvpktoDeUek"
      },
      "source": [
        "import random\n",
        "\n",
        "test_data, valid_data = test_data.split(random_state = random.seed(1234))"
      ],
      "execution_count": 2,
      "outputs": []
    },
    {
      "cell_type": "code",
      "metadata": {
        "id": "VlWJF2S_eUen",
        "outputId": "3d8930d3-382d-4721-8c6d-3a13fc05b4ea",
        "colab": {
          "base_uri": "https://localhost:8080/"
        }
      },
      "source": [
        "print(f'Taille des données train: {len(train_data)}')\n",
        "print(f'Taille des données de validation: {len(valid_data)}')\n",
        "print(f'Taille des données test: {len(test_data)}')"
      ],
      "execution_count": 3,
      "outputs": [
        {
          "output_type": "stream",
          "text": [
            "Taille des données train: 25000\n",
            "Taille des données de validation: 7500\n",
            "Taille des données test: 17500\n"
          ],
          "name": "stdout"
        }
      ]
    },
    {
      "cell_type": "markdown",
      "metadata": {
        "id": "NOCX0qGNtesw"
      },
      "source": [
        "On affiche un exemple d'un commentaire \"tokénisé\" avec le label correspondant."
      ]
    },
    {
      "cell_type": "code",
      "metadata": {
        "id": "XXxXnQwctesx",
        "outputId": "9a13b629-306f-433b-aaad-1deea5563bee",
        "colab": {
          "base_uri": "https://localhost:8080/"
        }
      },
      "source": [
        "print(vars(train_data.examples[1]))"
      ],
      "execution_count": 4,
      "outputs": [
        {
          "output_type": "stream",
          "text": [
            "{'text': ['watched', 'both', 'parts', 'twice', '.', 'enjoyed', 'the', 'story', 'and', 'enjoyed', 'seeing', 'an', 'older', 'patrick', 'swayze', 'as', 'the', 'hero', '.', 'he', 'was', 'very', 'believable', 'as', 'the', 'hunter', 'alan', 'quartermaine', 'and', 'certainly', 'bested', 'the', 'performance', 'of', 'richard', 'chamberlain', '.', 'i', 'do', 'admit', 'that', 'i', 'would', 'have', 'preferred', 'seeing', 'someone', 'else', 'as', 'the', '\"', 'lady', 'in', 'distress', '\"', '.', 'alison', 'doody', 'should', 'stick', 'with', 'modern', 'and', 'not', 'period', 'pieces', '.', 'she', 'did', \"n't\", 'have', 'the', 'look', 'of', 'the', 'woman', 'of', 'the', '1800', \"'s\", '.', 'the', 'rest', 'of', 'the', 'cast', 'were', 'terrific', 'and', 'followed', 'the', 'plotlines', 'very', 'well', '.', 'i', 'am', 'glad', 'to', 'see', 'that', 'the', 'actors', 'of', 'this', 'generation', 'are', 'not', 'afraid', 'to', 'try', 'on', 'different', 'characters', 'and', 'are', 'not', 'afraid', 'to', 'be', 'seen', 'as', 'getting', 'older', '.', 'age', 'is', 'inevitable', ',', 'but', 'let', \"'s\", 'not', 'hide', 'from', 'it', '.', 'a', 'man', 'at', '50', '+', 'can', 'be', 'much', 'sexier', '(', 'and', ',', 'patrick', 'truly', 'is', 'sexy', ')', 'then', 'a', 'green', 'youth', ',', 'no', 'matter', 'how', 'pretty', '.', 'hoorah', 'for', 'character', 'lines', 'to', 'go', 'along', 'with', 'a', 'great', 'smile', '.'], 'label': 'pos'}\n"
          ],
          "name": "stdout"
        }
      ]
    },
    {
      "cell_type": "markdown",
      "metadata": {
        "id": "SXGXnwdDeUex"
      },
      "source": [
        "On construit le vocabulaire issu de l'échantillon train avec la méthode `build_vocab`."
      ]
    },
    {
      "cell_type": "code",
      "metadata": {
        "id": "akTcL0VyeUex",
        "outputId": "bcd2c015-8031-4dc0-a5ee-bc2e3f112674",
        "colab": {
          "base_uri": "https://localhost:8080/"
        }
      },
      "source": [
        "TEXT.build_vocab(train_data)\n",
        "print(f\"Nombre de tokens unique dans le TEXT: {len(TEXT.vocab)}\") "
      ],
      "execution_count": 5,
      "outputs": [
        {
          "output_type": "stream",
          "text": [
            "Nombre de tokens unique dans le TEXT: 101520\n"
          ],
          "name": "stdout"
        }
      ]
    },
    {
      "cell_type": "markdown",
      "metadata": {
        "id": "2JwQ2BY0tetK"
      },
      "source": [
        "Le vocabulaire est composé de 101513 mots. On le réduit en ne prennant que 25000 mots pour ne pas que la dimension de la matrice d'embedding soit trop grande."
      ]
    },
    {
      "cell_type": "code",
      "metadata": {
        "id": "j8gQvkW7tetL",
        "outputId": "e4da7b05-789f-4399-f9f5-c6ffda610a3e",
        "colab": {
          "base_uri": "https://localhost:8080/"
        }
      },
      "source": [
        "MAX_VOCAB_SIZE = 50_000\n",
        "\n",
        "TEXT.build_vocab(train_data, \n",
        "                 max_size = MAX_VOCAB_SIZE, \n",
        "                 vectors = \"glove.6B.100d\", \n",
        "                 unk_init = torch.Tensor.normal_)\n",
        "LABEL.build_vocab(train_data)\n",
        "\n",
        "print(f\"Nombre de tokens unique dans le TEXT: {len(TEXT.vocab)}\") \n",
        "print(f\"Nombre unique de LABEL: {len(LABEL.vocab)}\")"
      ],
      "execution_count": 6,
      "outputs": [
        {
          "output_type": "stream",
          "text": [
            ".vector_cache/glove.6B.zip: 862MB [06:30, 2.21MB/s]                           \n",
            "100%|█████████▉| 399670/400000 [00:24<00:00, 15454.76it/s]"
          ],
          "name": "stderr"
        },
        {
          "output_type": "stream",
          "text": [
            "Nombre de tokens unique dans le TEXT: 50002\n",
            "Nombre unique de LABEL: 2\n"
          ],
          "name": "stdout"
        }
      ]
    },
    {
      "cell_type": "markdown",
      "metadata": {
        "id": "H-EuaMfGtetU"
      },
      "source": [
        "Les deux valeurs supplémentaires dans le vocabulaire du TEXT sont les tokens `<unk>` et `<pad>`. Si un mot de l'échantillon de validation ou de test n'est pas dans le vocabulaire, alors celui-ci est remplacé par `<unk>`. Le token `<pad>` est utilisé pour que les séquences d'un même batch soient de mêmes longueurs. \n",
        "\n",
        "On affiche ci-dessous les 20 mots les plus fréquents."
      ]
    },
    {
      "cell_type": "code",
      "metadata": {
        "id": "m0yMEfHptetW",
        "outputId": "e4eb1a43-5fd1-4047-81d5-5a4204731096",
        "colab": {
          "base_uri": "https://localhost:8080/"
        }
      },
      "source": [
        "print(TEXT.vocab.freqs.most_common(20))"
      ],
      "execution_count": 7,
      "outputs": [
        {
          "output_type": "stream",
          "text": [
            "[('the', 328822), (',', 275296), ('.', 236843), ('and', 162887), ('a', 161730), ('of', 145595), ('to', 135355), ('is', 110135), ('it', 93487), ('in', 92823), ('i', 82706), ('this', 73411), ('that', 73060), ('\"', 63329), (\"'s\", 62109), ('-', 52863), ('/><br', 50935), ('was', 50375), ('as', 46161), ('for', 43937)]\n"
          ],
          "name": "stdout"
        }
      ]
    },
    {
      "cell_type": "markdown",
      "metadata": {
        "id": "nXX3_jXLtetn"
      },
      "source": [
        "Les valeurs du vocabulaire de LABEL sont 0 pour positif et 1 pour négatif."
      ]
    },
    {
      "cell_type": "code",
      "metadata": {
        "id": "P4i4-Fhjteto",
        "outputId": "ad4f7b29-bae9-44f1-cb8c-2c75fbb5b764",
        "colab": {
          "base_uri": "https://localhost:8080/"
        }
      },
      "source": [
        "print(LABEL.vocab.stoi)"
      ],
      "execution_count": 8,
      "outputs": [
        {
          "output_type": "stream",
          "text": [
            "defaultdict(<function _default_unk_index at 0x7f5e56c38510>, {'neg': 0, 'pos': 1})\n"
          ],
          "name": "stdout"
        }
      ]
    },
    {
      "cell_type": "markdown",
      "metadata": {
        "id": "j8ovGiuJtett"
      },
      "source": [
        "La dernière étape de la préparation des données consiste à créer les itérateurs. Nous les parcourons dans la boucle d'apprentissage / d'évaluation, et ils retournent un batch à chaque itération.\n",
        "\n",
        "On utilise `BucketIterator` qui est un itérateur qui renverra un batch de séquences de mêmes longueurs grâce au padding."
      ]
    },
    {
      "cell_type": "code",
      "metadata": {
        "id": "Vx_Fb_59tetu"
      },
      "source": [
        "# utilisation du GPU si possible \n",
        "device = torch.device('cuda' if torch.cuda.is_available() else 'cpu')\n",
        "#device ='cpu'\n",
        "BATCH_SIZE = 32\n",
        "train_iterator, valid_iterator, test_iterator = data.BucketIterator.splits(\n",
        "    (train_data, valid_data, test_data), \n",
        "    batch_size = BATCH_SIZE,\n",
        "    device = device, sort = False)"
      ],
      "execution_count": 9,
      "outputs": []
    },
    {
      "cell_type": "markdown",
      "metadata": {
        "id": "Tz0537L1tetx"
      },
      "source": [
        "## Construction du modèle\n",
        "\n",
        "Le modèle RNN utilisé se compose des couches suivantes : \n",
        "\n",
        "- _embedding_ : utilisé pour transformer notre vecteur one hot encoder (dont la plupart des éléments sont des 0) en un vecteur embedding dense (dense car la dimensionnalité est beaucoup plus petite et tous les éléments sont des nombres réels). De plus, les mots qui ont un impact similaire sur le sentiment de la revue sont mappés de manière rapprochée dans cet espace vectoriel dense.\n",
        "- _RNN_ : prend le vecteur dense et le précédent état caché $h_{t-1}$, et calcule l'état caché suivant $h_t$.\n",
        "- _linéaire_ : prend le dernier état caché, le met dans un couche fully connected $f(h_T)$ qui le transfome en output prédit.\n",
        "\n",
        "\n",
        "Par ailleurs, le modèle considéré est bidirectionnel, il peut être représenté comme ceci.\n",
        "\n",
        "\n",
        "<center> <img src=\"./img/birnn.png\" alt=\"drawing\" width=\"600\"/>\n",
        "\n",
        "\n",
        "En plus d'avoir un RNN traitant les mots de la phrase du premier au dernier (un RNN forward), nous avons un deuxième RNN traitant les mots de la phrase du dernier au premier (un RNN backward). Au pas de temps $t$, le RNN forward traite le mot $ x_t $, et le RNN backward traite le mot $ x_ {T-t + 1}$\n",
        "\n",
        "Chaque batch, `text` est un tensor de dimension _**[taille séquence, taille batch]**_. C'est un batch de commentaires, dont les mots sont convertis en représentation one-hot encoder. PyTorch stocke  un vecteur one-hot comme sa valeur d'index.\n",
        "\n",
        "Le batch de l'input est ensuite passé à travers la couche embedding pour obtenir une représentation de vecteur dense de nos commentaires.\n",
        "`embedded` est un tensor de taille _**[taille séquence, taille batch, dim embedding]**_.\n",
        "\n",
        "`embedded`est ensuite introduit dans la couche RNN. Dans certains frameworks, vous devez alimenter l'état caché initial, $h_0$, dans le RNN, cependant dans PyTorch, si aucun état caché initial n'est passé comme argument, il prend par défaut un tenseur de valeurs zéros.\n",
        "\n",
        "The RNN retourne 2 tenseurs, `output` de taille _**[taille séquence, taille batch, dim état caché*2]**_ et `hidden` de taille _**[num direction, taille batch, dim état caché]**_.\n",
        "\n",
        "`output` est la concaténation de l'état caché de chaque pas de temps. Comme nous voulons les états cachés avant et arrière de la couche finale (supérieure), nous obtenons les deux couches cachées supérieures de la première dimension, hidden [-2,:,:] et hidden [-1,:,:], et les concaténons ensemble ( _**[taille batch, dim état caché*2]**_ ) avant de les transmettre à la couche linéaire, pour produire une prédiction."
      ]
    },
    {
      "cell_type": "code",
      "metadata": {
        "id": "O8BPYwRGtety"
      },
      "source": [
        "import torch.nn as nn\n",
        "\n",
        "class RNN(nn.Module):\n",
        "    def __init__(self, input_dim, embedding_dim, hidden_dim, output_dim, bidirectional, dropout):\n",
        "  \n",
        "        super().__init__()\n",
        "        \n",
        "        self.embedding = nn.Embedding(input_dim, embedding_dim) \n",
        "        self.rnn = nn.RNN(embedding_dim, hidden_dim, bidirectional=bidirectional)   \n",
        "        self.fc = nn.Linear(hidden_dim * 2, output_dim)\n",
        "        self.dropout = nn.Dropout(dropout)\n",
        "    def forward(self, text):\n",
        "\n",
        "        embedded = self.dropout(self.embedding(text)) \n",
        "        output, hidden = self.rnn(embedded) \n",
        "        hidden = self.dropout(torch.cat((hidden[-2,:,:], hidden[-1,:,:]), dim = 1))\n",
        "        \n",
        "        return self.fc(hidden)\n"
      ],
      "execution_count": 10,
      "outputs": []
    },
    {
      "cell_type": "markdown",
      "metadata": {
        "id": "1KBgfaFitet5"
      },
      "source": [
        "On crée alors notre modèle. Les paramètres sont les suivants :\n",
        "\n",
        " - La dimension de l'input est la taille du vocabulaire. \n",
        " - La dimension de l'embedding est la taille des vecteurs denses. Elle est généralement de 50 à 250, mais elle dépend de la taille du vocabulaire.\n",
        " - La dimension de hidden est la dimension des états cachés. Elle vaut généralement 100 à 500, mais dépend de la taille du vocabulaire, des vecteurs denses et la compléxité de la tâche. \n",
        " - La dimension de l'output est le nombre de classes, ici, la valeur de l'output est entre 0 et 1 et donc est de dimension 1 car l'output est un scalaire.\n",
        "\n"
      ]
    },
    {
      "cell_type": "code",
      "metadata": {
        "id": "3A_TUXSftet8"
      },
      "source": [
        "INPUT_DIM = len(TEXT.vocab)\n",
        "EMBEDDING_DIM = 100\n",
        "HIDDEN_DIM = 100\n",
        "OUTPUT_DIM = 1\n",
        "BIDIRECTIONAL = True\n",
        "DROPOUT = 0.6\n",
        "model = RNN(INPUT_DIM, EMBEDDING_DIM, HIDDEN_DIM, OUTPUT_DIM, BIDIRECTIONAL, DROPOUT)"
      ],
      "execution_count": 11,
      "outputs": []
    },
    {
      "cell_type": "code",
      "metadata": {
        "id": "DHhyWBk3teuA",
        "outputId": "4d4029a6-a23b-4cb2-af01-d2a8406516ef",
        "colab": {
          "base_uri": "https://localhost:8080/"
        }
      },
      "source": [
        "def count_parameters(model):\n",
        "    return sum(p.numel() for p in model.parameters() if p.requires_grad)\n",
        "\n",
        "print(f'Le modèle a {count_parameters(model):,} paramètres à entraîner')"
      ],
      "execution_count": 12,
      "outputs": [
        {
          "output_type": "stream",
          "text": [
            "Le modèle a 5,040,801 paramètres à entraîner\n"
          ],
          "name": "stdout"
        }
      ]
    },
    {
      "cell_type": "markdown",
      "metadata": {
        "id": "zGjJ1BSSteuF"
      },
      "source": [
        "## Entraîner le modèle\n",
        "\n",
        "On utilise l'optimiseur Adam."
      ]
    },
    {
      "cell_type": "code",
      "metadata": {
        "id": "MC34zFI4teuI"
      },
      "source": [
        "import torch.optim as optim\n",
        "\n",
        "def optimiseur(model, lr=1e-4, eps=1e-6, weight_decay_rate=0.001, second_weight_decay_rate=0.0):\n",
        "    param_optimizer = list(model.named_parameters())\n",
        "    no_decay = ['bias', 'gamma', 'beta']\n",
        "    optimizer_grouped_parameters = [\n",
        "        {'params': [p for n, p in param_optimizer if not any(nd in n for nd in no_decay)],\n",
        "            'weight_decay_rate': weight_decay_rate},\n",
        "        {'params': [p for n, p in param_optimizer if any(nd in n for nd in no_decay)],\n",
        "            'weight_decay_rate': second_weight_decay_rate}]\n",
        "    return optim.Adam(\n",
        "        optimizer_grouped_parameters,\n",
        "        lr=lr,\n",
        "        eps=eps\n",
        "    )\n",
        "\n",
        "optimizer = optimiseur(model, lr=1e-3, eps=1e-5, weight_decay_rate=0.001, second_weight_decay_rate=0.0)\n",
        "scheduler = optim.lr_scheduler.StepLR(optimizer, step_size=10, gamma=0.5)"
      ],
      "execution_count": 13,
      "outputs": []
    },
    {
      "cell_type": "markdown",
      "metadata": {
        "id": "ldK_vHILteuN"
      },
      "source": [
        "On définit ensuite la fonction de perte qui est ici la _binary cross entropy with logits_. "
      ]
    },
    {
      "cell_type": "code",
      "metadata": {
        "id": "bEn4T95ZteuN"
      },
      "source": [
        "criterion = nn.BCEWithLogitsLoss()"
      ],
      "execution_count": 14,
      "outputs": []
    },
    {
      "cell_type": "markdown",
      "metadata": {
        "id": "NpprToLYteuQ"
      },
      "source": [
        "En utilisant `.to`, nous pouvons placer le modèle et le critère sur le GPU (si nous en avons un)."
      ]
    },
    {
      "cell_type": "code",
      "metadata": {
        "id": "kh294K1JteuR",
        "outputId": "dc9241b3-ffa1-4464-d924-237647afd75a",
        "colab": {
          "base_uri": "https://localhost:8080/"
        }
      },
      "source": [
        "model = model.to(device)\n",
        "criterion = criterion.to(device)"
      ],
      "execution_count": 15,
      "outputs": [
        {
          "output_type": "stream",
          "text": [
            "\r100%|█████████▉| 399670/400000 [00:40<00:00, 15454.76it/s]"
          ],
          "name": "stderr"
        }
      ]
    },
    {
      "cell_type": "markdown",
      "metadata": {
        "id": "w42XP6EbteuV"
      },
      "source": [
        "La fonction criterion calcule la perte, cependant nous devons écrire notre fonction pour calculer l'accuracy.\n",
        "\n",
        " - Accuracy : \n",
        "$$accuracy = \\frac{TP+TN}{TP+TN+FP+FN}\\,,$$\n",
        " \n",
        "avec $TP$ : vrais positifs, $TN$ : vrais négatifs, $FP$ : faux positifs, $FN$ : faux négatifs."
      ]
    },
    {
      "cell_type": "code",
      "metadata": {
        "id": "4G8cW2IpteuX"
      },
      "source": [
        "def binary_accuracy(preds, y):\n",
        "    \"\"\"\n",
        "    Retourne l'accuracy par batch\n",
        "    \"\"\"\n",
        "    #arrondi la prédiction à l'entier le plus proche\n",
        "    rounded_preds = torch.round(torch.sigmoid(preds))\n",
        "    correct = (rounded_preds == y).float() \n",
        "    acc = correct.sum() / len(correct)\n",
        "    return acc\n"
      ],
      "execution_count": 16,
      "outputs": []
    },
    {
      "cell_type": "markdown",
      "metadata": {
        "id": "Cn8UE87Gteuc"
      },
      "source": [
        "La fonction `train` itère sur tous les exemples, un batch à la fois.\n",
        "\n",
        "`model.train()`est utilisé pour mettre le modèle en \"mode entraînement\", qui active _dropout_ et _batch normalization_, qui ne sont pas utilisés ici.\n",
        "\n",
        "Pour chaque batch, on met à zéro le gradient. Chaque paramètre dans un modèle a un attribut `grad` qui stocke le gradient calculé par `criterion`. PyTorch ne met pas à zéro les gradients automatiquement.\n",
        "\n",
        "Nous introduisons ensuite le batch de phrases, `batch.text`, dans le modèle. Le `squeeze` est nécessaire car les prédictions sont initialement de taille _**[taille batch, 1]**_, et nous devons supprimer la dimension de taille 1 car PyTorch s'attend à ce que les prédictions entrées dans notre fonction de critère soient de taille _**[taille batch]**_.\n",
        "La perte et la précision sont ensuite calculées à l'aide de nos prédictions et des labels, `batch.label`, la perte étant moyennée sur toutes les séquences du batch.\n",
        "\n",
        "Nous calculons le gradient de chaque paramètre avec `loss.backward ()`, puis mettons à jour les paramètres en utilisant les gradients et l'algorithme d'optimisation avec `optimizer.step ()`.\n",
        "\n",
        "Enfin, nous retournons la perte et l'accuracy moyennés sur toute l'époque. \n"
      ]
    },
    {
      "cell_type": "code",
      "metadata": {
        "id": "JUK2BZs6teud"
      },
      "source": [
        "def train(model, iterator, optimizer, criterion):\n",
        "    \n",
        "    epoch_loss = 0\n",
        "    epoch_acc = 0\n",
        "  \n",
        "    model.train()\n",
        "    \n",
        "    for batch in iterator:\n",
        "        \n",
        "        optimizer.zero_grad()\n",
        "               \n",
        "        predictions = model(batch.text).squeeze(1)\n",
        "        loss = criterion(predictions, batch.label)\n",
        "        \n",
        "        acc = binary_accuracy(predictions, batch.label)\n",
        "        \n",
        "        loss.backward()\n",
        "        \n",
        "        optimizer.step()\n",
        "        \n",
        "        epoch_loss += loss.item()\n",
        "        epoch_acc += acc.item()\n",
        "   \n",
        "        \n",
        "    return epoch_loss / len(iterator), epoch_acc / len(iterator)"
      ],
      "execution_count": 17,
      "outputs": []
    },
    {
      "cell_type": "markdown",
      "metadata": {
        "id": "ufZOWJenteug"
      },
      "source": [
        "La fonction `evaluate` est similaire à` train`, avec quelques modifications car on ne veut pas mettre à jour les paramètres lors de l'évaluation.\n",
        "\n",
        "`model.eval ()` met le modèle en \"mode d'évaluation\", ceci désactive _dropout_ et _batch normalization_.\n",
        "\n",
        "Aucun gradient n'est calculé sur les opérations PyTorch à l'intérieur du bloc `with no_grad ()`. Cela réduit l'utilisation de la mémoire et accélère le calcul.\n",
        "\n",
        "Le reste de la fonction est identique à `train`, avec la suppression de` optimizer.zero_grad () `,` loss.backward () `et` optimizer.step () `, car nous ne mettons pas à jour les paramètres du modèle lors de l'évaluation."
      ]
    },
    {
      "cell_type": "code",
      "metadata": {
        "id": "K6B9sga2teuh"
      },
      "source": [
        "def evaluate(model, iterator, criterion):\n",
        "    \n",
        "    epoch_loss = 0\n",
        "    epoch_acc = 0\n",
        "   \n",
        "    model.eval()\n",
        "    \n",
        "    with torch.no_grad():\n",
        "    \n",
        "        for batch in iterator:\n",
        "\n",
        "            predictions = model.forward(batch.text).squeeze(1) \n",
        "            loss = criterion(predictions, batch.label)    \n",
        "\n",
        "            acc = binary_accuracy(predictions, batch.label)\n",
        "\n",
        "            \n",
        "            epoch_loss += loss.item()\n",
        "            epoch_acc += acc.item()\n",
        "        \n",
        "    return epoch_loss / len(iterator), epoch_acc / len(iterator)"
      ],
      "execution_count": 18,
      "outputs": []
    },
    {
      "cell_type": "markdown",
      "metadata": {
        "id": "FUF-j3L5teup"
      },
      "source": [
        "Nous entraînons ensuite le modèle sur plusieurs époques, une époque étant un passage complet à travers toutes les séquences dans les ensembles d'apprentissage et de validation.\n",
        "\n",
        "À chaque époque, si la perte de validation est la meilleure que nous ayons vue jusqu'à présent, nous enregistrerons les paramètres du modèle, puis une fois l'entraînement terminé, nous utiliserons ce modèle sur l'ensemble de test."
      ]
    },
    {
      "cell_type": "code",
      "metadata": {
        "id": "k1oHzxVZteuq",
        "outputId": "cedcbcf1-dcee-40a3-c604-115b8f612516",
        "colab": {
          "base_uri": "https://localhost:8080/"
        }
      },
      "source": [
        "import time\n",
        "\n",
        "def epoch_time(start_time, end_time):\n",
        "    elapsed_time = end_time - start_time\n",
        "    elapsed_mins = int(elapsed_time / 60)\n",
        "    elapsed_secs = int(elapsed_time - (elapsed_mins * 60))\n",
        "    return elapsed_mins, elapsed_secs\n",
        "\n",
        "tloss = []\n",
        "tacc = []\n",
        "vloss = []\n",
        "vacc = []\n",
        "N_EPOCHS = 20\n",
        "\n",
        "best_valid_loss = float('inf')\n",
        "\n",
        "for epoch in range(N_EPOCHS):\n",
        "\n",
        "    start_time = time.time()\n",
        "    \n",
        "    train_loss, train_acc = train(model, train_iterator, optimizer, criterion)\n",
        "    tloss.append(train_loss)\n",
        "    tacc.append(train_acc) \n",
        "    scheduler.step()\n",
        "    valid_loss, valid_acc = evaluate(model, valid_iterator, criterion)\n",
        "    vloss.append(valid_loss)\n",
        "    vacc.append(valid_acc)  \n",
        "    \n",
        "    end_time = time.time()\n",
        "\n",
        "    epoch_mins, epoch_secs = epoch_time(start_time, end_time)\n",
        "    \n",
        "    if valid_loss < best_valid_loss:\n",
        "        best_valid_loss = valid_loss\n",
        "        torch.save(model.state_dict(), 'tut1-model.pt')\n",
        "    \n",
        "    print(f'Epoch: {epoch+1:02} | Epoch Time: {epoch_mins}m {epoch_secs}s')\n",
        "    print(f'\\tTrain Loss: {train_loss:.3f} | Train Acc: {train_acc*100:.2f}%')\n",
        "    print(f'\\t Val. Loss: {valid_loss:.3f} |  Val. Acc: {valid_acc*100:.2f}%')"
      ],
      "execution_count": 19,
      "outputs": [
        {
          "output_type": "stream",
          "text": [
            "Epoch: 01 | Epoch Time: 2m 7s\n",
            "\tTrain Loss: 0.705 | Train Acc: 51.70%\n",
            "\t Val. Loss: 0.679 |  Val. Acc: 57.46%\n",
            "Epoch: 02 | Epoch Time: 2m 6s\n",
            "\tTrain Loss: 0.692 | Train Acc: 53.49%\n",
            "\t Val. Loss: 0.677 |  Val. Acc: 58.14%\n",
            "Epoch: 03 | Epoch Time: 2m 6s\n",
            "\tTrain Loss: 0.688 | Train Acc: 54.91%\n",
            "\t Val. Loss: 0.697 |  Val. Acc: 50.07%\n",
            "Epoch: 04 | Epoch Time: 2m 7s\n",
            "\tTrain Loss: 0.689 | Train Acc: 54.74%\n",
            "\t Val. Loss: 0.702 |  Val. Acc: 50.39%\n",
            "Epoch: 05 | Epoch Time: 2m 5s\n",
            "\tTrain Loss: 0.686 | Train Acc: 56.03%\n",
            "\t Val. Loss: 0.691 |  Val. Acc: 53.32%\n",
            "Epoch: 06 | Epoch Time: 2m 6s\n",
            "\tTrain Loss: 0.682 | Train Acc: 56.32%\n",
            "\t Val. Loss: 0.682 |  Val. Acc: 55.98%\n",
            "Epoch: 07 | Epoch Time: 2m 6s\n",
            "\tTrain Loss: 0.679 | Train Acc: 57.50%\n",
            "\t Val. Loss: 0.659 |  Val. Acc: 61.09%\n",
            "Epoch: 08 | Epoch Time: 2m 6s\n",
            "\tTrain Loss: 0.673 | Train Acc: 58.44%\n",
            "\t Val. Loss: 0.693 |  Val. Acc: 51.09%\n",
            "Epoch: 09 | Epoch Time: 2m 5s\n",
            "\tTrain Loss: 0.690 | Train Acc: 54.14%\n",
            "\t Val. Loss: 0.676 |  Val. Acc: 57.39%\n",
            "Epoch: 10 | Epoch Time: 2m 6s\n",
            "\tTrain Loss: 0.678 | Train Acc: 57.49%\n",
            "\t Val. Loss: 0.686 |  Val. Acc: 54.09%\n",
            "Epoch: 11 | Epoch Time: 2m 7s\n",
            "\tTrain Loss: 0.668 | Train Acc: 58.94%\n",
            "\t Val. Loss: 0.623 |  Val. Acc: 66.62%\n",
            "Epoch: 12 | Epoch Time: 2m 6s\n",
            "\tTrain Loss: 0.663 | Train Acc: 60.03%\n",
            "\t Val. Loss: 0.669 |  Val. Acc: 58.48%\n",
            "Epoch: 13 | Epoch Time: 2m 6s\n",
            "\tTrain Loss: 0.652 | Train Acc: 61.84%\n",
            "\t Val. Loss: 0.631 |  Val. Acc: 65.27%\n",
            "Epoch: 14 | Epoch Time: 2m 6s\n",
            "\tTrain Loss: 0.637 | Train Acc: 64.55%\n",
            "\t Val. Loss: 0.661 |  Val. Acc: 59.94%\n",
            "Epoch: 15 | Epoch Time: 2m 5s\n",
            "\tTrain Loss: 0.656 | Train Acc: 61.38%\n",
            "\t Val. Loss: 0.665 |  Val. Acc: 58.65%\n",
            "Epoch: 16 | Epoch Time: 2m 5s\n",
            "\tTrain Loss: 0.633 | Train Acc: 65.37%\n",
            "\t Val. Loss: 0.599 |  Val. Acc: 68.71%\n",
            "Epoch: 17 | Epoch Time: 2m 5s\n",
            "\tTrain Loss: 0.628 | Train Acc: 66.02%\n",
            "\t Val. Loss: 0.595 |  Val. Acc: 69.36%\n",
            "Epoch: 18 | Epoch Time: 2m 5s\n",
            "\tTrain Loss: 0.616 | Train Acc: 67.12%\n",
            "\t Val. Loss: 0.621 |  Val. Acc: 66.99%\n",
            "Epoch: 19 | Epoch Time: 2m 6s\n",
            "\tTrain Loss: 0.624 | Train Acc: 66.04%\n",
            "\t Val. Loss: 0.666 |  Val. Acc: 60.04%\n",
            "Epoch: 20 | Epoch Time: 2m 5s\n",
            "\tTrain Loss: 0.634 | Train Acc: 64.73%\n",
            "\t Val. Loss: 0.612 |  Val. Acc: 66.48%\n"
          ],
          "name": "stdout"
        }
      ]
    },
    {
      "cell_type": "code",
      "metadata": {
        "id": "VyF6dTsMeUft",
        "outputId": "915a52fb-e10d-4eed-c28c-664da59b26b0",
        "colab": {
          "base_uri": "https://localhost:8080/",
          "height": 301
        }
      },
      "source": [
        "import seaborn as sns\n",
        "import matplotlib.pyplot as plt \n",
        "import numpy as np \n",
        "sns.set()\n",
        "\n",
        "x = np.linspace(0, N_EPOCHS,N_EPOCHS)\n",
        "\n",
        "plt.plot(x,tloss)\n",
        "plt.plot(x,vloss)\n",
        "plt.title(\"Loss\")\n",
        "plt.legend([\"Train loss\", \"Valid loss\"])"
      ],
      "execution_count": 20,
      "outputs": [
        {
          "output_type": "execute_result",
          "data": {
            "text/plain": [
              "<matplotlib.legend.Legend at 0x7f5dccfd3e10>"
            ]
          },
          "metadata": {
            "tags": []
          },
          "execution_count": 20
        },
        {
          "output_type": "display_data",
          "data": {
            "image/png": "[encoded data removed]",
            "text/plain": [
              "<Figure size 432x288 with 1 Axes>"
            ]
          },
          "metadata": {
            "tags": []
          }
        }
      ]
    },
    {
      "cell_type": "code",
      "metadata": {
        "id": "BX4b8Q-YeUfw",
        "outputId": "11b9ac28-f45f-4fa7-ab31-86633f83da03",
        "colab": {
          "base_uri": "https://localhost:8080/",
          "height": 301
        }
      },
      "source": [
        "x = np.linspace(0, N_EPOCHS,N_EPOCHS)\n",
        "\n",
        "plt.plot(x,tacc)\n",
        "plt.plot(x,vacc)\n",
        "plt.title(\"Accuracy\")\n",
        "plt.legend([\"Train acc\", \"Valid acc\"])"
      ],
      "execution_count": 21,
      "outputs": [
        {
          "output_type": "execute_result",
          "data": {
            "text/plain": [
              "<matplotlib.legend.Legend at 0x7f5dcd5dd2b0>"
            ]
          },
          "metadata": {
            "tags": []
          },
          "execution_count": 21
        },
        {
          "output_type": "display_data",
          "data": {
            "image/png": "[encoded data removed]",
            "text/plain": [
              "<Figure size 432x288 with 1 Axes>"
            ]
          },
          "metadata": {
            "tags": []
          }
        }
      ]
    },
    {
      "cell_type": "markdown",
      "metadata": {
        "id": "q4Za16d8eUf0"
      },
      "source": [
        "Les hyperparamètres choisis sont : \n",
        "\n",
        "\n",
        "|Embedding dim|Hidden dim|Learning rate|\n",
        "|-------------|----------|-------------|\n",
        "|100           | 100      | 1e-4        |\n"
      ]
    },
    {
      "cell_type": "markdown",
      "metadata": {
        "id": "Ysk_ln28teut"
      },
      "source": [
        "## Tester le modèle"
      ]
    },
    {
      "cell_type": "code",
      "metadata": {
        "id": "aTbFhWLrteut",
        "outputId": "aae44bd3-d73d-4636-9625-c4a8188acb0f",
        "colab": {
          "base_uri": "https://localhost:8080/"
        }
      },
      "source": [
        "model.load_state_dict(torch.load('tut1-model.pt'))\n",
        "\n",
        "test_loss, test_acc = evaluate(model, test_iterator, criterion)\n",
        "\n",
        "print(f'Test Loss: {test_loss:.3f} | Test Acc: {test_acc*100:.2f}%')"
      ],
      "execution_count": 22,
      "outputs": [
        {
          "output_type": "stream",
          "text": [
            "Test Loss: 0.601 | Test Acc: 69.36%\n"
          ],
          "name": "stdout"
        }
      ]
    },
    {
      "cell_type": "markdown",
      "metadata": {
        "id": "LAEcRnQjeUf4"
      },
      "source": [
        "### Inférence\n",
        "\n",
        "Notre fonction predict_sentiment fait plusieurs choses:\n",
        "\n",
        " - définit le modèle en mode d'évaluation\n",
        " - tokenise la phrase, c'est-à-dire la divise d'une chaîne brute en une liste de jetons\n",
        " - indexe les jetons en les convertissant en leur représentation entière à partir de notre vocabulaire\n",
        " - obtient la longueur de notre séquence\n",
        " - convertit les index, qui sont une liste Python en un tenseur PyTorch\n",
        " - ajouter une dimension de lot en relâchant\n",
        " - convertit la longueur en un tenseur\n",
        " - écrase la prédiction de sortie d'un nombre réel compris entre 0 et 1 avec la fonction sigmoïde\n",
        " - convertit le tenseur contenant une valeur unique en un entier avec la méthode item ()\n",
        "\n",
        "Nous nous attendons à ce que les avis avec un sentiment négatif renvoient une valeur proche de 0 et les avis positifs renvoient une valeur proche de 1."
      ]
    },
    {
      "cell_type": "code",
      "metadata": {
        "id": "xKYN42DxeUf5"
      },
      "source": [
        "import spacy\n",
        "nlp = spacy.load('en')\n",
        "import torch.nn.functional as F\n",
        "def predict_sentiment(model, sentence):\n",
        "    model.eval()\n",
        "    tokenized = [tok.text for tok in nlp.tokenizer(sentence)]\n",
        "    indexed = [TEXT.vocab.stoi[t] for t in tokenized]\n",
        "    length = [len(indexed)]\n",
        "    tensor = torch.LongTensor(indexed).to(device)\n",
        "    tensor = tensor.unsqueeze(1)\n",
        "    length_tensor = torch.LongTensor(length)\n",
        "    prediction = torch.sigmoid(model(tensor))\n",
        "    return 1 - prediction.item()\n",
        "\n",
        "def predict_sentiment(model, sentence):\n",
        "    model.eval()\n",
        "    tokenized = [tok.text for tok in nlp.tokenizer(sentence)]\n",
        "    indexed = [TEXT.vocab.stoi[t] for t in tokenized]\n",
        "    length = [len(indexed)]\n",
        "    tensor = torch.LongTensor(indexed).to(device)\n",
        "    tensor = tensor.unsqueeze(0)\n",
        "    length_tensor = torch.LongTensor(length)\n",
        "    prediction = model(tensor)\n",
        "    out = F.softmax(prediction, 1)\n",
        "    if (torch.argmax(out[0]) == 0):\n",
        "        print (\"Sentiment: Positive\")\n",
        "    else:\n",
        "        print (\"Sentiment: Negative\")\n"
      ],
      "execution_count": 23,
      "outputs": []
    },
    {
      "cell_type": "code",
      "metadata": {
        "id": "sYRv73e0eUf8",
        "outputId": "01f5c5e6-89f2-470e-be92-eb633ea5b05b",
        "colab": {
          "base_uri": "https://localhost:8080/"
        }
      },
      "source": [
        "predict_sentiment(model, \"This film is terrible\")"
      ],
      "execution_count": 24,
      "outputs": [
        {
          "output_type": "stream",
          "text": [
            "Sentiment: Positive\n"
          ],
          "name": "stdout"
        }
      ]
    },
    {
      "cell_type": "code",
      "metadata": {
        "id": "HTDVeg5deUf_",
        "outputId": "a63748f4-dd17-4929-a632-0dc0ded14bfa",
        "colab": {
          "base_uri": "https://localhost:8080/"
        }
      },
      "source": [
        "predict_sentiment(model, \"This film is great\")"
      ],
      "execution_count": 25,
      "outputs": [
        {
          "output_type": "stream",
          "text": [
            "Sentiment: Positive\n"
          ],
          "name": "stdout"
        }
      ]
    },
    {
      "cell_type": "code",
      "metadata": {
        "id": "oFY-ZfmOeUgC",
        "outputId": "7c5d8736-284f-4525-90e2-7006c77df865",
        "colab": {
          "base_uri": "https://localhost:8080/"
        }
      },
      "source": [
        "predict_sentiment(model, \"This film is not good\")"
      ],
      "execution_count": 26,
      "outputs": [
        {
          "output_type": "stream",
          "text": [
            "Sentiment: Positive\n"
          ],
          "name": "stdout"
        }
      ]
    },
    {
      "cell_type": "markdown",
      "metadata": {
        "id": "B8b_kAkweUgF"
      },
      "source": [
        "On remarque que ce modèle nous donne de mauvais résultats. En utilisant un modèle plus avancé on obtiendrait de meilleurs résultats."
      ]
    },
    {
      "cell_type": "markdown",
      "metadata": {
        "id": "47WoZLMweUgG"
      },
      "source": [
        "## Réference : \n",
        "\n",
        " - https://github.com/bentrevett/pytorch-sentiment-analysis/blob/master/1%20-%20Simple%20Sentiment%20Analysis.ipynb\n"
      ]
    }
  ]
}