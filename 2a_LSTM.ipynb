{
  "nbformat": 4,
  "nbformat_minor": 0,
  "metadata": {
    "kernelspec": {
      "display_name": "Python 3",
      "language": "python",
      "name": "python3"
    },
    "language_info": {
      "codemirror_mode": {
        "name": "ipython",
        "version": 3
      },
      "file_extension": ".py",
      "mimetype": "text/x-python",
      "name": "python",
      "nbconvert_exporter": "python",
      "pygments_lexer": "ipython3",
      "version": "3.7.6"
    },
    "colab": {
      "name": "2a-LSTM.ipynb",
      "provenance": [],
      "collapsed_sections": []
    },
    "accelerator": "GPU"
  },
  "cells": [
    {
      "cell_type": "markdown",
      "metadata": {
        "id": "KjF3eR98jHH6"
      },
      "source": [
        "# LSTM\n",
        "\n",
        "Dans ce notebook, nous utilisons un modèle de réseau de neurones récurrents particulier, le **LSTM**. Voir [cet article](https://penseeartificielle.fr/comprendre-lstm-gru-fonctionnement-schema/) pour comprendre l'architecture du LSTM.\n",
        "## Importer et préparer des données\n",
        "\n",
        "La première étape est la même que dans le notebook précédent.\n",
        "\n",
        "La seule différence est que nous définissons `include_lengths = True` pour notre champ `TEXT`. Cela fera que `batch.text` sera maintenant un tuple avec le premier élément étant notre phrase et le deuxième élément étant les longueurs réelles de nos phrases."
      ]
    },
    {
      "cell_type": "code",
      "metadata": {
        "id": "6ty8CnUHjHH7",
        "outputId": "5d56bf31-ca35-4dbb-c5e9-1f04d6e8e19c",
        "colab": {
          "base_uri": "https://localhost:8080/"
        }
      },
      "source": [
        "import pandas as pd\n",
        "import torch\n",
        "from torchtext import data\n",
        "from torchtext import datasets\n",
        "import random\n",
        "# pour la reproductibilité\n",
        "SEED = 1234\n",
        "torch.manual_seed(SEED)\n",
        "torch.backends.cudnn.deterministic = True\n",
        "\n",
        "TEXT = data.Field(sequential=True,lower=True, tokenize = 'spacy', include_lengths=True)\n",
        "LABEL = data.LabelField(dtype = torch.float)\n",
        "\n",
        "train_data, test_data = datasets.IMDB.splits(TEXT, LABEL)\n",
        "test_data, valid_data = test_data.split(random_state = random.seed(1234))\n",
        "\n",
        "print(f'Taille des données train: {len(train_data)}')\n",
        "print(f'Taille des données de validation: {len(valid_data)}')\n",
        "print(f'Taille des données test: {len(test_data)}')"
      ],
      "execution_count": 1,
      "outputs": [
        {
          "output_type": "stream",
          "text": [
            "Taille des données train: 25000\n",
            "Taille des données de validation: 7500\n",
            "Taille des données test: 17500\n"
          ],
          "name": "stdout"
        }
      ]
    },
    {
      "cell_type": "markdown",
      "metadata": {
        "id": "Dddw9vEOjHIA"
      },
      "source": [
        "## Vocabulaire\n",
        "\n"
      ]
    },
    {
      "cell_type": "markdown",
      "metadata": {
        "id": "Yeq1E1wYjHIA"
      },
      "source": [
        "Vient ensuite l'utilisation de word embeding pré-entraînées. Maintenant, au lieu d'avoir nos embeddings de mots initialisés au hasard, ils sont initialisés avec ces vecteurs pré-entraînés. Nous obtenons ces vecteurs simplement en spécifiant quels vecteurs nous voulons et en les passant comme argument à `build_vocab`. `TorchText` gère le téléchargement des vecteurs et les associe aux mots corrects de notre vocabulaire.\n",
        "\n",
        "Ici, nous allons utiliser les \"vecteurs\" glove.6B.100d. **GloVe** est l'algorithme utilisé pour calculer les vecteurs. 6B indique que ces vecteurs ont été entraînés sur 6 milliards de tokens et 100d indique que ces vecteurs sont 100 -dimensionnelle. Pour plus d'informations sur la représentation GloVe, lire [cet article](https://nlp.stanford.edu/projects/glove/)."
      ]
    },
    {
      "cell_type": "code",
      "metadata": {
        "id": "gtswE6TmjHIB"
      },
      "source": [
        "MAX_VOCAB_SIZE = 50_000\n",
        "\n",
        "TEXT.build_vocab(train_data, \n",
        "                 max_size = MAX_VOCAB_SIZE, \n",
        "                 vectors = \"glove.6B.100d\", \n",
        "                 unk_init = torch.Tensor.normal_)\n",
        "LABEL.build_vocab(train_data)"
      ],
      "execution_count": 2,
      "outputs": []
    },
    {
      "cell_type": "markdown",
      "metadata": {
        "id": "tBhJQNBMjHIF"
      },
      "source": [
        "## Itérateur\n",
        "\n",
        "Ici tous les tenseurs d'un batch doivent être triés par leurs longueurs. Ceci est géré dans l'itérateur en définissant `sort_within_batch = True`."
      ]
    },
    {
      "cell_type": "code",
      "metadata": {
        "id": "N79xNbNfjHIG"
      },
      "source": [
        "BATCH_SIZE = 32\n",
        "\n",
        "device = torch.device('cuda' if torch.cuda.is_available() else 'cpu')\n",
        "#device = 'cpu'\n",
        "train_iterator, valid_iterator, test_iterator = data.BucketIterator.splits(\n",
        "    (train_data, valid_data, test_data), \n",
        "    batch_size = BATCH_SIZE,\n",
        "    device = device,sort_key=lambda x: len(x.text),\n",
        "    sort_within_batch = True)"
      ],
      "execution_count": 3,
      "outputs": []
    },
    {
      "cell_type": "markdown",
      "metadata": {
        "id": "xWfVXDc0jHIK"
      },
      "source": [
        "## Modèle\n",
        "\n",
        "Dans ce modèle, on utilise le LSTM au lieu d'un RNN simple. En effet, les RNN standard souffrent du problème de disparition du gradient. Les LSTM surmontent ce problème en ayant un état récurrent supplémentaire appelé cellule, $c$  qui peut être considéré comme la «mémoire» du LSTM et en utilisant plusieurs portes (gates) qui contrôlent le flux d'informations dans et hors de la mémoire. Nous pouvons simplement considérer le LSTM comme une fonction de $x_t$, $h_t$ et $c_t$, au lieu de seulement $x_t$ et $h_t$. \n",
        "$$(h_t, c_t) = \\text{LSTM}(x_t, h_t, c_t)$$\n",
        "L'état initial de la cellule, $c_0$, comme l'état caché initial est initialisé à un tenseur égal à zéro. Cependant, la prédiction de sentiment n'est faite qu'en utilisant l'état caché final, c'est-à-dire $\\hat {y} = f (h_T)$.\n",
        "\n",
        "De plus ce modèle est :  \n",
        " - **Bidirectionnel** :  en plus d'avoir un modèle LSTM traitant les mots du commentaire du premier au dernier (LSTM forward), on introduit un second modèle LSTM traitant les mots du dernier au premier (LSTM backward). Au pas de temps $t$, le LSTM forward traite le mot $x_t$, et le LSTM backward traite le mot $x_ {T-t + 1}$. La prédiction du sentiment est réalisée en utilisant une concaténation du dernier état caché du LSTM forward (obtenu à partir du dernier mot de la phrase), $ h_T ^ \\rightarrow $, et le dernier état caché du LSTM backward (obtenu à partir du premier mot de la phrase), $ h_T ^ \\leftarrow $ on le donne à une couche $f$, pour recevoir notre sentiment prédit, $\\hat{y}=f(h_T^\\rightarrow, h_T^\\leftarrow)$;\n",
        " - **Multi-couches** : nous ajoutons des LSTM supplémentaires en plus du LSTM standard initial, où chaque LSTM ajouté est une autre couche. La sortie d'état caché par le premier LSTM (inférieur) au pas de temps $t$ sera l'entrée du LSTM au-dessus de lui au pas de temps $ t $. La prédiction est alors faite à partir de l'état caché final de la couche finale (la plus haute).\n",
        " \n",
        "On fait également de la **régularisation**. En effet, plus on a de paramètres dans notre modèle, plus la probabilité que notre modèle overfit est élevée (mémoriser les données d'entraînement, provoquant une erreur d'entraînement faible mais une erreur de validation / test élevée, c'est-à-dire une mauvaise généralisation à de nouveaux exemples). Pour lutter contre cela, nous utilisons la régularisation. Plus précisément, nous utilisons une méthode de régularisation appelée **dropout**. Le dropout fonctionne en supprimant aléatoirement (mise à 0) les neurones dans une couche lors d'un passage vers l'avant.\n",
        "\n",
        "Enfin, avant de transmettre les embeddings au LSTM, nous devons faire du padding, c'est-à-dire faire en sorte que les séquences soient de mêmes longueurs au sein d'un même batch. Nous utilisons alors `nn.utils.rnn.packed_padded_sequence`.\n"
      ]
    },
    {
      "cell_type": "code",
      "metadata": {
        "id": "MV4d6W7zjHIL"
      },
      "source": [
        "import torch.nn as nn\n",
        "\n",
        "class RNN(nn.Module):\n",
        "    def __init__(self, vocab_size, embedding_dim, hidden_dim, output_dim, n_layers, \n",
        "                 bidirectional, dropout, pad_idx):\n",
        "        \n",
        "        super().__init__()\n",
        "        \n",
        "        self.embedding = nn.Embedding(vocab_size, embedding_dim, padding_idx = pad_idx)\n",
        "        \n",
        "        self.rnn = nn.LSTM(embedding_dim, \n",
        "                           hidden_dim, \n",
        "                           num_layers=n_layers, \n",
        "                           bidirectional=bidirectional, \n",
        "                           dropout=dropout)\n",
        "        \n",
        "        self.fc = nn.Linear(hidden_dim * 2, output_dim)\n",
        "        \n",
        "        self.dropout = nn.Dropout(dropout)\n",
        "        \n",
        "    def forward(self, text, text_lengths):\n",
        "        \n",
        "        #text = [sent len, batch size]\n",
        "        embedded = self.dropout(self.embedding(text))    \n",
        "        #embedded = [sent len, batch size, emb dim]\n",
        "        \n",
        "        packed_embedded = nn.utils.rnn.pack_padded_sequence(embedded, text_lengths)\n",
        "        packed_output, (hidden, cell) = self.rnn(packed_embedded)\n",
        "        output, output_lengths = nn.utils.rnn.pad_packed_sequence(packed_output)\n",
        "\n",
        "        #output = [sent len, batch size, hid dim * num directions]   \n",
        "        #hidden = [num layers * num directions, batch size, hid dim]\n",
        "        #cell = [num layers * num directions, batch size, hid dim]\n",
        "        \n",
        "        hidden = self.dropout(torch.cat((hidden[-2,:,:], hidden[-1,:,:]), dim = 1))           \n",
        "        #hidden = [batch size, hid dim * num directions]\n",
        "            \n",
        "        return self.fc(hidden)"
      ],
      "execution_count": 4,
      "outputs": []
    },
    {
      "cell_type": "markdown",
      "metadata": {
        "id": "pTPw5h_EjHIP"
      },
      "source": [
        "Comme auparavant, nous allons créer une instance de notre classe RNN, avec les nouveaux paramètres et arguments pour le nombre de couches, la bidirectionnalité et la probabilité de dropout.\n",
        "Pour garantir que les vecteurs pré-entraînés peuvent être chargés dans le modèle, `EMBEDDING_DIM` doit être égal à celui des vecteurs GloVe pré-entraînés chargés précédemment."
      ]
    },
    {
      "cell_type": "code",
      "metadata": {
        "id": "7zwmx8iPjHIP",
        "outputId": "365c6965-133e-4f7b-c835-4c47fa4f9175",
        "colab": {
          "base_uri": "https://localhost:8080/"
        }
      },
      "source": [
        "INPUT_DIM = len(TEXT.vocab)\n",
        "EMBEDDING_DIM = 100\n",
        "HIDDEN_DIM = 100\n",
        "OUTPUT_DIM = 1\n",
        "N_LAYERS = 2\n",
        "BIDIRECTIONAL = True\n",
        "DROPOUT = 0.6\n",
        "PAD_IDX = TEXT.vocab.stoi[TEXT.pad_token]\n",
        "\n",
        "model = RNN(INPUT_DIM, EMBEDDING_DIM, HIDDEN_DIM, OUTPUT_DIM, N_LAYERS, BIDIRECTIONAL, DROPOUT, PAD_IDX)\n",
        "\n",
        "def count_parameters(model):\n",
        "    return sum(p.numel() for p in model.parameters() if p.requires_grad)\n",
        "\n",
        "print(f'Le modèle a {count_parameters(model):,} paramètres à entraîner')"
      ],
      "execution_count": 5,
      "outputs": [
        {
          "output_type": "stream",
          "text": [
            "Le modèle a 5,403,601 paramètres à entraîner\n"
          ],
          "name": "stdout"
        }
      ]
    },
    {
      "cell_type": "markdown",
      "metadata": {
        "id": "YQnutTevjHIT"
      },
      "source": [
        "Le dernier ajout consiste à copier les embeddings de mots pré-entraînées que nous avons chargées précédemment dans la couche d'embedding de notre modèle.\n",
        "Nous récupérons les embeddings à partir du vocabulaire de `Field` et vérifions qu'elles sont de la bonne taille, **[taille du vocabulaire,dim embedding]**\n",
        "\n",
        "Comme nos tokens `<unk>` et `<pad>` ne sont pas dans le vocabulaire pré-entraîné, ils ont été initialisés en utilisant `unk_init` (une distribution $ \\mathcal {N} (0,1) $) lors de la construction de notre vocabulaire. Il est préférable de les initialiser tous les deux à zéros pour indiquer explicitement à notre modèle que, au départ, ils ne sont pas pertinents pour déterminer le sentiment.\n"
      ]
    },
    {
      "cell_type": "code",
      "metadata": {
        "id": "zZkRrBVVjHIU"
      },
      "source": [
        "pretrained_embeddings = TEXT.vocab.vectors\n",
        "model.embedding.weight.data.copy_(pretrained_embeddings)\n",
        "\n",
        "UNK_IDX = TEXT.vocab.stoi[TEXT.unk_token]\n",
        "\n",
        "model.embedding.weight.data[UNK_IDX] = torch.zeros(EMBEDDING_DIM)\n",
        "model.embedding.weight.data[PAD_IDX] = torch.zeros(EMBEDDING_DIM)"
      ],
      "execution_count": 6,
      "outputs": []
    },
    {
      "cell_type": "markdown",
      "metadata": {
        "id": "ILITLc7xjHIa"
      },
      "source": [
        "## Métriques\n",
        "\n",
        "On utilise l'**accuracy** comme métrique."
      ]
    },
    {
      "cell_type": "code",
      "metadata": {
        "id": "noTKuZCMjHIa"
      },
      "source": [
        "def binary_accuracy(preds, y):\n",
        "    rounded_preds = torch.round(torch.sigmoid(preds))\n",
        "    correct = (rounded_preds == y).float()\n",
        "    acc = correct.sum() / len(correct)\n",
        "    return acc"
      ],
      "execution_count": 7,
      "outputs": []
    },
    {
      "cell_type": "markdown",
      "metadata": {
        "id": "rwgZV1sHjHIe"
      },
      "source": [
        "## Optimiseur et fonction de perte"
      ]
    },
    {
      "cell_type": "code",
      "metadata": {
        "id": "oB7vHa-OjHIe"
      },
      "source": [
        "import torch.optim as optim\n",
        "\n",
        "def optimiseur(model, lr=1e-4, eps=1e-6, weight_decay_rate=0.001, second_weight_decay_rate=0.0):\n",
        "    param_optimizer = list(model.named_parameters())\n",
        "    no_decay = ['bias', 'gamma', 'beta']\n",
        "    optimizer_grouped_parameters = [\n",
        "        {'params': [p for n, p in param_optimizer if not any(nd in n for nd in no_decay)],\n",
        "            'weight_decay_rate': weight_decay_rate},\n",
        "        {'params': [p for n, p in param_optimizer if any(nd in n for nd in no_decay)],\n",
        "            'weight_decay_rate': second_weight_decay_rate}]\n",
        "    return optim.Adam(\n",
        "        optimizer_grouped_parameters,\n",
        "        lr=lr,\n",
        "        eps=eps\n",
        "    )\n",
        "\n",
        "optimizer = optimiseur(model, lr=1e-4, eps=1e-6, weight_decay_rate=0.001, second_weight_decay_rate=0.0)\n",
        "scheduler = optim.lr_scheduler.StepLR(optimizer, step_size=10, gamma=0.5)\n",
        "criterion = nn.BCEWithLogitsLoss()\n",
        "model = model.to(device)\n",
        "criterion = criterion.to(device)"
      ],
      "execution_count": 8,
      "outputs": []
    },
    {
      "cell_type": "markdown",
      "metadata": {
        "id": "BL0_L04WjHIh"
      },
      "source": [
        "## Entraîner le modèle"
      ]
    },
    {
      "cell_type": "code",
      "metadata": {
        "id": "SLJOULurjHIi",
        "outputId": "c163e8d0-466c-4cb1-fbcc-20d7ae73ef31",
        "colab": {
          "base_uri": "https://localhost:8080/"
        }
      },
      "source": [
        "def train(model, iterator, optimizer, criterion):\n",
        "    \n",
        "    epoch_loss = 0\n",
        "    epoch_acc = 0\n",
        "    \n",
        "    model.train()\n",
        "    \n",
        "    for batch in iterator:\n",
        "        \n",
        "        optimizer.zero_grad()\n",
        "        text, text_lengths = batch.text       \n",
        "        predictions = model(text, text_lengths.to('cpu')).squeeze(1)\n",
        "        loss = criterion(predictions, batch.label)\n",
        "        \n",
        "        acc = binary_accuracy(predictions, batch.label)\n",
        "        \n",
        "        loss.backward()\n",
        "        \n",
        "        optimizer.step()\n",
        "        \n",
        "        epoch_loss += loss.item()\n",
        "        epoch_acc += acc.item()     \n",
        "        \n",
        "    return epoch_loss / len(iterator), epoch_acc / len(iterator)\n",
        "\n",
        "def evaluate(model, iterator, criterion):\n",
        "    \n",
        "    epoch_loss = 0\n",
        "    epoch_acc = 0\n",
        "    \n",
        "    model.eval()\n",
        "    \n",
        "    with torch.no_grad():\n",
        "    \n",
        "        for batch in iterator:\n",
        "            \n",
        "            text, text_lengths = batch.text       \n",
        "            predictions = model(text, text_lengths.to('cpu')).squeeze(1) \n",
        "            loss = criterion(predictions, batch.label)    \n",
        "\n",
        "            acc = binary_accuracy(predictions, batch.label)\n",
        "            \n",
        "            epoch_loss += loss.item()\n",
        "            epoch_acc += acc.item()\n",
        "        \n",
        "    return epoch_loss / len(iterator), epoch_acc / len(iterator)\n",
        "\n",
        "import time\n",
        "\n",
        "def epoch_time(start_time, end_time):\n",
        "    elapsed_time = end_time - start_time\n",
        "    elapsed_mins = int(elapsed_time / 60)\n",
        "    elapsed_secs = int(elapsed_time - (elapsed_mins * 60))\n",
        "    return elapsed_mins, elapsed_secs\n",
        "\n",
        "\n",
        "N_EPOCHS = 50\n",
        "\n",
        "best_valid_loss = float('inf')\n",
        "tloss = []\n",
        "tacc = []\n",
        "vloss = []\n",
        "vacc = []\n",
        "for epoch in range(N_EPOCHS):\n",
        "\n",
        "    start_time = time.time()\n",
        "    \n",
        "    train_loss, train_acc = train(model, train_iterator, optimizer, criterion)\n",
        "    tloss.append(train_loss)\n",
        "    tacc.append(train_acc)  \n",
        "    \n",
        "    scheduler.step()\n",
        "    valid_loss, valid_acc = evaluate(model, valid_iterator, criterion)\n",
        "    vloss.append(valid_loss)\n",
        "    vacc.append(valid_acc)     \n",
        "    end_time = time.time()\n",
        "\n",
        "    epoch_mins, epoch_secs = epoch_time(start_time, end_time)\n",
        "    \n",
        "    if valid_loss < best_valid_loss:\n",
        "        best_valid_loss = valid_loss\n",
        "        torch.save(model.state_dict(), 'tut2-model.pt')\n",
        "    \n",
        "    print(f'Epoch: {epoch+1:02} | Epoch Time: {epoch_mins}m {epoch_secs}s')\n",
        "    print(f'\\tTrain Loss: {train_loss:.3f} | Train Acc: {train_acc*100:.2f}%')\n",
        "    print(f'\\t Val. Loss: {valid_loss:.3f} |  Val. Acc: {valid_acc*100:.2f}%')"
      ],
      "execution_count": 14,
      "outputs": [
        {
          "output_type": "stream",
          "text": [
            "Epoch: 01 | Epoch Time: 0m 51s\n",
            "\tTrain Loss: 0.408 | Train Acc: 82.45%\n",
            "\t Val. Loss: 0.429 |  Val. Acc: 82.03%\n",
            "Epoch: 02 | Epoch Time: 0m 50s\n",
            "\tTrain Loss: 0.393 | Train Acc: 83.00%\n",
            "\t Val. Loss: 0.392 |  Val. Acc: 83.95%\n",
            "Epoch: 03 | Epoch Time: 0m 51s\n",
            "\tTrain Loss: 0.382 | Train Acc: 83.63%\n",
            "\t Val. Loss: 0.383 |  Val. Acc: 84.60%\n",
            "Epoch: 04 | Epoch Time: 0m 51s\n",
            "\tTrain Loss: 0.379 | Train Acc: 83.62%\n",
            "\t Val. Loss: 0.364 |  Val. Acc: 84.83%\n",
            "Epoch: 05 | Epoch Time: 0m 50s\n",
            "\tTrain Loss: 0.366 | Train Acc: 84.51%\n",
            "\t Val. Loss: 0.373 |  Val. Acc: 85.11%\n",
            "Epoch: 06 | Epoch Time: 0m 50s\n",
            "\tTrain Loss: 0.367 | Train Acc: 84.22%\n",
            "\t Val. Loss: 0.367 |  Val. Acc: 85.07%\n",
            "Epoch: 07 | Epoch Time: 0m 50s\n",
            "\tTrain Loss: 0.362 | Train Acc: 84.64%\n",
            "\t Val. Loss: 0.360 |  Val. Acc: 85.11%\n",
            "Epoch: 08 | Epoch Time: 0m 51s\n",
            "\tTrain Loss: 0.352 | Train Acc: 85.00%\n",
            "\t Val. Loss: 0.359 |  Val. Acc: 85.41%\n",
            "Epoch: 09 | Epoch Time: 0m 50s\n",
            "\tTrain Loss: 0.354 | Train Acc: 84.89%\n",
            "\t Val. Loss: 0.359 |  Val. Acc: 84.98%\n",
            "Epoch: 10 | Epoch Time: 0m 50s\n",
            "\tTrain Loss: 0.349 | Train Acc: 85.32%\n",
            "\t Val. Loss: 0.372 |  Val. Acc: 85.52%\n",
            "Epoch: 11 | Epoch Time: 0m 50s\n",
            "\tTrain Loss: 0.344 | Train Acc: 85.49%\n",
            "\t Val. Loss: 0.359 |  Val. Acc: 85.70%\n",
            "Epoch: 12 | Epoch Time: 0m 50s\n",
            "\tTrain Loss: 0.342 | Train Acc: 85.73%\n",
            "\t Val. Loss: 0.358 |  Val. Acc: 85.85%\n",
            "Epoch: 13 | Epoch Time: 0m 51s\n",
            "\tTrain Loss: 0.337 | Train Acc: 85.92%\n",
            "\t Val. Loss: 0.352 |  Val. Acc: 85.73%\n",
            "Epoch: 14 | Epoch Time: 0m 50s\n",
            "\tTrain Loss: 0.338 | Train Acc: 85.88%\n",
            "\t Val. Loss: 0.352 |  Val. Acc: 85.87%\n",
            "Epoch: 15 | Epoch Time: 0m 51s\n",
            "\tTrain Loss: 0.337 | Train Acc: 85.86%\n",
            "\t Val. Loss: 0.359 |  Val. Acc: 85.45%\n",
            "Epoch: 16 | Epoch Time: 0m 50s\n",
            "\tTrain Loss: 0.335 | Train Acc: 85.81%\n",
            "\t Val. Loss: 0.344 |  Val. Acc: 86.51%\n",
            "Epoch: 17 | Epoch Time: 0m 50s\n",
            "\tTrain Loss: 0.332 | Train Acc: 86.29%\n",
            "\t Val. Loss: 0.345 |  Val. Acc: 86.35%\n",
            "Epoch: 18 | Epoch Time: 0m 50s\n",
            "\tTrain Loss: 0.328 | Train Acc: 86.15%\n",
            "\t Val. Loss: 0.338 |  Val. Acc: 86.64%\n",
            "Epoch: 19 | Epoch Time: 0m 50s\n",
            "\tTrain Loss: 0.326 | Train Acc: 86.27%\n",
            "\t Val. Loss: 0.338 |  Val. Acc: 86.79%\n",
            "Epoch: 20 | Epoch Time: 0m 50s\n",
            "\tTrain Loss: 0.324 | Train Acc: 86.46%\n",
            "\t Val. Loss: 0.334 |  Val. Acc: 86.58%\n",
            "Epoch: 21 | Epoch Time: 0m 50s\n",
            "\tTrain Loss: 0.324 | Train Acc: 86.30%\n",
            "\t Val. Loss: 0.333 |  Val. Acc: 86.60%\n",
            "Epoch: 22 | Epoch Time: 0m 50s\n",
            "\tTrain Loss: 0.318 | Train Acc: 86.75%\n",
            "\t Val. Loss: 0.354 |  Val. Acc: 86.37%\n",
            "Epoch: 23 | Epoch Time: 0m 50s\n",
            "\tTrain Loss: 0.318 | Train Acc: 86.62%\n",
            "\t Val. Loss: 0.335 |  Val. Acc: 86.71%\n",
            "Epoch: 24 | Epoch Time: 0m 50s\n",
            "\tTrain Loss: 0.318 | Train Acc: 86.74%\n",
            "\t Val. Loss: 0.335 |  Val. Acc: 86.80%\n",
            "Epoch: 25 | Epoch Time: 0m 50s\n",
            "\tTrain Loss: 0.320 | Train Acc: 86.45%\n",
            "\t Val. Loss: 0.338 |  Val. Acc: 86.92%\n",
            "Epoch: 26 | Epoch Time: 0m 50s\n",
            "\tTrain Loss: 0.317 | Train Acc: 86.76%\n",
            "\t Val. Loss: 0.337 |  Val. Acc: 86.60%\n",
            "Epoch: 27 | Epoch Time: 0m 50s\n",
            "\tTrain Loss: 0.320 | Train Acc: 86.76%\n",
            "\t Val. Loss: 0.330 |  Val. Acc: 86.78%\n",
            "Epoch: 28 | Epoch Time: 0m 49s\n",
            "\tTrain Loss: 0.311 | Train Acc: 87.38%\n",
            "\t Val. Loss: 0.334 |  Val. Acc: 86.62%\n",
            "Epoch: 29 | Epoch Time: 0m 50s\n",
            "\tTrain Loss: 0.318 | Train Acc: 86.79%\n",
            "\t Val. Loss: 0.332 |  Val. Acc: 86.72%\n",
            "Epoch: 30 | Epoch Time: 0m 49s\n",
            "\tTrain Loss: 0.307 | Train Acc: 87.32%\n",
            "\t Val. Loss: 0.339 |  Val. Acc: 86.58%\n",
            "Epoch: 31 | Epoch Time: 0m 49s\n",
            "\tTrain Loss: 0.313 | Train Acc: 86.92%\n",
            "\t Val. Loss: 0.324 |  Val. Acc: 87.07%\n",
            "Epoch: 32 | Epoch Time: 0m 49s\n",
            "\tTrain Loss: 0.310 | Train Acc: 87.16%\n",
            "\t Val. Loss: 0.330 |  Val. Acc: 86.80%\n",
            "Epoch: 33 | Epoch Time: 0m 49s\n",
            "\tTrain Loss: 0.309 | Train Acc: 86.96%\n",
            "\t Val. Loss: 0.327 |  Val. Acc: 86.95%\n",
            "Epoch: 34 | Epoch Time: 0m 49s\n",
            "\tTrain Loss: 0.306 | Train Acc: 87.38%\n",
            "\t Val. Loss: 0.326 |  Val. Acc: 87.15%\n",
            "Epoch: 35 | Epoch Time: 0m 49s\n",
            "\tTrain Loss: 0.310 | Train Acc: 87.08%\n",
            "\t Val. Loss: 0.323 |  Val. Acc: 87.29%\n",
            "Epoch: 36 | Epoch Time: 0m 50s\n",
            "\tTrain Loss: 0.314 | Train Acc: 86.94%\n",
            "\t Val. Loss: 0.324 |  Val. Acc: 87.04%\n",
            "Epoch: 37 | Epoch Time: 0m 49s\n",
            "\tTrain Loss: 0.309 | Train Acc: 87.22%\n",
            "\t Val. Loss: 0.323 |  Val. Acc: 87.36%\n",
            "Epoch: 38 | Epoch Time: 0m 49s\n",
            "\tTrain Loss: 0.309 | Train Acc: 87.28%\n",
            "\t Val. Loss: 0.319 |  Val. Acc: 87.40%\n",
            "Epoch: 39 | Epoch Time: 0m 49s\n",
            "\tTrain Loss: 0.306 | Train Acc: 87.40%\n",
            "\t Val. Loss: 0.325 |  Val. Acc: 87.34%\n",
            "Epoch: 40 | Epoch Time: 0m 49s\n",
            "\tTrain Loss: 0.307 | Train Acc: 87.10%\n",
            "\t Val. Loss: 0.320 |  Val. Acc: 87.30%\n",
            "Epoch: 41 | Epoch Time: 0m 49s\n",
            "\tTrain Loss: 0.306 | Train Acc: 87.28%\n",
            "\t Val. Loss: 0.323 |  Val. Acc: 87.32%\n",
            "Epoch: 42 | Epoch Time: 0m 49s\n",
            "\tTrain Loss: 0.305 | Train Acc: 87.40%\n",
            "\t Val. Loss: 0.322 |  Val. Acc: 87.40%\n",
            "Epoch: 43 | Epoch Time: 0m 49s\n",
            "\tTrain Loss: 0.304 | Train Acc: 87.29%\n",
            "\t Val. Loss: 0.324 |  Val. Acc: 87.37%\n",
            "Epoch: 44 | Epoch Time: 0m 48s\n",
            "\tTrain Loss: 0.301 | Train Acc: 87.46%\n",
            "\t Val. Loss: 0.322 |  Val. Acc: 87.42%\n",
            "Epoch: 45 | Epoch Time: 0m 48s\n",
            "\tTrain Loss: 0.304 | Train Acc: 87.41%\n",
            "\t Val. Loss: 0.323 |  Val. Acc: 87.50%\n",
            "Epoch: 46 | Epoch Time: 0m 48s\n",
            "\tTrain Loss: 0.310 | Train Acc: 87.20%\n",
            "\t Val. Loss: 0.321 |  Val. Acc: 87.41%\n",
            "Epoch: 47 | Epoch Time: 0m 48s\n",
            "\tTrain Loss: 0.306 | Train Acc: 87.43%\n",
            "\t Val. Loss: 0.321 |  Val. Acc: 87.48%\n",
            "Epoch: 48 | Epoch Time: 0m 48s\n",
            "\tTrain Loss: 0.305 | Train Acc: 87.40%\n",
            "\t Val. Loss: 0.323 |  Val. Acc: 87.50%\n",
            "Epoch: 49 | Epoch Time: 0m 48s\n",
            "\tTrain Loss: 0.310 | Train Acc: 87.34%\n",
            "\t Val. Loss: 0.322 |  Val. Acc: 87.38%\n",
            "Epoch: 50 | Epoch Time: 0m 48s\n",
            "\tTrain Loss: 0.306 | Train Acc: 87.27%\n",
            "\t Val. Loss: 0.321 |  Val. Acc: 87.54%\n"
          ],
          "name": "stdout"
        }
      ]
    },
    {
      "cell_type": "code",
      "metadata": {
        "id": "y4LxEOgejHIn",
        "outputId": "8a7e94ba-0c32-4a27-b832-027d8d6c664d",
        "colab": {
          "base_uri": "https://localhost:8080/",
          "height": 301
        }
      },
      "source": [
        "import seaborn as sns\n",
        "import matplotlib.pyplot as plt \n",
        "import numpy as np \n",
        "sns.set()\n",
        "\n",
        "x = np.linspace(0, N_EPOCHS,N_EPOCHS)\n",
        "\n",
        "plt.plot(x,tloss)\n",
        "plt.plot(x,vloss)\n",
        "plt.title(\"Loss\")\n",
        "plt.legend([\"Train loss\", \"Valid loss\"])"
      ],
      "execution_count": 15,
      "outputs": [
        {
          "output_type": "execute_result",
          "data": {
            "text/plain": [
              "<matplotlib.legend.Legend at 0x7fb78d3c2390>"
            ]
          },
          "metadata": {
            "tags": []
          },
          "execution_count": 15
        },
        {
          "output_type": "display_data",
          "data": {
            "image/png": "[encoded data removed]",
            "text/plain": [
              "<Figure size 432x288 with 1 Axes>"
            ]
          },
          "metadata": {
            "tags": []
          }
        }
      ]
    },
    {
      "cell_type": "code",
      "metadata": {
        "id": "PQUYGyX_jHIq",
        "outputId": "b55bfc6c-3fe6-46de-a6ba-fd7180b157e7",
        "colab": {
          "base_uri": "https://localhost:8080/",
          "height": 301
        }
      },
      "source": [
        "x = np.linspace(0, N_EPOCHS,N_EPOCHS)\n",
        "\n",
        "plt.plot(x,tacc)\n",
        "plt.plot(x,vacc)\n",
        "plt.title(\"Accuracy\")\n",
        "plt.legend([\"Train acc\", \"Valid acc\"])"
      ],
      "execution_count": 16,
      "outputs": [
        {
          "output_type": "execute_result",
          "data": {
            "text/plain": [
              "<matplotlib.legend.Legend at 0x7fb6400b82e8>"
            ]
          },
          "metadata": {
            "tags": []
          },
          "execution_count": 16
        },
        {
          "output_type": "display_data",
          "data": {
            "image/png": "[encoded data removed]",
            "text/plain": [
              "<Figure size 432x288 with 1 Axes>"
            ]
          },
          "metadata": {
            "tags": []
          }
        }
      ]
    },
    {
      "cell_type": "markdown",
      "metadata": {
        "id": "ORHm2tq2jHIu"
      },
      "source": [
        "Les hyperparamètres choisis sont : \n",
        "\n",
        "\n",
        "|Embedding dim|Hidden dim|Learning rate|Number of layers|Dropout|\n",
        "|-------------|----------|-------------|----------------|-------|\n",
        "|100           | 100      | 1e-4        |   2            |  0.6  |\n"
      ]
    },
    {
      "cell_type": "markdown",
      "metadata": {
        "id": "dkGOS1DujHIu"
      },
      "source": [
        "## Tester le modèle"
      ]
    },
    {
      "cell_type": "code",
      "metadata": {
        "id": "jZrK8IqSjHIv",
        "outputId": "385084af-c6a1-48aa-d212-abaee7613d8d",
        "colab": {
          "base_uri": "https://localhost:8080/"
        }
      },
      "source": [
        "model.load_state_dict(torch.load('tut2-model.pt'))\n",
        "test_loss, test_acc = evaluate(model, test_iterator, criterion)\n",
        "\n",
        "print(f'Test Loss: {test_loss:.3f} | Test Acc: {test_acc*100:.2f}%')"
      ],
      "execution_count": 17,
      "outputs": [
        {
          "output_type": "stream",
          "text": [
            "Test Loss: 0.332 | Test Acc: 86.85%\n"
          ],
          "name": "stdout"
        }
      ]
    },
    {
      "cell_type": "markdown",
      "metadata": {
        "id": "j_3mrM2jjHIz"
      },
      "source": [
        "### Inférence"
      ]
    },
    {
      "cell_type": "code",
      "metadata": {
        "id": "CHYGTvxujHIz",
        "outputId": "5faa04c0-9fd7-49bc-f4dd-ddd7d439e863",
        "colab": {
          "base_uri": "https://localhost:8080/"
        }
      },
      "source": [
        "import spacy\n",
        "nlp = spacy.load('en')\n",
        "\n",
        "def predict_sentiment(model, sentence):\n",
        "    model.eval()\n",
        "    tokenized = [tok.text for tok in nlp.tokenizer(sentence)]\n",
        "    indexed = [TEXT.vocab.stoi[t] for t in tokenized]\n",
        "    length = [len(indexed)]\n",
        "    tensor = torch.LongTensor(indexed).to(device)\n",
        "    tensor = tensor.unsqueeze(1)\n",
        "    length_tensor = torch.LongTensor(length)\n",
        "    prediction = torch.sigmoid(model(tensor, length_tensor))\n",
        "    if (prediction.item() > 0.5):\n",
        "      print (\"Sentiment: Positive\")\n",
        "    else:\n",
        "      print (\"Sentiment: Negative\")\n",
        "    \n",
        "predict_sentiment(model, \"This film is great\")"
      ],
      "execution_count": 68,
      "outputs": [
        {
          "output_type": "stream",
          "text": [
            "Sentiment: Positive\n"
          ],
          "name": "stdout"
        }
      ]
    },
    {
      "cell_type": "code",
      "metadata": {
        "id": "dBLD4qYcjHI6",
        "outputId": "ce70f7eb-4586-441b-e444-120b3f0cdcb0",
        "colab": {
          "base_uri": "https://localhost:8080/"
        }
      },
      "source": [
        "predict_sentiment(model, \"This film is terrible\")"
      ],
      "execution_count": 69,
      "outputs": [
        {
          "output_type": "stream",
          "text": [
            "Sentiment: Negative\n"
          ],
          "name": "stdout"
        }
      ]
    },
    {
      "cell_type": "code",
      "metadata": {
        "id": "Y-S19TQ8xXFq"
      },
      "source": [
        ""
      ],
      "execution_count": null,
      "outputs": []
    },
    {
      "cell_type": "code",
      "metadata": {
        "id": "JzUg_vuzjHI9",
        "outputId": "96a84a19-3de4-48ce-b958-9086450ae696",
        "colab": {
          "base_uri": "https://localhost:8080/"
        }
      },
      "source": [
        "predict_sentiment(model, \"This film is not good at all\")"
      ],
      "execution_count": 70,
      "outputs": [
        {
          "output_type": "stream",
          "text": [
            "Sentiment: Positive\n"
          ],
          "name": "stdout"
        }
      ]
    },
    {
      "cell_type": "markdown",
      "metadata": {
        "id": "Lr08R2aKwzfM"
      },
      "source": [
        "Ce modèle donne de bons résultats (une accuracy de 0.87 sur l'échantillon test), par contre il n'arrive pas à prédire correctement la négation. Par exemple, le commentaire \"This film is not good at all\" est prédit comme étant positif alors qu'il ne l'est pas.\n"
      ]
    },
    {
      "cell_type": "markdown",
      "metadata": {
        "id": "ghLV1aJujHJA"
      },
      "source": [
        "## Référence : \n",
        "\n",
        " - https://github.com/bentrevett/pytorch-sentiment-analysis/blob/master/2%20-%20Upgraded%20Sentiment%20Analysis.ipynb"
      ]
    }
  ]
}