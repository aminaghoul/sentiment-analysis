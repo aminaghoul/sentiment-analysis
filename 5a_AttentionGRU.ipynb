{
  "nbformat": 4,
  "nbformat_minor": 0,
  "metadata": {
    "accelerator": "GPU",
    "colab": {
      "name": "5a-AttentionGRU.ipynb",
      "provenance": [],
      "collapsed_sections": []
    },
    "kernelspec": {
      "display_name": "Python 3",
      "language": "python",
      "name": "python3"
    },
    "language_info": {
      "codemirror_mode": {
        "name": "ipython",
        "version": 3
      },
      "file_extension": ".py",
      "mimetype": "text/x-python",
      "name": "python",
      "nbconvert_exporter": "python",
      "pygments_lexer": "ipython3",
      "version": "3.7.6"
    }
  },
  "cells": [
    {
      "cell_type": "markdown",
      "metadata": {
        "id": "SOLYaAAQ1Ceu"
      },
      "source": [
        "# GRU + Attention\n",
        "\n",
        "Nous allons utiliser un modèle comprenant un réseau GRU ainsi qu'une couche d'attention.\n"
      ]
    },
    {
      "cell_type": "markdown",
      "metadata": {
        "id": "Lm1iC_aQ13if"
      },
      "source": [
        "## Préparer les données"
      ]
    },
    {
      "cell_type": "code",
      "metadata": {
        "id": "N7eAcLKmQWxa",
        "outputId": "d7496353-8e3d-4c8e-a04a-d142dd3d8ccf",
        "colab": {
          "base_uri": "https://localhost:8080/"
        }
      },
      "source": [
        "import os\n",
        "import sys\n",
        "import torch\n",
        "from torch.nn import functional as F\n",
        "import numpy as np\n",
        "from torchtext import data\n",
        "from torchtext import datasets\n",
        "from torchtext.vocab import Vectors, GloVe\n",
        "import pandas as pd\n",
        "import torch\n",
        "from torchtext import data\n",
        "import random\n",
        "# pour la reproductibilité\n",
        "SEED = 1234\n",
        "torch.manual_seed(SEED)\n",
        "torch.backends.cudnn.deterministic = True\n",
        "\n",
        "TEXT = data.Field(sequential=True,lower=True, tokenize = 'spacy', include_lengths=True, batch_first=True, fix_length=200)\n",
        "LABEL = data.LabelField(dtype = torch.float)\n",
        "\n",
        "train_data, test_data = datasets.IMDB.splits(TEXT, LABEL)\n",
        "test_data, valid_data = test_data.split(random_state = random.seed(1234))\n",
        "\n",
        "print(f'Taille des données train: {len(train_data)}')\n",
        "print(f'Taille des données de validation: {len(valid_data)}')\n",
        "print(f'Taille des données test: {len(test_data)}')"
      ],
      "execution_count": 1,
      "outputs": [
        {
          "output_type": "stream",
          "text": [
            "Taille des données train: 25000\n",
            "Taille des données de validation: 7500\n",
            "Taille des données test: 17500\n"
          ],
          "name": "stdout"
        }
      ]
    },
    {
      "cell_type": "code",
      "metadata": {
        "id": "aQsxGknoLCBO",
        "outputId": "b19bda05-e5f9-49b4-ac65-57131a83dac9",
        "colab": {
          "base_uri": "https://localhost:8080/"
        }
      },
      "source": [
        "MAX_VOCAB_SIZE = 50_000\n",
        "\n",
        "TEXT.build_vocab(train_data, max_size = MAX_VOCAB_SIZE, vectors=GloVe(name='6B', dim=100))\n",
        "LABEL.build_vocab(train_data)\n",
        "\n",
        "print(f\"Nombre de tokens unique dans le TEXT: {len(TEXT.vocab)}\") \n",
        "print(f\"Nombre unique de LABEL: {len(LABEL.vocab)}\")\n",
        "\n",
        "\n",
        "# utilisation du GPU si possible \n",
        "device = torch.device('cuda' if torch.cuda.is_available() else 'cpu')\n",
        "#device = 'cpu'\n",
        "BATCH_SIZE = 32\n",
        "train_iterator, valid_iterator, test_iterator = data.BucketIterator.splits(\n",
        "    (train_data, valid_data, test_data), \n",
        "    batch_size = BATCH_SIZE,\n",
        "device = device, sort_key=lambda x: len(x.text), repeat=False, shuffle=True)"
      ],
      "execution_count": 2,
      "outputs": [
        {
          "output_type": "stream",
          "text": [
            "Nombre de tokens unique dans le TEXT: 50002\n",
            "Nombre unique de LABEL: 2\n"
          ],
          "name": "stdout"
        }
      ]
    },
    {
      "cell_type": "markdown",
      "metadata": {
        "id": "rUunWgd_1_eH"
      },
      "source": [
        "## Construire le modèle\n",
        "\n",
        "Nous allons incorporer le mécanisme Attention dans notre modèle GRU. Dans ce nouveau modèle, nous utiliserons l'attention pour calculer le score d'alignement entre chacun des états cachés et le dernier état caché du GRU. \n",
        "\n",
        "Nous utiliserons `torch.bmm` pour la multiplication de la matrice par batch.\n",
        "\n",
        " Celui-ci est constitué d'une couche **embedding GloVe**, d'une couche **GRU**, puis d'une couche **Attention** et enfin de deux couches **fully connected**.\n",
        "\n",
        "L'attention est calculée comme ceci:\n",
        "\n",
        "$$\n",
        "m_i = \\tanh(W*\\overrightarrow{h_i}\\overleftarrow{h_i}+b)\n",
        "$$ \n",
        "\n",
        "$$\n",
        "a_i = \\frac{m_i}{\\sum_{k}^{n}m_k}\n",
        "$$\n",
        "\n",
        "$i$ représente le $i$ème mot du commentaire. $W$ est la matrice des poids et $b$ est un vecteur de biais.\n",
        "L'attention consiste ici à prendre en compte un vecteur de contexte spécifique qui est une somme pondérée de tous les vecteurs d’état émis par le BiLSTM."
      ]
    },
    {
      "cell_type": "code",
      "metadata": {
        "id": "7nuMkAtFLCBT"
      },
      "source": [
        "import torch\n",
        "import torch.nn as nn\n",
        "from torch.autograd import Variable\n",
        "from torch.nn import functional as F\n",
        "\n",
        "class AttentionModel(nn.Module):\n",
        "    def __init__(self, batch_size, output_size, hidden_size, vocab_size, embedding_length, word_embeddings, dropout):\n",
        "        super(AttentionModel, self).__init__()\n",
        "\n",
        "\n",
        "        self.batch_size = batch_size\n",
        "        self.output_size = output_size\n",
        "        self.hidden_size = hidden_size\n",
        "        self.vocab_size = vocab_size\n",
        "        self.embedding_length = embedding_length\n",
        "        self.weights = word_embeddings\n",
        "\n",
        "        self.word_embeddings = nn.Embedding(vocab_size, embedding_length)\n",
        "        self.word_embeddings.weights = nn.Parameter(word_embeddings, requires_grad=False)\n",
        "        self.dropout = nn.Dropout(dropout)\n",
        "        self.gru = nn.GRU(embedding_length, hidden_size, dropout=dropout, bidirectional=True)\n",
        "        self.W_s1 = nn.Linear(2*hidden_size, 350)\n",
        "        self.W_s2 = nn.Linear(350, 30)\n",
        "        self.fc_layer = nn.Linear(30*2*hidden_size, 2000)\n",
        "        self.label = nn.Linear(2000, output_size)\n",
        "\n",
        "    def attention_net(self, gru_output):\n",
        "\n",
        "        attn_weight_matrix = self.W_s2(torch.tanh(self.W_s1(gru_output)))\n",
        "        attn_weight_matrix = attn_weight_matrix.permute(0, 2, 1)\n",
        "        attn_weight_matrix = F.softmax(attn_weight_matrix, dim=2)\n",
        "\n",
        "        return attn_weight_matrix\n",
        "\n",
        "\n",
        "    def forward(self, input_sentences, batch_size=None):\n",
        "\n",
        "        \"\"\" \n",
        "        Parameters\n",
        "        ----------\n",
        "        input_sentence: input_sentence taille = (batch_size, num_sequences)\n",
        "        batch_size : default = None. Utilisé uniquement pour la prédiction sur une seule phrase après l'entraînement (batch_size = 1)\n",
        "        \n",
        "        Returns\n",
        "        -------\n",
        "        Sortie de la couche linéaire contenant les logits pour la classe positive & négative.\n",
        "        \n",
        "        \"\"\"\n",
        "        input_ = self.dropout(self.word_embeddings(input_sentences))\n",
        "        input_ = input_.permute(1, 0, 2)\n",
        "        if batch_size is None:\n",
        "            h_0 = Variable(torch.zeros(2, self.batch_size, self.hidden_size).to(device))\n",
        "        else:\n",
        "            h_0 = Variable(torch.zeros(2, batch_size, self.hidden_size).cuda())\n",
        "\n",
        "        output, h_n = self.gru(input_, h_0)\n",
        "        output = output.permute(1, 0, 2)    \n",
        "        attn_weight_matrix = self.attention_net(output)\n",
        "        hidden_matrix = torch.bmm(attn_weight_matrix, output)\n",
        "        fc_out = self.fc_layer(hidden_matrix.view(-1, hidden_matrix.size()[1]*hidden_matrix.size()[2]))\n",
        "        fc_out1 = self.dropout(fc_out)\n",
        "        logits = self.label(fc_out1)\n",
        "\n",
        "        return logits"
      ],
      "execution_count": 3,
      "outputs": []
    },
    {
      "cell_type": "code",
      "metadata": {
        "id": "KKT9cOVngV63",
        "outputId": "dc954d88-eaba-4d28-c75c-1e9b38bd859c",
        "colab": {
          "base_uri": "https://localhost:8080/"
        }
      },
      "source": [
        "import torch.nn as nn\n",
        "from torch.autograd import Variable\n",
        "batch_size = 32\n",
        "output_size = 2 # 2 labels \n",
        "hidden_size = 100 \n",
        "embedding_length = 100 # dimension de GloVe word embeddings\n",
        "word_embeddings = TEXT.vocab.vectors\n",
        "vocab_size = len(TEXT.vocab)\n",
        "dropout = 0.4\n",
        "\n",
        "model = AttentionModel(batch_size, output_size, hidden_size, vocab_size, embedding_length, word_embeddings, dropout)"
      ],
      "execution_count": 4,
      "outputs": [
        {
          "output_type": "stream",
          "text": [
            "/usr/local/lib/python3.6/dist-packages/torch/nn/modules/rnn.py:61: UserWarning: dropout option adds dropout after all but last recurrent layer, so non-zero dropout expects num_layers greater than 1, but got dropout=0.4 and num_layers=1\n",
            "  \"num_layers={}\".format(dropout, num_layers))\n"
          ],
          "name": "stderr"
        }
      ]
    },
    {
      "cell_type": "code",
      "metadata": {
        "id": "ikFmSEAygryx",
        "outputId": "18f633d0-5d69-456d-9e6f-a7bebc22161f",
        "colab": {
          "base_uri": "https://localhost:8080/"
        }
      },
      "source": [
        "def count_parameters(model):\n",
        "    return sum(p.numel() for p in model.parameters() if p.requires_grad)\n",
        "\n",
        "print(f'Le modèle a {count_parameters(model):,} paramètres à entraîner')"
      ],
      "execution_count": 5,
      "outputs": [
        {
          "output_type": "stream",
          "text": [
            "Le modèle a 17,208,282 paramètres à entraîner\n"
          ],
          "name": "stdout"
        }
      ]
    },
    {
      "cell_type": "code",
      "metadata": {
        "id": "Q-TdlrungvVo"
      },
      "source": [
        "import torch.optim as optim\n",
        "\n",
        "def optimiseur(model, lr=1e-4, eps=1e-6, weight_decay_rate=0.001, second_weight_decay_rate=0.0):\n",
        "    param_optimizer = list(model.named_parameters())\n",
        "    no_decay = ['bias', 'gamma', 'beta']\n",
        "    optimizer_grouped_parameters = [\n",
        "        {'params': [p for n, p in param_optimizer if not any(nd in n for nd in no_decay)],\n",
        "            'weight_decay_rate': weight_decay_rate},\n",
        "        {'params': [p for n, p in param_optimizer if any(nd in n for nd in no_decay)],\n",
        "            'weight_decay_rate': second_weight_decay_rate}]\n",
        "    return optim.Adam(\n",
        "        optimizer_grouped_parameters,\n",
        "        lr=lr,\n",
        "        eps=eps\n",
        "    )\n",
        "\n",
        "optimizer = optimiseur(model, lr=1e-4, eps=1e-6, weight_decay_rate=0.001, second_weight_decay_rate=0.0)\n",
        "scheduler = optim.lr_scheduler.StepLR(optimizer, step_size=10, gamma=0.5)\n",
        "criterion =  F.cross_entropy\n",
        "\n",
        "model = model.to(device)\n",
        "\n",
        "\n",
        "def binary_accuracy(preds, y):\n",
        "    \"\"\"\n",
        "    Retourne l'accuracy par batch\n",
        "    \"\"\"\n",
        "    #arrondi la prédiction à l'entier le plus proche\n",
        "    rounded_preds = torch.round(torch.sigmoid(preds))\n",
        "    correct = (rounded_preds == y).float() \n",
        "    acc = correct.sum() / len(correct)\n",
        "    return acc\n"
      ],
      "execution_count": 6,
      "outputs": []
    },
    {
      "cell_type": "code",
      "metadata": {
        "id": "Zpow3OfQhDO7",
        "outputId": "0186683c-c456-4168-b47f-4f445d67c541",
        "colab": {
          "base_uri": "https://localhost:8080/"
        }
      },
      "source": [
        "def train(model, iterator, optimizer, criterion):\n",
        "    \n",
        "    epoch_loss = 0\n",
        "    epoch_acc = 0\n",
        "    \n",
        "    model.train()\n",
        "    \n",
        "    for batch in iterator:\n",
        "        \n",
        "        optimizer.zero_grad()\n",
        "        text = batch.text[0]\n",
        "        target = batch.label \n",
        "\n",
        "        if (text.size()[0] is not batch_size):\n",
        "            continue\n",
        "        predictions = model(text)\n",
        "        target = torch.autograd.Variable(target).long()\n",
        "        loss = criterion(predictions, target)\n",
        "        pred = torch.max(predictions, 1)[1].view(target.size()).data\n",
        "        acc = binary_accuracy(pred.float(), target)\n",
        "        \n",
        "        loss.backward()\n",
        "        \n",
        "        optimizer.step()\n",
        "        \n",
        "        epoch_loss += loss.item()\n",
        "        epoch_acc += acc.item()       \n",
        "        \n",
        "    return epoch_loss / len(iterator), epoch_acc / len(iterator)\n",
        "\n",
        "def evaluate(model, iterator, criterion):\n",
        "      \n",
        "    epoch_loss = 0\n",
        "    epoch_acc = 0\n",
        "      \n",
        "    model.eval()\n",
        "      \n",
        "    with torch.no_grad():\n",
        "      \n",
        "        for batch in iterator:\n",
        "\n",
        "            text = batch.text[0]\n",
        "            \n",
        "            if (text.size()[0] is not batch_size):\n",
        "                continue\n",
        "            target = batch.label \n",
        "            predictions = model(text)\n",
        "            target = torch.autograd.Variable(target).long()\n",
        "            loss = criterion(predictions, target )\n",
        "            pred = torch.max(predictions, 1)[1].view(target.size()).data\n",
        "            acc = binary_accuracy(pred.float(), target)\n",
        "              \n",
        "            epoch_loss += loss.item()\n",
        "            epoch_acc += acc.item()\n",
        "            \n",
        "    return epoch_loss / len(iterator), epoch_acc / len(iterator)\n",
        "import time\n",
        "\n",
        "def epoch_time(start_time, end_time):\n",
        "    elapsed_time = end_time - start_time\n",
        "    elapsed_mins = int(elapsed_time / 60)\n",
        "    elapsed_secs = int(elapsed_time - (elapsed_mins * 60))\n",
        "    return elapsed_mins, elapsed_secs\n",
        "\n",
        "tloss = []\n",
        "tacc = []\n",
        "vloss = []\n",
        "vacc = []\n",
        "\n",
        "N_EPOCHS = 10\n",
        "\n",
        "best_valid_loss = float('inf')\n",
        "\n",
        "for epoch in range(N_EPOCHS):\n",
        "\n",
        "    start_time = time.time()\n",
        "    \n",
        "    train_loss, train_acc = train(model, train_iterator, optimizer, criterion)\n",
        "    tloss.append(train_loss)\n",
        "    tacc.append(train_acc) \n",
        "    scheduler.step()\n",
        "    valid_loss, valid_acc = evaluate(model, valid_iterator, criterion)\n",
        "    vloss.append(valid_loss)\n",
        "    vacc.append(valid_acc)   \n",
        "    \n",
        "    end_time = time.time()\n",
        "\n",
        "    epoch_mins, epoch_secs = epoch_time(start_time, end_time)\n",
        "    \n",
        "    if valid_loss < best_valid_loss:\n",
        "        best_valid_loss = valid_loss\n",
        "        torch.save(model.state_dict(), 'tut5-model.pt')\n",
        "    \n",
        "    print(f'Epoch: {epoch+1:02} | Epoch Time: {epoch_mins}m {epoch_secs}s')\n",
        "    print(f'\\tTrain Loss: {train_loss:.3f} | Train Acc: {train_acc*100:.2f}%')\n",
        "    print(f'\\t Val. Loss: {valid_loss:.3f} |  Val. Acc: {valid_acc*100:.2f}%')\n",
        "\n"
      ],
      "execution_count": 7,
      "outputs": [
        {
          "output_type": "stream",
          "text": [
            "Epoch: 01 | Epoch Time: 0m 19s\n",
            "\tTrain Loss: 0.629 | Train Acc: 64.09%\n",
            "\t Val. Loss: 0.571 |  Val. Acc: 69.32%\n",
            "Epoch: 02 | Epoch Time: 0m 19s\n",
            "\tTrain Loss: 0.552 | Train Acc: 71.51%\n",
            "\t Val. Loss: 0.512 |  Val. Acc: 73.90%\n",
            "Epoch: 03 | Epoch Time: 0m 19s\n",
            "\tTrain Loss: 0.510 | Train Acc: 74.53%\n",
            "\t Val. Loss: 0.480 |  Val. Acc: 75.69%\n",
            "Epoch: 04 | Epoch Time: 0m 19s\n",
            "\tTrain Loss: 0.476 | Train Acc: 76.71%\n",
            "\t Val. Loss: 0.454 |  Val. Acc: 77.75%\n",
            "Epoch: 05 | Epoch Time: 0m 19s\n",
            "\tTrain Loss: 0.451 | Train Acc: 78.38%\n",
            "\t Val. Loss: 0.455 |  Val. Acc: 77.91%\n",
            "Epoch: 06 | Epoch Time: 0m 20s\n",
            "\tTrain Loss: 0.432 | Train Acc: 79.92%\n",
            "\t Val. Loss: 0.424 |  Val. Acc: 79.45%\n",
            "Epoch: 07 | Epoch Time: 0m 19s\n",
            "\tTrain Loss: 0.417 | Train Acc: 80.74%\n",
            "\t Val. Loss: 0.397 |  Val. Acc: 81.25%\n",
            "Epoch: 08 | Epoch Time: 0m 19s\n",
            "\tTrain Loss: 0.400 | Train Acc: 81.45%\n",
            "\t Val. Loss: 0.414 |  Val. Acc: 80.57%\n",
            "Epoch: 09 | Epoch Time: 0m 19s\n",
            "\tTrain Loss: 0.391 | Train Acc: 82.13%\n",
            "\t Val. Loss: 0.386 |  Val. Acc: 82.29%\n",
            "Epoch: 10 | Epoch Time: 0m 19s\n",
            "\tTrain Loss: 0.384 | Train Acc: 82.41%\n",
            "\t Val. Loss: 0.383 |  Val. Acc: 82.55%\n"
          ],
          "name": "stdout"
        }
      ]
    },
    {
      "cell_type": "markdown",
      "metadata": {
        "id": "wjYP2vcELCBm"
      },
      "source": [
        "On trouve une valeur d'accuracy d'environ 80% pour les données de validation."
      ]
    },
    {
      "cell_type": "code",
      "metadata": {
        "id": "SAzk1r1UKyAW",
        "outputId": "ef4a38a9-e021-4da3-b9aa-4b72d66869a4",
        "colab": {
          "base_uri": "https://localhost:8080/",
          "height": 301
        }
      },
      "source": [
        "import seaborn as sns\n",
        "import matplotlib.pyplot as plt \n",
        "import numpy as np \n",
        "sns.set()\n",
        "\n",
        "x = np.linspace(0, N_EPOCHS,N_EPOCHS)\n",
        "\n",
        "plt.plot(x,tloss)\n",
        "plt.plot(x,vloss)\n",
        "plt.title(\"Loss\")\n",
        "plt.legend([\"Train loss\", \"Valid loss\"])"
      ],
      "execution_count": 14,
      "outputs": [
        {
          "output_type": "execute_result",
          "data": {
            "text/plain": [
              "<matplotlib.legend.Legend at 0x7fb4de4f3e48>"
            ]
          },
          "metadata": {
            "tags": []
          },
          "execution_count": 14
        },
        {
          "output_type": "display_data",
          "data": {
            "image/png": "[encoded data removed]",
            "text/plain": [
              "<Figure size 432x288 with 1 Axes>"
            ]
          },
          "metadata": {
            "tags": []
          }
        }
      ]
    },
    {
      "cell_type": "code",
      "metadata": {
        "id": "SQ5rKcFDK0Wm",
        "outputId": "76851c07-b19d-4f54-fa9c-449900301fa9",
        "colab": {
          "base_uri": "https://localhost:8080/",
          "height": 301
        }
      },
      "source": [
        "x = np.linspace(0, N_EPOCHS,N_EPOCHS)\n",
        "\n",
        "plt.plot(x,tacc)\n",
        "plt.plot(x,vacc)\n",
        "plt.title(\"Accuracy\")\n",
        "plt.legend([\"Train acc\", \"Valid acc\"])"
      ],
      "execution_count": 15,
      "outputs": [
        {
          "output_type": "execute_result",
          "data": {
            "text/plain": [
              "<matplotlib.legend.Legend at 0x7fb4de2a4390>"
            ]
          },
          "metadata": {
            "tags": []
          },
          "execution_count": 15
        },
        {
          "output_type": "display_data",
          "data": {
            "image/png": "[encoded data removed]",
            "text/plain": [
              "<Figure size 432x288 with 1 Axes>"
            ]
          },
          "metadata": {
            "tags": []
          }
        }
      ]
    },
    {
      "cell_type": "markdown",
      "metadata": {
        "id": "Yve_Vm7kLCBu"
      },
      "source": [
        "## Test\n",
        "\n",
        "On teste le modèle sur notre jeu de données test."
      ]
    },
    {
      "cell_type": "code",
      "metadata": {
        "id": "QDHVTZEbK3YZ",
        "outputId": "398625fb-3b37-42f9-a739-113b8c340a8f",
        "colab": {
          "base_uri": "https://localhost:8080/"
        }
      },
      "source": [
        "model.load_state_dict(torch.load('tut5-model.pt'))\n",
        "\n",
        "test_loss, test_acc = evaluate(model, test_iterator, criterion)\n",
        "\n",
        "print(f'Test Loss: {test_loss:.3f} | Test Acc: {test_acc*100:.2f}%')"
      ],
      "execution_count": 16,
      "outputs": [
        {
          "output_type": "stream",
          "text": [
            "Test Loss: 0.390 | Test Acc: 82.78%\n"
          ],
          "name": "stdout"
        }
      ]
    },
    {
      "cell_type": "code",
      "metadata": {
        "id": "I8FpnGc1K6Ui",
        "outputId": "acd8f6e7-6484-4fc2-c5d0-88db466d5fbc",
        "colab": {
          "base_uri": "https://localhost:8080/"
        }
      },
      "source": [
        "import spacy\n",
        "nlp = spacy.load('en')\n",
        "\n",
        "def predict_sentiment(model, sentence):\n",
        "    model.eval()\n",
        "    tokenized = [tok.text for tok in nlp.tokenizer(sentence)]\n",
        "    indexed = [TEXT.vocab.stoi[t] for t in tokenized]\n",
        "    length = [len(indexed)]\n",
        "    tensor = torch.LongTensor(indexed).to(device)\n",
        "    tensor = tensor.unsqueeze(0)\n",
        "    length_tensor = torch.LongTensor(length)\n",
        "    #prediction = model(tensor, 1)\n",
        "    \n",
        "    prediction = model(tensor,1)\n",
        "    if (prediction[0][1].item() > 0.5):\n",
        "        print (\"Sentiment: Positive\")\n",
        "    else:\n",
        "        print (\"Sentiment: Negative\")\n",
        "\n",
        "\n",
        "predict_sentiment(model, \"this film is not good \")"
      ],
      "execution_count": 18,
      "outputs": [
        {
          "output_type": "stream",
          "text": [
            "Sentiment: Negative\n"
          ],
          "name": "stdout"
        }
      ]
    },
    {
      "cell_type": "code",
      "metadata": {
        "id": "jozBTEhmK_Iw",
        "outputId": "ff9320e9-7ec8-477b-bcbb-7cf7629fa146",
        "colab": {
          "base_uri": "https://localhost:8080/"
        }
      },
      "source": [
        "predict_sentiment(model, \"This film is amazing good \")"
      ],
      "execution_count": 19,
      "outputs": [
        {
          "output_type": "stream",
          "text": [
            "Sentiment: Positive\n"
          ],
          "name": "stdout"
        }
      ]
    },
    {
      "cell_type": "code",
      "metadata": {
        "id": "yd4vDOoxLCB6",
        "outputId": "0c1e1662-5dcf-4d15-a125-a63946cca56a",
        "colab": {
          "base_uri": "https://localhost:8080/"
        }
      },
      "source": [
        "predict_sentiment(model, \"This film is terrible \")"
      ],
      "execution_count": 20,
      "outputs": [
        {
          "output_type": "stream",
          "text": [
            "Sentiment: Negative\n"
          ],
          "name": "stdout"
        }
      ]
    },
    {
      "cell_type": "markdown",
      "metadata": {
        "id": "idWgqJd0LCB-"
      },
      "source": [
        "On remarque que contrairement aux modèles précédents ce modèle prend en compte la négation."
      ]
    },
    {
      "cell_type": "markdown",
      "metadata": {
        "id": "2HvPytKULCB_"
      },
      "source": [
        "## Références\n",
        "\n",
        " - [Text-Classification-Pytorch](https://github.com/prakashpandey9/Text-Classification-Pytorch/blob/master/models/LSTM_Attn.py)\n",
        " - [NLP at IEST 2018: BiLSTM-Attention and LSTM-Attention via Soft\n",
        "Voting in Emotion Classification](https://www.aclweb.org/anthology/W18-6226/)"
      ]
    }
  ]
}