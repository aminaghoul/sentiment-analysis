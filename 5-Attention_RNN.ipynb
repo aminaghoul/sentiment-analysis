{
 "cells": [
  {
   "cell_type": "markdown",
   "metadata": {},
   "source": [
    "# LSTM et attention\n",
    "\n",
    "Nous allons dans ce notebook utiliser le modèle LSTM combiné avec le modèle d'attention, qui est expliqué dans cet <a href=\"https://arxiv.org/pdf/1706.03762.pdf\"> article</a>.\n",
    "\n"
   ]
  },
  {
   "cell_type": "code",
   "execution_count": 1,
   "metadata": {},
   "outputs": [
    {
     "name": "stdout",
     "output_type": "stream",
     "text": [
      "Taille des données train: 18163\n",
      "Taille des données de validation: 2270\n",
      "Taille des données test: 2271\n"
     ]
    }
   ],
   "source": [
    "import pandas as pd\n",
    "import torch\n",
    "from torchtext import data\n",
    "\n",
    "SEED = 1234\n",
    "torch.manual_seed(SEED)\n",
    "torch.backends.cudnn.deterministic = True\n",
    "\n",
    "TEXT = data.Field(sequential=True,lower=True,  include_lengths=True,\n",
    "                  tokenize = 'spacy')\n",
    "LABEL = data.LabelField(dtype = torch.float)\n",
    "\n",
    "train_data,valid_data, test_data = data.TabularDataset.splits(\n",
    "        path='./data/', train='train.csv',\n",
    "        validation='valid.csv', test='test.csv', format='csv', skip_header=True,\n",
    "        fields=[('text', TEXT), ('label', LABEL)])\n",
    "\n",
    "print(f'Taille des données train: {len(train_data)}')\n",
    "print(f'Taille des données de validation: {len(valid_data)}')\n",
    "print(f'Taille des données test: {len(test_data)}')"
   ]
  },
  {
   "cell_type": "code",
   "execution_count": 2,
   "metadata": {},
   "outputs": [],
   "source": [
    "MAX_VOCAB_SIZE = 25_000\n",
    "\n",
    "TEXT.build_vocab(train_data, \n",
    "                 max_size = MAX_VOCAB_SIZE, \n",
    "                 vectors = \"glove.6B.100d\", \n",
    "                 unk_init = torch.Tensor.normal_)\n",
    "LABEL.build_vocab(train_data)"
   ]
  },
  {
   "cell_type": "code",
   "execution_count": 3,
   "metadata": {},
   "outputs": [],
   "source": [
    "BATCH_SIZE = 10\n",
    "\n",
    "device = torch.device('cuda' if torch.cuda.is_available() else 'cpu')\n",
    "\n",
    "train_iterator, valid_iterator, test_iterator = data.BucketIterator.splits(\n",
    "    (train_data, valid_data, test_data), \n",
    "    batch_size = BATCH_SIZE,\n",
    "    device = device,sort_key = lambda x: len(x.text),\n",
    "    sort_within_batch = True)"
   ]
  },
  {
   "cell_type": "code",
   "execution_count": 4,
   "metadata": {},
   "outputs": [
    {
     "name": "stdout",
     "output_type": "stream",
     "text": [
      "torch.Size([1, 1, 40])\n",
      "torch.Size([2, 1, 20])\n",
      "torch.Size([2, 1, 20])\n",
      "torch.Size([1, 25])\n",
      "torch.Size([1, 40])\n",
      "torch.Size([1, 25])\n",
      "torch.Size([1, 40])\n",
      "torch.Size([1, 30])\n",
      "torch.Size([1, 1, 25])\n",
      "torch.Size([1, 1, 25])\n",
      "tensor([[0.5000, 0.5000]], grad_fn=<SoftmaxBackward>)\n"
     ]
    }
   ],
   "source": [
    "import torch\n",
    "import torch.nn as nn\n",
    "from torch import optim\n",
    "import torch.nn.functional as F\n",
    "from torch.autograd import Variable\n",
    "\n",
    "\n",
    "class Encoder(nn.Module):\n",
    "    def __init__(self, input_size, hidden_size, bidirectional = True):\n",
    "        super(Encoder, self).__init__()\n",
    "        self.hidden_size = hidden_size\n",
    "        self.input_size = input_size\n",
    "        self.bidirectional = bidirectional\n",
    "\n",
    "        self.lstm = nn.LSTM(input_size, hidden_size, bidirectional = bidirectional)\n",
    "  \n",
    "    def forward(self, inputs, hidden):\n",
    "    \n",
    "        output, hidden = self.lstm(inputs.view(1, 1, self.input_size), hidden)\n",
    "        return output, hidden\n",
    "    \n",
    "    def init_hidden(self):\n",
    "        return (torch.zeros(1 + int(self.bidirectional), 1, self.hidden_size),\n",
    "          torch.zeros(1 + int(self.bidirectional), 1, self.hidden_size))\n",
    "\n",
    "class AttentionDecoder(nn.Module):\n",
    "  \n",
    "    def __init__(self, hidden_size, output_size, vocab_size):\n",
    "        super(AttentionDecoder, self).__init__()\n",
    "        self.hidden_size = hidden_size\n",
    "        self.output_size = output_size\n",
    "\n",
    "        self.attn = nn.Linear(hidden_size + output_size, 1)\n",
    "        self.lstm = nn.LSTM(hidden_size + vocab_size, output_size) #if we are using embedding hidden_size should be added with embedding of vocab size\n",
    "        self.final = nn.Linear(output_size, vocab_size)\n",
    "  \n",
    "    def init_hidden(self):\n",
    "        return (torch.zeros(1, 1, self.output_size),\n",
    "          torch.zeros(1, 1, self.output_size))\n",
    "  \n",
    "    def forward(self, decoder_hidden, encoder_outputs, input):\n",
    "    \n",
    "        weights = []\n",
    "        for i in range(len(encoder_outputs)):\n",
    "            print(decoder_hidden[0][0].shape)\n",
    "            print(encoder_outputs[0].shape)\n",
    "            weights.append(self.attn(torch.cat((decoder_hidden[0][0], \n",
    "                                              encoder_outputs[i]), dim = 1)))\n",
    "        normalized_weights = F.softmax(torch.cat(weights, 1), 1)\n",
    "\n",
    "        attn_applied = torch.bmm(normalized_weights.unsqueeze(1),\n",
    "                                 encoder_outputs.view(1, -1, self.hidden_size))\n",
    "\n",
    "        input_lstm = torch.cat((attn_applied[0], input[0]), dim = 1) #if we are using embedding, use embedding of input here instead\n",
    "\n",
    "        output, hidden = self.lstm(input_lstm.unsqueeze(0), decoder_hidden)\n",
    "\n",
    "        output = self.final(output[0])\n",
    "\n",
    "        return output, hidden, normalized_weights\n",
    "    \n",
    "bidirectional = True\n",
    "c = Encoder(10, 20, bidirectional)\n",
    "a, b = c.forward(torch.randn(10), c.init_hidden())\n",
    "print(a.shape)\n",
    "print(b[0].shape)\n",
    "print(b[1].shape)\n",
    "\n",
    "x = AttentionDecoder(20 * (1 + bidirectional), 25, 30)\n",
    "y, z, w = x.forward(x.init_hidden(), torch.cat((a,a)), torch.zeros(1,1, 30)) #Assuming <SOS> to be all zeros\n",
    "print(y.shape)\n",
    "print(z[0].shape)\n",
    "print(z[1].shape)\n",
    "print(w)\n"
   ]
  },
  {
   "cell_type": "markdown",
   "metadata": {},
   "source": [
    "## Construire le modèle"
   ]
  },
  {
   "cell_type": "code",
   "execution_count": 5,
   "metadata": {},
   "outputs": [],
   "source": [
    "import torch\n",
    "from torch import nn\n",
    "import numpy as np\n",
    "from torch.nn import functional as F\n",
    "\n",
    "\n",
    "class RNNAttention(nn.Module):\n",
    "    def __init__(self, vocab_size, embedding_dim, hidden_dim, output_dim, n_layers, \n",
    "                 bidirectional, dropout):\n",
    "        super().__init__()\n",
    "        \n",
    "        \n",
    "        self.n_layers = n_layers\n",
    "        self.bidirectional = bidirectional\n",
    "        self.hidden_dim = hidden_dim\n",
    "        # Embedding Layer\n",
    "        self.embedding = nn.Embedding(vocab_size, embedding_dim)\n",
    "        \n",
    "        # Encoder RNN       \n",
    "        self.lstm = nn.LSTM(embedding_dim, \n",
    "                           hidden_dim, \n",
    "                           num_layers=n_layers, \n",
    "                           bidirectional=bidirectional, \n",
    "                           dropout=dropout)\n",
    "        \n",
    "        self.fc = nn.Linear(hidden_dim * 2 * (1+bidirectional), output_dim)\n",
    "        \n",
    "        self.dropout = nn.Dropout(dropout)\n",
    "        \n",
    "        # Softmax non-linearity\n",
    "        self.softmax = nn.Softmax(dim=0)\n",
    "                \n",
    "    def apply_attention(self, rnn_output, final_hidden_state):\n",
    "        '''\n",
    "        Apply Attention on RNN output\n",
    "        \n",
    "        Input:\n",
    "            rnn_output (batch_size, seq_len, num_directions * hidden_size): tensor representing hidden state for every word in the sentence\n",
    "            final_hidden_state (batch_size, num_directions * hidden_size): final hidden state of the RNN\n",
    "            \n",
    "        Returns:\n",
    "            attention_output(batch_size, num_directions * hidden_size): attention output vector for the batch\n",
    "        '''\n",
    "        hidden_state = final_hidden_state.unsqueeze(2)\n",
    "        attention_scores = torch.bmm(rnn_output, hidden_state).squeeze(2)\n",
    "        soft_attention_weights = F.softmax(attention_scores, 1).unsqueeze(2) #shape = (batch_size, seq_len, 1)\n",
    "        attention_output = torch.bmm(rnn_output.permute(0,2,1), soft_attention_weights).squeeze(2)\n",
    "        return attention_output\n",
    "        \n",
    "    def forward(self, text, text_lengths):\n",
    "        # x.shape = (max_sen_len, batch_size)\n",
    "        embedded_sent = self.embedding(text)\n",
    "        \n",
    "        # embedded_sent.shape = (max_sen_len=20, batch_size=64,embed_size=300)\n",
    "        #pack sequence\n",
    "        packed_embedded = nn.utils.rnn.pack_padded_sequence(embedded_sent, text_lengths)\n",
    "        packed_output, (h_n,c_n) = self.lstm(packed_embedded)\n",
    "        \n",
    "        #unpack sequence\n",
    "        output, output_lengths = nn.utils.rnn.pad_packed_sequence(packed_output)\n",
    "        \n",
    "        ##################################### Encoder ####################################### \n",
    "        # lstm_output.shape = (seq_len, batch_size, num_directions * hidden_size)\n",
    "        \n",
    "        # Final hidden state of last layer (num_directions, batch_size, hidden_size)\n",
    "        \n",
    "        batch_size = h_n.shape[1]\n",
    "        h_n_final_layer = h_n.view(self.n_layers,\n",
    "                                   self.bidirectional+ 1,\n",
    "                                   batch_size,\n",
    "                                   self.hidden_dim)[-1,:,:,:]\n",
    "   \n",
    "        ##################################### Attention #####################################\n",
    "        # Convert input to (batch_size, num_directions * hidden_size) for attention\n",
    "        final_hidden_state = torch.cat([h_n_final_layer[i,:,:] for i in range(h_n_final_layer.shape[0])], dim=1)\n",
    "      \n",
    "        attention_out = self.apply_attention(output.permute(1,0,2), final_hidden_state)\n",
    "        # Attention_out.shape = (batch_size, num_directions * hidden_size)\n",
    "           \n",
    "        #################################### Linear #########################################\n",
    "        concatenated_vector = torch.cat([final_hidden_state, attention_out], dim=1)\n",
    "        \n",
    "        final_feature_map = self.dropout(concatenated_vector) # shape=(batch_size, num_directions * hidden_size)\n",
    "        final_out = self.fc(final_feature_map)\n",
    "        return self.softmax(final_out) "
   ]
  },
  {
   "cell_type": "markdown",
   "metadata": {},
   "source": [
    "embed size:  torch.Size([410, 64, 100])\n",
    "\n",
    "h_n torch.Size([4, 64, 256])\n",
    "\n",
    "c_n torch.Size([4, 64, 256])\n",
    "\n",
    "output torch.Size([410, 64, 512])\n",
    "\n",
    "output_lengths torch.Size([64])\n",
    "\n",
    "h_n_final_layer torch.Size([2, 64, 256])\n",
    "\n",
    "final_hidden_state torch.Size([64, 512])\n",
    "\n",
    "attention_out torch.Size([64, 512])\n",
    "\n",
    "concatenated_vector torch.Size([64, 1024])\n",
    "\n",
    "final_feature_map torch.Size([64, 1024])"
   ]
  },
  {
   "cell_type": "code",
   "execution_count": 6,
   "metadata": {},
   "outputs": [
    {
     "name": "stdout",
     "output_type": "stream",
     "text": [
      "The model has 4,811,369 trainable parameters\n"
     ]
    }
   ],
   "source": [
    "INPUT_DIM = len(TEXT.vocab)\n",
    "EMBEDDING_DIM = 100\n",
    "HIDDEN_DIM = 256\n",
    "OUTPUT_DIM = 1\n",
    "N_LAYERS = 2\n",
    "BIDIRECTIONAL = True\n",
    "DROPOUT = 0.5\n",
    "PAD_IDX = TEXT.vocab.stoi[TEXT.pad_token]\n",
    "\n",
    "model = RNNAttention(INPUT_DIM, EMBEDDING_DIM, HIDDEN_DIM, OUTPUT_DIM, N_LAYERS, BIDIRECTIONAL, DROPOUT)\n",
    "\n",
    "def count_parameters(model):\n",
    "    return sum(p.numel() for p in model.parameters() if p.requires_grad)\n",
    "\n",
    "print(f'The model has {count_parameters(model):,} trainable parameters')"
   ]
  },
  {
   "cell_type": "code",
   "execution_count": 7,
   "metadata": {},
   "outputs": [
    {
     "name": "stdout",
     "output_type": "stream",
     "text": [
      "torch.Size([25002, 100])\n",
      "tensor([[ 0.0000,  0.0000,  0.0000,  ...,  0.0000,  0.0000,  0.0000],\n",
      "        [ 0.0000,  0.0000,  0.0000,  ...,  0.0000,  0.0000,  0.0000],\n",
      "        [-0.0382, -0.2449,  0.7281,  ..., -0.1459,  0.8278,  0.2706],\n",
      "        ...,\n",
      "        [-0.5194, -0.9798,  0.8356,  ..., -0.5779, -1.2377, -0.6916],\n",
      "        [ 0.1325, -0.3895, -0.6949,  ...,  0.9231,  1.2856, -0.9643],\n",
      "        [-1.2891, -0.0067,  1.2189,  ...,  0.4144, -0.4232,  0.1408]])\n"
     ]
    }
   ],
   "source": [
    "pretrained_embeddings = TEXT.vocab.vectors\n",
    "\n",
    "print(pretrained_embeddings.shape)\n",
    "\n",
    "model.embedding.weight.data.copy_(pretrained_embeddings)\n",
    "\n",
    "UNK_IDX = TEXT.vocab.stoi[TEXT.unk_token]\n",
    "\n",
    "model.embedding.weight.data[UNK_IDX] = torch.zeros(EMBEDDING_DIM)\n",
    "model.embedding.weight.data[PAD_IDX] = torch.zeros(EMBEDDING_DIM)\n",
    "\n",
    "print(model.embedding.weight.data)"
   ]
  },
  {
   "cell_type": "code",
   "execution_count": 8,
   "metadata": {},
   "outputs": [],
   "source": [
    "def binary_accuracy(preds, y):\n",
    "    \"\"\"\n",
    "    Returns accuracy per batch, i.e. if you get 8/10 right, this returns 0.8, NOT 8\n",
    "    \"\"\"\n",
    "    #round predictions to the closest integer\n",
    "    rounded_preds = torch.round(torch.sigmoid(preds))\n",
    "    correct = (rounded_preds == y).float() #convert into float for division \n",
    "    acc = correct.sum() / len(correct)\n",
    "    return acc\n",
    "\n",
    "def precision(preds, y):\n",
    "    '''\n",
    "    Retourne la précision\n",
    "    '''\n",
    "    y_pred = torch.round(torch.sigmoid(preds))\n",
    "    y_true = (y_pred == y).float() \n",
    "            \n",
    "    tp = (y_true * y_pred).sum().float()\n",
    "    tn = ((1 - y_true) * (1 - y_pred)).sum().float()\n",
    "    fp = ((1 - y_true) * y_pred).sum().float()\n",
    "    fn = (y_true * (1 - y_pred)).sum().float()\n",
    "       \n",
    "    precision = tp / (tp + fp)\n",
    "    \n",
    "    return precision\n",
    "\n",
    "def recall(preds, y):\n",
    "    '''\n",
    "    Retourne le recall\n",
    "    '''\n",
    "    y_pred = torch.round(torch.sigmoid(preds))\n",
    "    y_true = (y_pred == y).float()       \n",
    "    \n",
    "    tp = (y_true * y_pred).sum().float()\n",
    "    tn = ((1 - y_true) * (1 - y_pred)).sum().float()\n",
    "    fp = ((1 - y_true) * y_pred).sum().float()\n",
    "    fn = (y_true * (1 - y_pred)).sum().float()\n",
    "    recall = tp / (tp + fn)\n",
    "    return recall\n",
    "\n",
    "\n",
    "def f1_loss(preds, y):\n",
    "    '''\n",
    "    Retourne le score F1\n",
    "    '''  \n",
    "    y_pred = torch.round(torch.sigmoid(preds))\n",
    "    y_true = (y_pred == y).float() \n",
    "            \n",
    "    tp = (y_true * y_pred).sum().float()\n",
    "    tn = ((1 - y_true) * (1 - y_pred)).sum().float()\n",
    "    fp = ((1 - y_true) * y_pred).sum().float()\n",
    "    fn = (y_true * (1 - y_pred)).sum().float()\n",
    "    \n",
    "    recall = tp / (tp + fn)\n",
    "    precision = tp / (tp + fp)\n",
    "    \n",
    "    f1 = 2* (precision*recall) / (precision + recall)\n",
    "    return f1"
   ]
  },
  {
   "cell_type": "code",
   "execution_count": 9,
   "metadata": {},
   "outputs": [
    {
     "name": "stdout",
     "output_type": "stream",
     "text": [
      "Epoch: 01 | Epoch Time: 2m 27s\n",
      "\tTrain Loss: 0.695 | Train Acc: 45.63%\n",
      "\t Val. Loss: 0.685 |  Val. Acc: 47.53%\n",
      "Epoch: 02 | Epoch Time: 2m 21s\n",
      "\tTrain Loss: 0.676 | Train Acc: 45.55%\n",
      "\t Val. Loss: 0.663 |  Val. Acc: 47.53%\n",
      "Epoch: 03 | Epoch Time: 2m 17s\n",
      "\tTrain Loss: 0.661 | Train Acc: 49.86%\n",
      "\t Val. Loss: 0.655 |  Val. Acc: 53.92%\n",
      "Epoch: 04 | Epoch Time: 2m 16s\n",
      "\tTrain Loss: 0.656 | Train Acc: 60.13%\n",
      "\t Val. Loss: 0.654 |  Val. Acc: 69.34%\n",
      "Epoch: 05 | Epoch Time: 2m 22s\n",
      "\tTrain Loss: 0.655 | Train Acc: 59.90%\n",
      "\t Val. Loss: 0.652 |  Val. Acc: 60.57%\n",
      "Epoch: 06 | Epoch Time: 2m 23s\n",
      "\tTrain Loss: 0.653 | Train Acc: 51.87%\n",
      "\t Val. Loss: 0.653 |  Val. Acc: 48.99%\n",
      "Epoch: 07 | Epoch Time: 2m 30s\n",
      "\tTrain Loss: 0.651 | Train Acc: 65.33%\n",
      "\t Val. Loss: 0.652 |  Val. Acc: 72.20%\n",
      "Epoch: 08 | Epoch Time: 2m 31s\n",
      "\tTrain Loss: 0.650 | Train Acc: 63.15%\n",
      "\t Val. Loss: 0.652 |  Val. Acc: 48.02%\n",
      "Epoch: 09 | Epoch Time: 2m 31s\n",
      "\tTrain Loss: 0.650 | Train Acc: 50.72%\n",
      "\t Val. Loss: 0.651 |  Val. Acc: 49.43%\n",
      "Epoch: 10 | Epoch Time: 2m 34s\n",
      "\tTrain Loss: 0.649 | Train Acc: 56.66%\n",
      "\t Val. Loss: 0.655 |  Val. Acc: 47.58%\n"
     ]
    },
    {
     "data": {
      "text/plain": [
       "<All keys matched successfully>"
      ]
     },
     "execution_count": 9,
     "metadata": {},
     "output_type": "execute_result"
    }
   ],
   "source": [
    "import torch.optim as optim\n",
    "\n",
    "optimizer = optim.Adam(model.parameters())\n",
    "criterion = nn.BCEWithLogitsLoss()\n",
    "model = model.to(device)\n",
    "criterion = criterion.to(device)\n",
    "def train(model, iterator, optimizer, criterion):\n",
    "    \n",
    "    epoch_loss = 0\n",
    "    epoch_acc = 0\n",
    "    \n",
    "    model.train()\n",
    "    \n",
    "    for batch in iterator:\n",
    "        \n",
    "        optimizer.zero_grad()\n",
    "        \n",
    "        text, text_lengths = batch.text\n",
    "        \n",
    "        predictions = model(text, text_lengths).squeeze(1)\n",
    "        \n",
    "        loss = criterion(predictions, batch.label)\n",
    "        \n",
    "        acc = binary_accuracy(predictions, batch.label)\n",
    "        \n",
    "        loss.backward()\n",
    "        \n",
    "        optimizer.step()\n",
    "        \n",
    "        epoch_loss += loss.item()\n",
    "        epoch_acc += acc.item()\n",
    "        \n",
    "    return epoch_loss / len(iterator), epoch_acc / len(iterator)\n",
    "\n",
    "def evaluate(model, iterator, criterion):\n",
    "    \n",
    "    epoch_loss = 0\n",
    "    epoch_acc = 0\n",
    "    \n",
    "    model.eval()\n",
    "    \n",
    "    with torch.no_grad():\n",
    "    \n",
    "        for batch in iterator:\n",
    "\n",
    "            text, text_lengths = batch.text\n",
    "            \n",
    "            predictions = model(text, text_lengths).squeeze(1)\n",
    "            \n",
    "            loss = criterion(predictions, batch.label)\n",
    "            \n",
    "            acc = binary_accuracy(predictions, batch.label)\n",
    "\n",
    "            epoch_loss += loss.item()\n",
    "            epoch_acc += acc.item()\n",
    "        \n",
    "    return epoch_loss / len(iterator), epoch_acc / len(iterator)\n",
    "\n",
    "import time\n",
    "\n",
    "def epoch_time(start_time, end_time):\n",
    "    elapsed_time = end_time - start_time\n",
    "    elapsed_mins = int(elapsed_time / 60)\n",
    "    elapsed_secs = int(elapsed_time - (elapsed_mins * 60))\n",
    "    return elapsed_mins, elapsed_secs\n",
    "\n",
    "N_EPOCHS = 10\n",
    "\n",
    "best_valid_loss = float('inf')\n",
    "\n",
    "for epoch in range(N_EPOCHS):\n",
    "\n",
    "    start_time = time.time()\n",
    "    \n",
    "    train_loss, train_acc = train(model, train_iterator, optimizer, criterion)\n",
    "    valid_loss, valid_acc = evaluate(model, valid_iterator, criterion)\n",
    "    \n",
    "    end_time = time.time()\n",
    "\n",
    "    epoch_mins, epoch_secs = epoch_time(start_time, end_time)\n",
    "    \n",
    "    if valid_loss < best_valid_loss:\n",
    "        best_valid_loss = valid_loss\n",
    "        torch.save(model.state_dict(), 'tut2-model.pt')\n",
    "    \n",
    "    print(f'Epoch: {epoch+1:02} | Epoch Time: {epoch_mins}m {epoch_secs}s')\n",
    "    print(f'\\tTrain Loss: {train_loss:.3f} | Train Acc: {train_acc*100:.2f}%')\n",
    "    print(f'\\t Val. Loss: {valid_loss:.3f} |  Val. Acc: {valid_acc*100:.2f}%')\n",
    "    \n",
    "model.load_state_dict(torch.load('tut2-model.pt'))"
   ]
  },
  {
   "cell_type": "code",
   "execution_count": 10,
   "metadata": {},
   "outputs": [
    {
     "name": "stdout",
     "output_type": "stream",
     "text": [
      "Test Loss: 0.657 | Test Acc: 47.02%\n"
     ]
    }
   ],
   "source": [
    "test_loss, test_acc = evaluate(model, test_iterator, criterion)\n",
    "\n",
    "print(f'Test Loss: {test_loss:.3f} | Test Acc: {test_acc*100:.2f}%')"
   ]
  },
  {
   "cell_type": "code",
   "execution_count": 11,
   "metadata": {},
   "outputs": [],
   "source": [
    "import spacy\n",
    "nlp = spacy.load('en')\n",
    "\n",
    "def predict_sentiment(model, sentence):\n",
    "    model.eval()\n",
    "    tokenized = [tok.text for tok in nlp.tokenizer(sentence)]\n",
    "    print(tokenized)\n",
    "    indexed = [TEXT.vocab.stoi[t] for t in tokenized]\n",
    "    print(indexed)\n",
    "    length = [len(indexed)]\n",
    "    print(length)\n",
    "    tensor = torch.LongTensor(indexed).to(device)\n",
    "    tensor = tensor.unsqueeze(1)\n",
    "    print(tensor)\n",
    "    length_tensor = torch.LongTensor(length)\n",
    "    print(length_tensor)\n",
    "    prediction = torch.sigmoid(model(tensor, length_tensor))\n",
    "    print(prediction)\n",
    "    return prediction.item()"
   ]
  },
  {
   "cell_type": "code",
   "execution_count": 12,
   "metadata": {},
   "outputs": [
    {
     "name": "stdout",
     "output_type": "stream",
     "text": [
      "['This', 'film', 'is', 'great', 'and', 'awesome', 'as', 'well', 'it', 'is', 'incredible']\n",
      "[0, 25, 9, 102, 5, 1309, 19, 85, 11, 9, 1096]\n",
      "[11]\n",
      "tensor([[   0],\n",
      "        [  25],\n",
      "        [   9],\n",
      "        [ 102],\n",
      "        [   5],\n",
      "        [1309],\n",
      "        [  19],\n",
      "        [  85],\n",
      "        [  11],\n",
      "        [   9],\n",
      "        [1096]], device='cuda:0')\n",
      "tensor([11])\n",
      "tensor([[0.7311]], device='cuda:0', grad_fn=<SigmoidBackward>)\n"
     ]
    },
    {
     "data": {
      "text/plain": [
       "0.7310585975646973"
      ]
     },
     "execution_count": 12,
     "metadata": {},
     "output_type": "execute_result"
    }
   ],
   "source": [
    "predict_sentiment(model, \"This film is great and awesome as well it is incredible\")"
   ]
  },
  {
   "cell_type": "code",
   "execution_count": 13,
   "metadata": {},
   "outputs": [
    {
     "name": "stdout",
     "output_type": "stream",
     "text": [
      "['This', 'film', 'is', 'terrible']\n",
      "[0, 25, 9, 498]\n",
      "[4]\n",
      "tensor([[  0],\n",
      "        [ 25],\n",
      "        [  9],\n",
      "        [498]], device='cuda:0')\n",
      "tensor([4])\n",
      "tensor([[0.7311]], device='cuda:0', grad_fn=<SigmoidBackward>)\n"
     ]
    },
    {
     "data": {
      "text/plain": [
       "0.7310585975646973"
      ]
     },
     "execution_count": 13,
     "metadata": {},
     "output_type": "execute_result"
    }
   ],
   "source": [
    "predict_sentiment(model, \"This film is terrible\")"
   ]
  },
  {
   "cell_type": "code",
   "execution_count": null,
   "metadata": {},
   "outputs": [],
   "source": []
  },
  {
   "cell_type": "code",
   "execution_count": null,
   "metadata": {},
   "outputs": [],
   "source": []
  },
  {
   "cell_type": "code",
   "execution_count": null,
   "metadata": {},
   "outputs": [],
   "source": []
  },
  {
   "cell_type": "code",
   "execution_count": null,
   "metadata": {},
   "outputs": [],
   "source": []
  }
 ],
 "metadata": {
  "kernelspec": {
   "display_name": "Python 3",
   "language": "python",
   "name": "python3"
  },
  "language_info": {
   "codemirror_mode": {
    "name": "ipython",
    "version": 3
   },
   "file_extension": ".py",
   "mimetype": "text/x-python",
   "name": "python",
   "nbconvert_exporter": "python",
   "pygments_lexer": "ipython3",
   "version": "3.7.6"
  }
 },
 "nbformat": 4,
 "nbformat_minor": 4
}
