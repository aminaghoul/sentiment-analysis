{
 "cells": [
  {
   "cell_type": "markdown",
   "metadata": {
    "colab_type": "text",
    "id": "PGnlRWvkY-2c"
   },
   "source": [
    "# Analyse de sentiments avec BERT\n",
    "\n"
   ]
  },
  {
   "cell_type": "markdown",
   "metadata": {
    "colab_type": "text",
    "id": "Tbodro8Fpmwr"
   },
   "source": [
    "\n",
    "BERT est introduit dans [ce papier](https://arxiv.org/abs/1810.04805) et est un acronyme pour Bidirectional Encoder Representations from Transformers. \n",
    "\n",
    "Ce modèle est : \n",
    "\n",
    "- Bidirectionel - to understand the text  you're looking you'll have to look back (at the previous words) and forward (at the next words)\n",
    "- Utilise les transformers - présentés dans le papier The [Attention Is All You Need](https://arxiv.org/abs/1706.03762)\n",
    "- Il est pré-entrainé en utilisant des word embeddings qui encodent les mots basés sur leur contexte.\n"
   ]
  },
  {
   "cell_type": "markdown",
   "metadata": {
    "colab_type": "text",
    "id": "wmj22-TcZMef"
   },
   "source": [
    "## Setup\n",
    "\n",
    "On installe [la librairie Transformers](https://huggingface.co/transformers/) de Hugging Face:"
   ]
  },
  {
   "cell_type": "code",
   "execution_count": 1,
   "metadata": {
    "colab": {},
    "colab_type": "code",
    "id": "Kj_7Tz0-pK69"
   },
   "outputs": [],
   "source": [
    "!pip install -q -U watermark"
   ]
  },
  {
   "cell_type": "code",
   "execution_count": 2,
   "metadata": {
    "colab": {
     "base_uri": "https://localhost:8080/",
     "height": 104
    },
    "colab_type": "code",
    "id": "Jjsbi1u3QFEM",
    "outputId": "fc09606d-368c-40b5-8a0c-d3f4a1b817d0"
   },
   "outputs": [],
   "source": [
    "!pip install -qq transformers"
   ]
  },
  {
   "cell_type": "code",
   "execution_count": 3,
   "metadata": {
    "cellView": "form",
    "colab": {
     "base_uri": "https://localhost:8080/",
     "height": 69
    },
    "colab_type": "code",
    "id": "w68CZpOwFoly",
    "outputId": "b2e7e775-74e0-4250-8395-a3414634ab9a"
   },
   "outputs": [],
   "source": [
    "import transformers\n",
    "from transformers import BertModel, BertTokenizer, AdamW, get_linear_schedule_with_warmup\n",
    "import torch\n",
    "\n",
    "import numpy as np\n",
    "import pandas as pd\n",
    "import seaborn as sns\n",
    "from pylab import rcParams\n",
    "import matplotlib.pyplot as plt\n",
    "from matplotlib import rc\n",
    "from sklearn.model_selection import train_test_split\n",
    "from sklearn.metrics import confusion_matrix, classification_report\n",
    "from collections import defaultdict\n",
    "from textwrap import wrap\n",
    "from torchtext import data\n",
    "from torchtext import datasets\n",
    "from torch import nn, optim\n",
    "from torch.utils.data import Dataset, DataLoader\n",
    "import torch.nn.functional as F\n",
    "\n",
    "%matplotlib inline\n",
    "%config InlineBackend.figure_format='retina'"
   ]
  },
  {
   "cell_type": "markdown",
   "metadata": {
    "colab_type": "text",
    "id": "9aHyGuTFgyPO"
   },
   "source": [
    "## Préparer les données\n",
    "\n",
    "La préparation des données pour BERT est différente que pour nos modèles précédents. Il faut : \n",
    "\n",
    "- Ajouter des tokens spécaux pour séparer les commentaires et faire la classification.\n",
    "- Passer des séquences de taille constante (padding)\n",
    "- Créer des array de 0 (pour les tokens pad) et de 1 (vrai token) appelés attention mask."
   ]
  },
  {
   "cell_type": "code",
   "execution_count": 4,
   "metadata": {},
   "outputs": [],
   "source": [
    "my_path = 'data/'\n",
    "train = pd.read_csv(my_path + \"train.csv\") \n",
    "validation = pd.read_csv(my_path + \"valid.csv\") \n",
    "test = pd.read_csv(my_path + \"test.csv\")"
   ]
  },
  {
   "cell_type": "code",
   "execution_count": 5,
   "metadata": {
    "colab": {},
    "colab_type": "code",
    "id": "E7Mj-0ne--5t"
   },
   "outputs": [],
   "source": [
    "PRE_TRAINED_MODEL_NAME = 'bert-base-uncased' # on utilise le modèle qui ne prend pas en compte les majuscules"
   ]
  },
  {
   "cell_type": "code",
   "execution_count": 6,
   "metadata": {
    "colab": {
     "base_uri": "https://localhost:8080/",
     "height": 66,
     "referenced_widgets": [
      "343c1a275063462aa03c199d3ed1d7ef",
      "166d0c7fb7ff4826a44081caed6eb84e",
      "d9badf8646084cf5bb2a209acb4c1c70",
      "5cf90e149a04462294132d2f77dadc82",
      "d9078504deea42b280b69e97589107f9",
      "04756700f6c14b5ebe5318ba52486a67",
      "22e67e1ff7ce4ecba749f00d267ae424",
      "cae606687dec47008840cc107104aac6"
     ]
    },
    "colab_type": "code",
    "id": "H3AfJSZ8NNLF",
    "outputId": "2a688b91-258e-46ef-a5c4-554699c9027e"
   },
   "outputs": [],
   "source": [
    "import transformers\n",
    "from transformers import BertTokenizer\n",
    "tokenizer = BertTokenizer.from_pretrained(PRE_TRAINED_MODEL_NAME)"
   ]
  },
  {
   "cell_type": "code",
   "execution_count": 7,
   "metadata": {},
   "outputs": [],
   "source": [
    "from torch import nn, optim"
   ]
  },
  {
   "cell_type": "code",
   "execution_count": 8,
   "metadata": {},
   "outputs": [],
   "source": [
    "from transformers import BertModel, BertTokenizer, AdamW, get_linear_schedule_with_warmup\n",
    "import random"
   ]
  },
  {
   "cell_type": "code",
   "execution_count": 9,
   "metadata": {
    "colab": {},
    "colab_type": "code",
    "id": "V-155O-SFSqE"
   },
   "outputs": [],
   "source": [
    "class_names = ['negative',  'positive']"
   ]
  },
  {
   "cell_type": "markdown",
   "metadata": {
    "colab_type": "text",
    "id": "XvvcoU6nurHy"
   },
   "source": [
    "On crée une classe qui pré-traite nos données."
   ]
  },
  {
   "cell_type": "code",
   "execution_count": 10,
   "metadata": {
    "colab": {},
    "colab_type": "code",
    "id": "E2BPgRJ7YBK0"
   },
   "outputs": [],
   "source": [
    "class GPReviewDataset(Dataset):\n",
    "\n",
    "    def __init__(self, reviews, targets, tokenizer, max_len):\n",
    "        self.reviews = reviews\n",
    "        self.targets = targets\n",
    "        self.tokenizer = tokenizer\n",
    "        self.max_len = max_len\n",
    "  \n",
    "    def __len__(self):\n",
    "        return len(self.reviews)\n",
    "  \n",
    "    def __getitem__(self, item):\n",
    "        review = str(self.reviews[item])\n",
    "        target = self.targets[item]\n",
    "        # cette méthode permet d'ajouter les tokens spéciaux de début, de fin \n",
    "        # tokenise les séquence, les transforme en index\n",
    "        # réalise le padding et retourne le masque d'attention\n",
    "        encoding = self.tokenizer.encode_plus(\n",
    "          review,\n",
    "          add_special_tokens=True,\n",
    "          max_length=self.max_len,\n",
    "          return_token_type_ids=False,\n",
    "          pad_to_max_length=True,\n",
    "          return_attention_mask=True,\n",
    "          return_tensors='pt',\n",
    "        )\n",
    "\n",
    "        return {\n",
    "          'review_text': review,\n",
    "          'input_ids': encoding['input_ids'].flatten(),\n",
    "          'attention_mask': encoding['attention_mask'].flatten(),\n",
    "          'targets': torch.tensor(target, dtype=torch.long)\n",
    "        }"
   ]
  },
  {
   "cell_type": "code",
   "execution_count": 11,
   "metadata": {},
   "outputs": [],
   "source": [
    "df_train = train\n",
    "df_val = validation\n",
    "df_test = test"
   ]
  },
  {
   "cell_type": "code",
   "execution_count": 12,
   "metadata": {},
   "outputs": [
    {
     "data": {
      "text/plain": [
       "((40000, 2), (5000, 2), (5000, 2))"
      ]
     },
     "execution_count": 12,
     "metadata": {},
     "output_type": "execute_result"
    }
   ],
   "source": [
    "df_train.shape, df_val.shape, df_test.shape"
   ]
  },
  {
   "cell_type": "code",
   "execution_count": 13,
   "metadata": {},
   "outputs": [],
   "source": [
    "def create_data_loader(df, tokenizer, max_len, batch_size):\n",
    "    ds = GPReviewDataset(\n",
    "        reviews=df.text.to_numpy(),\n",
    "        targets=df.label.to_numpy(),\n",
    "        tokenizer=tokenizer,\n",
    "        max_len=max_len\n",
    "      )\n",
    "\n",
    "    return DataLoader(\n",
    "        ds,\n",
    "        batch_size=batch_size,\n",
    "      )"
   ]
  },
  {
   "cell_type": "code",
   "execution_count": 14,
   "metadata": {},
   "outputs": [],
   "source": [
    "BATCH_SIZE = 16\n",
    "MAX_LEN = 500\n",
    "\n",
    "train_data_loader = create_data_loader(df_train, tokenizer, MAX_LEN, BATCH_SIZE)\n",
    "val_data_loader = create_data_loader(df_val, tokenizer, MAX_LEN, BATCH_SIZE)\n",
    "test_data_loader = create_data_loader(df_test, tokenizer, MAX_LEN, BATCH_SIZE)"
   ]
  },
  {
   "cell_type": "code",
   "execution_count": 15,
   "metadata": {},
   "outputs": [
    {
     "data": {
      "text/plain": [
       "dict_keys(['review_text', 'input_ids', 'attention_mask', 'targets'])"
      ]
     },
     "execution_count": 15,
     "metadata": {},
     "output_type": "execute_result"
    }
   ],
   "source": [
    "data = next(iter(train_data_loader))\n",
    "data.keys()"
   ]
  },
  {
   "cell_type": "code",
   "execution_count": 16,
   "metadata": {},
   "outputs": [
    {
     "name": "stdout",
     "output_type": "stream",
     "text": [
      "torch.Size([16, 500])\n",
      "torch.Size([16, 500])\n",
      "torch.Size([16])\n"
     ]
    }
   ],
   "source": [
    "print(data['input_ids'].shape)\n",
    "print(data['attention_mask'].shape)\n",
    "print(data['targets'].shape)"
   ]
  },
  {
   "cell_type": "markdown",
   "metadata": {
    "colab_type": "text",
    "id": "H63Y-TjyRC7S"
   },
   "source": [
    "## Construction du modèle"
   ]
  },
  {
   "cell_type": "markdown",
   "metadata": {},
   "source": [
    "![bert.png](data:image/png;base64,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)"
   ]
  },
  {
   "cell_type": "code",
   "execution_count": 17,
   "metadata": {
    "colab": {
     "base_uri": "https://localhost:8080/",
     "height": 116,
     "referenced_widgets": [
      "33693680ff124f39970c0c8dafbd26fd",
      "3c48819dbf2047e8886f100e37d194fa",
      "c180b8c387364532bc6fdb2a394843c4",
      "16f91a177f85427b89d920078df28f5c",
      "ec4e9d13d7e74293b0eba1e0cb2671d3",
      "3861ff5a2573430b8cf30ef98e610b28",
      "fb4f06fb41fa41788d7681dfe68f1f38",
      "e54f33a20347424ba431be49bd4ae228",
      "8ec949bead684c2294846464272c38a3",
      "87d98244594e410483c77e9e85f789a3",
      "d4fae1147d084d8db4f2b7cdeedffdc8",
      "f2b72d2e3c454b80834590b7a2adca0f",
      "f34cf9d547d545a0a5ac9f87cd84f507",
      "6419e6550f6a4404ac747d0a92e1b3d8",
      "288326712deb4c489bda304680cc33de",
      "e1106e3702d24c3da64d3817c99a029a"
     ]
    },
    "colab_type": "code",
    "id": "0P41FayISNRI",
    "outputId": "fce2c6f5-e7c2-49c5-8ea1-27bc92121f95"
   },
   "outputs": [],
   "source": [
    "bert_model = BertModel.from_pretrained(PRE_TRAINED_MODEL_NAME)"
   ]
  },
  {
   "cell_type": "code",
   "execution_count": 18,
   "metadata": {
    "colab": {},
    "colab_type": "code",
    "id": "m_mRflxPl32F"
   },
   "outputs": [],
   "source": [
    "class SentimentClassifier(nn.Module):\n",
    "\n",
    "    def __init__(self, n_classes):\n",
    "        super(SentimentClassifier, self).__init__()\n",
    "        self.bert = BertModel.from_pretrained(PRE_TRAINED_MODEL_NAME)\n",
    "        self.dropout = nn.Dropout(p=0.3)\n",
    "        self.out = nn.Linear(self.bert.config.hidden_size, n_classes)\n",
    "  \n",
    "    def forward(self, input_ids, attention_mask):\n",
    "        _, pooled_output = self.bert(\n",
    "        input_ids=input_ids,\n",
    "        attention_mask=attention_mask\n",
    "        )\n",
    "        output = self.dropout(pooled_output)\n",
    "        return self.out(output)"
   ]
  },
  {
   "cell_type": "code",
   "execution_count": 19,
   "metadata": {
    "colab": {},
    "colab_type": "code",
    "id": "i0yQnuSFsjDp"
   },
   "outputs": [],
   "source": [
    "n_classes = 2\n",
    "model = SentimentClassifier(n_classes)\n",
    "device = torch.device('cuda' if torch.cuda.is_available() else 'cpu')\n",
    "device = 'cpu'\n",
    "model = model.to(device)"
   ]
  },
  {
   "cell_type": "code",
   "execution_count": 20,
   "metadata": {},
   "outputs": [
    {
     "name": "stdout",
     "output_type": "stream",
     "text": [
      "Le modèle a 109,483,778 paramètres à entraîner\n"
     ]
    }
   ],
   "source": [
    "def count_parameters(model):\n",
    "    return sum(p.numel() for p in model.parameters() if p.requires_grad)\n",
    "\n",
    "print(f'Le modèle a {count_parameters(model):,} paramètres à entraîner')"
   ]
  },
  {
   "cell_type": "markdown",
   "metadata": {
    "colab_type": "text",
    "id": "g9xikRdtRN1N"
   },
   "source": [
    "### Entraînement"
   ]
  },
  {
   "cell_type": "markdown",
   "metadata": {
    "colab_type": "text",
    "id": "76g7FV85H-T8"
   },
   "source": [
    "Pour reproduire l'entraînement du papier BERT, on utilise l'optimiseur [AdamW](https://huggingface.co/transformers/main_classes/optimizer_schedules.html#adamw). "
   ]
  },
  {
   "cell_type": "markdown",
   "metadata": {
    "colab_type": "text",
    "id": "A8522g7JIu5J"
   },
   "source": [
    "Pour les hyperparamètres on utilise ceux décrits par les auteurs de BERT :  \n",
    "\n",
    "- Batch size: 16, 32\n",
    "- Learning rate (Adam): 5e-5, 3e-5, 2e-5\n",
    "- Number of epochs: 2, 3, 4"
   ]
  },
  {
   "cell_type": "code",
   "execution_count": 21,
   "metadata": {
    "colab": {},
    "colab_type": "code",
    "id": "5v-ArJ2fCCcU"
   },
   "outputs": [],
   "source": [
    "EPOCHS = 2\n",
    "optimizer = AdamW(model.parameters(), lr=2e-5, correct_bias=False)\n",
    "total_steps = len(train_data_loader) * EPOCHS\n",
    "\n",
    "scheduler = get_linear_schedule_with_warmup(\n",
    "  optimizer,\n",
    "  num_warmup_steps=0,\n",
    "  num_training_steps=total_steps\n",
    ")\n",
    "\n",
    "loss_fn = nn.CrossEntropyLoss().to(device)"
   ]
  },
  {
   "cell_type": "code",
   "execution_count": 22,
   "metadata": {
    "colab": {},
    "colab_type": "code",
    "id": "bzl9UhuNx1_Q"
   },
   "outputs": [],
   "source": [
    "def train_epoch(\n",
    "  model, \n",
    "  data_loader, \n",
    "  loss_fn, \n",
    "  optimizer, \n",
    "  device, \n",
    "  scheduler, \n",
    "  n_examples\n",
    "):\n",
    "    model = model.train()\n",
    "    losses = []\n",
    "    correct_predictions = 0\n",
    "  \n",
    "    for d in data_loader:\n",
    "        input_ids = d[\"input_ids\"].to(device)\n",
    "        attention_mask = d[\"attention_mask\"].to(device)\n",
    "        targets = d[\"targets\"].to(device)\n",
    "\n",
    "        outputs = model(\n",
    "          input_ids=input_ids,\n",
    "          attention_mask=attention_mask\n",
    "        )\n",
    "\n",
    "        _, preds = torch.max(outputs, dim=1)\n",
    "        loss = loss_fn(outputs, targets)\n",
    "\n",
    "        correct_predictions += torch.sum(preds == targets)\n",
    "        losses.append(loss.item())\n",
    "\n",
    "        loss.backward()\n",
    "        nn.utils.clip_grad_norm_(model.parameters(), max_norm=1.0)\n",
    "        optimizer.step()\n",
    "        scheduler.step()\n",
    "        optimizer.zero_grad()\n",
    "\n",
    "    return correct_predictions.double() / n_examples, np.mean(losses)"
   ]
  },
  {
   "cell_type": "code",
   "execution_count": 23,
   "metadata": {
    "colab": {},
    "colab_type": "code",
    "id": "CXeRorVGIKre"
   },
   "outputs": [],
   "source": [
    "def eval_model(model, data_loader, loss_fn, device, n_examples):\n",
    "    model = model.eval()\n",
    "\n",
    "    losses = []\n",
    "    correct_predictions = 0\n",
    "\n",
    "    with torch.no_grad():\n",
    "        for d in data_loader:\n",
    "            input_ids = d[\"input_ids\"].to(device)\n",
    "            attention_mask = d[\"attention_mask\"].to(device)\n",
    "            targets = d[\"targets\"].to(device)\n",
    "\n",
    "            outputs = model(\n",
    "                input_ids=input_ids,\n",
    "                attention_mask=attention_mask\n",
    "              )\n",
    "            _, preds = torch.max(outputs, dim=1)\n",
    "\n",
    "            loss = loss_fn(outputs, targets)\n",
    "\n",
    "            correct_predictions += torch.sum(preds == targets)\n",
    "            losses.append(loss.item())\n",
    "\n",
    "    return correct_predictions.double() / n_examples, np.mean(losses)"
   ]
  },
  {
   "cell_type": "code",
   "execution_count": null,
   "metadata": {
    "colab": {
     "base_uri": "https://localhost:8080/",
     "height": 486
    },
    "colab_type": "code",
    "id": "1zhHoFNsxufs",
    "outputId": "2cd4aee2-c350-4a24-9567-948905ece13a"
   },
   "outputs": [
    {
     "name": "stdout",
     "output_type": "stream",
     "text": [
      "Epoch 1/2\n",
      "----------\n"
     ]
    }
   ],
   "source": [
    "%%time\n",
    "\n",
    "history = defaultdict(list)\n",
    "best_accuracy = 0\n",
    "EPOCHS = 2\n",
    "for epoch in range(EPOCHS):\n",
    "\n",
    "    print(f'Epoch {epoch + 1}/{EPOCHS}')\n",
    "    print('-' * 10)\n",
    "\n",
    "    train_acc, train_loss = train_epoch(\n",
    "        model,\n",
    "        train_data_loader,    \n",
    "        loss_fn, \n",
    "        optimizer, \n",
    "        device, \n",
    "    scheduler, \n",
    "    len(df_train)\n",
    "  )\n",
    "\n",
    "    print(f'Train loss {train_loss} accuracy {train_acc}')\n",
    "\n",
    "    val_acc, val_loss = eval_model(\n",
    "    model,\n",
    "    val_data_loader,\n",
    "    loss_fn, \n",
    "    device, \n",
    "    len(df_val)\n",
    "    )\n",
    "\n",
    "    print(f'Val   loss {val_loss} accuracy {val_acc}')\n",
    "    print()\n",
    "\n",
    "    history['train_acc'].append(train_acc)\n",
    "    history['train_loss'].append(train_loss)\n",
    "    history['val_acc'].append(val_acc)\n",
    "    history['val_loss'].append(val_loss)\n",
    "\n",
    "    if val_acc > best_accuracy:\n",
    "        torch.save(model.state_dict(), 'best_model_state.bin')\n",
    "        best_accuracy = val_acc"
   ]
  },
  {
   "cell_type": "markdown",
   "metadata": {
    "colab_type": "text",
    "id": "U3HZb3NWFtFf"
   },
   "source": [
    "## Test\n"
   ]
  },
  {
   "cell_type": "code",
   "execution_count": null,
   "metadata": {
    "colab": {
     "base_uri": "https://localhost:8080/",
     "height": 34
    },
    "colab_type": "code",
    "id": "jS3gJ_qBEljD",
    "outputId": "21f968b6-fd29-4e74-dee0-8dc9eacd301e"
   },
   "outputs": [],
   "source": [
    "test_acc, _ = eval_model(\n",
    "  model,\n",
    "  test_data_loader,\n",
    "  loss_fn,\n",
    "  device,\n",
    "  len(df_test)\n",
    ")\n",
    "\n",
    "test_acc.item()"
   ]
  },
  {
   "cell_type": "code",
   "execution_count": null,
   "metadata": {
    "colab": {},
    "colab_type": "code",
    "id": "EgR6MuNS8jr_"
   },
   "outputs": [],
   "source": [
    "def get_predictions(model, data_loader):\n",
    "    model = model.eval()\n",
    "  \n",
    "    review_texts = []\n",
    "    predictions = []\n",
    "    prediction_probs = []\n",
    "    real_values = []\n",
    "\n",
    "    with torch.no_grad():\n",
    "        for d in data_loader:\n",
    "\n",
    "            texts = d[\"review_text\"]\n",
    "            input_ids = d[\"input_ids\"].to(device)\n",
    "            attention_mask = d[\"attention_mask\"].to(device)\n",
    "            targets = d[\"targets\"].to(device)\n",
    "\n",
    "            outputs = model(\n",
    "                        input_ids=input_ids,\n",
    "                        attention_mask=attention_mask\n",
    "                          )\n",
    "            _, preds = torch.max(outputs, dim=1)\n",
    "\n",
    "            probs = F.softmax(outputs, dim=1)\n",
    "\n",
    "            review_texts.extend(texts)\n",
    "            predictions.extend(preds)\n",
    "            prediction_probs.extend(probs)\n",
    "            real_values.extend(targets)\n",
    "\n",
    "    predictions = torch.stack(predictions).cpu()\n",
    "    prediction_probs = torch.stack(prediction_probs).cpu()\n",
    "    real_values = torch.stack(real_values).cpu()\n",
    "    return review_texts, predictions, prediction_probs, real_values"
   ]
  },
  {
   "cell_type": "code",
   "execution_count": null,
   "metadata": {
    "colab": {},
    "colab_type": "code",
    "id": "zHdPZr60-0c_"
   },
   "outputs": [],
   "source": [
    "y_review_texts, y_pred, y_pred_probs, y_test = get_predictions(\n",
    "  model,\n",
    "  test_data_loader\n",
    ")"
   ]
  },
  {
   "cell_type": "markdown",
   "metadata": {
    "colab_type": "text",
    "id": "7WL5pDmvFyaU"
   },
   "source": [
    "### Inférence\n"
   ]
  },
  {
   "cell_type": "code",
   "execution_count": null,
   "metadata": {
    "colab": {},
    "colab_type": "code",
    "id": "QEPi7zQRsDhH"
   },
   "outputs": [],
   "source": [
    "review_text = \"this film is not good\""
   ]
  },
  {
   "cell_type": "code",
   "execution_count": null,
   "metadata": {
    "colab": {},
    "colab_type": "code",
    "id": "zA5Or4D2sLc9"
   },
   "outputs": [],
   "source": [
    "encoded_review = tokenizer.encode_plus(\n",
    "  review_text,\n",
    "  max_length=MAX_LEN,\n",
    "  add_special_tokens=True,\n",
    "  return_token_type_ids=False,\n",
    "  pad_to_max_length=True,\n",
    "  return_attention_mask=True,\n",
    "  return_tensors='pt',\n",
    ")"
   ]
  },
  {
   "cell_type": "code",
   "execution_count": null,
   "metadata": {
    "colab": {
     "base_uri": "https://localhost:8080/",
     "height": 51
    },
    "colab_type": "code",
    "id": "Qr_t3rUksumr",
    "outputId": "4a69d750-c56a-40c1-822a-0b3e7df16b3e"
   },
   "outputs": [],
   "source": [
    "input_ids = encoded_review['input_ids'].to(device)\n",
    "attention_mask = encoded_review['attention_mask'].to(device)\n",
    "\n",
    "output = model(input_ids, attention_mask)\n",
    "_, prediction = torch.max(output, dim=1)\n",
    "\n",
    "print(f'Review text: {review_text}')\n",
    "print(f'Sentiment  : {class_names[prediction]}')"
   ]
  },
  {
   "cell_type": "markdown",
   "metadata": {
    "colab_type": "text",
    "id": "Wf39tauBa2V2"
   },
   "source": [
    "## Références\n",
    "\n",
    "- [BERT: Pre-training of Deep Bidirectional Transformers for Language Understanding](https://arxiv.org/abs/1810.04805)\n",
    "- https://www.curiousily.com/posts/sentiment-analysis-with-bert-and-hugging-face-using-pytorch-and-python/"
   ]
  }
 ],
 "metadata": {
  "accelerator": "GPU",
  "colab": {
   "collapsed_sections": [],
   "name": "Copie de 08.sentiment-analysis-with-bert.ipynb",
   "provenance": []
  },
  "kernelspec": {
   "display_name": "Python 3",
   "language": "python",
   "name": "python3"
  },
  "language_info": {
   "codemirror_mode": {
    "name": "ipython",
    "version": 3
   },
   "file_extension": ".py",
   "mimetype": "text/x-python",
   "name": "python",
   "nbconvert_exporter": "python",
   "pygments_lexer": "ipython3",
   "version": "3.7.6"
  },
  "widgets": {
   "application/vnd.jupyter.widget-state+json": {
    "04756700f6c14b5ebe5318ba52486a67": {
     "model_module": "@jupyter-widgets/base",
     "model_name": "LayoutModel",
     "state": {
      "_model_module": "@jupyter-widgets/base",
      "_model_module_version": "1.2.0",
      "_model_name": "LayoutModel",
      "_view_count": null,
      "_view_module": "@jupyter-widgets/base",
      "_view_module_version": "1.2.0",
      "_view_name": "LayoutView",
      "align_content": null,
      "align_items": null,
      "align_self": null,
      "border": null,
      "bottom": null,
      "display": null,
      "flex": null,
      "flex_flow": null,
      "grid_area": null,
      "grid_auto_columns": null,
      "grid_auto_flow": null,
      "grid_auto_rows": null,
      "grid_column": null,
      "grid_gap": null,
      "grid_row": null,
      "grid_template_areas": null,
      "grid_template_columns": null,
      "grid_template_rows": null,
      "height": null,
      "justify_content": null,
      "justify_items": null,
      "left": null,
      "margin": null,
      "max_height": null,
      "max_width": null,
      "min_height": null,
      "min_width": null,
      "object_fit": null,
      "object_position": null,
      "order": null,
      "overflow": null,
      "overflow_x": null,
      "overflow_y": null,
      "padding": null,
      "right": null,
      "top": null,
      "visibility": null,
      "width": null
     }
    },
    "166d0c7fb7ff4826a44081caed6eb84e": {
     "model_module": "@jupyter-widgets/base",
     "model_name": "LayoutModel",
     "state": {
      "_model_module": "@jupyter-widgets/base",
      "_model_module_version": "1.2.0",
      "_model_name": "LayoutModel",
      "_view_count": null,
      "_view_module": "@jupyter-widgets/base",
      "_view_module_version": "1.2.0",
      "_view_name": "LayoutView",
      "align_content": null,
      "align_items": null,
      "align_self": null,
      "border": null,
      "bottom": null,
      "display": null,
      "flex": null,
      "flex_flow": null,
      "grid_area": null,
      "grid_auto_columns": null,
      "grid_auto_flow": null,
      "grid_auto_rows": null,
      "grid_column": null,
      "grid_gap": null,
      "grid_row": null,
      "grid_template_areas": null,
      "grid_template_columns": null,
      "grid_template_rows": null,
      "height": null,
      "justify_content": null,
      "justify_items": null,
      "left": null,
      "margin": null,
      "max_height": null,
      "max_width": null,
      "min_height": null,
      "min_width": null,
      "object_fit": null,
      "object_position": null,
      "order": null,
      "overflow": null,
      "overflow_x": null,
      "overflow_y": null,
      "padding": null,
      "right": null,
      "top": null,
      "visibility": null,
      "width": null
     }
    },
    "16f91a177f85427b89d920078df28f5c": {
     "model_module": "@jupyter-widgets/controls",
     "model_name": "HTMLModel",
     "state": {
      "_dom_classes": [],
      "_model_module": "@jupyter-widgets/controls",
      "_model_module_version": "1.5.0",
      "_model_name": "HTMLModel",
      "_view_count": null,
      "_view_module": "@jupyter-widgets/controls",
      "_view_module_version": "1.5.0",
      "_view_name": "HTMLView",
      "description": "",
      "description_tooltip": null,
      "layout": "IPY_MODEL_e54f33a20347424ba431be49bd4ae228",
      "placeholder": "​",
      "style": "IPY_MODEL_fb4f06fb41fa41788d7681dfe68f1f38",
      "value": " 433/433 [00:06&lt;00:00, 66.0B/s]"
     }
    },
    "22e67e1ff7ce4ecba749f00d267ae424": {
     "model_module": "@jupyter-widgets/controls",
     "model_name": "DescriptionStyleModel",
     "state": {
      "_model_module": "@jupyter-widgets/controls",
      "_model_module_version": "1.5.0",
      "_model_name": "DescriptionStyleModel",
      "_view_count": null,
      "_view_module": "@jupyter-widgets/base",
      "_view_module_version": "1.2.0",
      "_view_name": "StyleView",
      "description_width": ""
     }
    },
    "288326712deb4c489bda304680cc33de": {
     "model_module": "@jupyter-widgets/controls",
     "model_name": "DescriptionStyleModel",
     "state": {
      "_model_module": "@jupyter-widgets/controls",
      "_model_module_version": "1.5.0",
      "_model_name": "DescriptionStyleModel",
      "_view_count": null,
      "_view_module": "@jupyter-widgets/base",
      "_view_module_version": "1.2.0",
      "_view_name": "StyleView",
      "description_width": ""
     }
    },
    "33693680ff124f39970c0c8dafbd26fd": {
     "model_module": "@jupyter-widgets/controls",
     "model_name": "HBoxModel",
     "state": {
      "_dom_classes": [],
      "_model_module": "@jupyter-widgets/controls",
      "_model_module_version": "1.5.0",
      "_model_name": "HBoxModel",
      "_view_count": null,
      "_view_module": "@jupyter-widgets/controls",
      "_view_module_version": "1.5.0",
      "_view_name": "HBoxView",
      "box_style": "",
      "children": [
       "IPY_MODEL_c180b8c387364532bc6fdb2a394843c4",
       "IPY_MODEL_16f91a177f85427b89d920078df28f5c"
      ],
      "layout": "IPY_MODEL_3c48819dbf2047e8886f100e37d194fa"
     }
    },
    "343c1a275063462aa03c199d3ed1d7ef": {
     "model_module": "@jupyter-widgets/controls",
     "model_name": "HBoxModel",
     "state": {
      "_dom_classes": [],
      "_model_module": "@jupyter-widgets/controls",
      "_model_module_version": "1.5.0",
      "_model_name": "HBoxModel",
      "_view_count": null,
      "_view_module": "@jupyter-widgets/controls",
      "_view_module_version": "1.5.0",
      "_view_name": "HBoxView",
      "box_style": "",
      "children": [
       "IPY_MODEL_d9badf8646084cf5bb2a209acb4c1c70",
       "IPY_MODEL_5cf90e149a04462294132d2f77dadc82"
      ],
      "layout": "IPY_MODEL_166d0c7fb7ff4826a44081caed6eb84e"
     }
    },
    "3861ff5a2573430b8cf30ef98e610b28": {
     "model_module": "@jupyter-widgets/base",
     "model_name": "LayoutModel",
     "state": {
      "_model_module": "@jupyter-widgets/base",
      "_model_module_version": "1.2.0",
      "_model_name": "LayoutModel",
      "_view_count": null,
      "_view_module": "@jupyter-widgets/base",
      "_view_module_version": "1.2.0",
      "_view_name": "LayoutView",
      "align_content": null,
      "align_items": null,
      "align_self": null,
      "border": null,
      "bottom": null,
      "display": null,
      "flex": null,
      "flex_flow": null,
      "grid_area": null,
      "grid_auto_columns": null,
      "grid_auto_flow": null,
      "grid_auto_rows": null,
      "grid_column": null,
      "grid_gap": null,
      "grid_row": null,
      "grid_template_areas": null,
      "grid_template_columns": null,
      "grid_template_rows": null,
      "height": null,
      "justify_content": null,
      "justify_items": null,
      "left": null,
      "margin": null,
      "max_height": null,
      "max_width": null,
      "min_height": null,
      "min_width": null,
      "object_fit": null,
      "object_position": null,
      "order": null,
      "overflow": null,
      "overflow_x": null,
      "overflow_y": null,
      "padding": null,
      "right": null,
      "top": null,
      "visibility": null,
      "width": null
     }
    },
    "3c48819dbf2047e8886f100e37d194fa": {
     "model_module": "@jupyter-widgets/base",
     "model_name": "LayoutModel",
     "state": {
      "_model_module": "@jupyter-widgets/base",
      "_model_module_version": "1.2.0",
      "_model_name": "LayoutModel",
      "_view_count": null,
      "_view_module": "@jupyter-widgets/base",
      "_view_module_version": "1.2.0",
      "_view_name": "LayoutView",
      "align_content": null,
      "align_items": null,
      "align_self": null,
      "border": null,
      "bottom": null,
      "display": null,
      "flex": null,
      "flex_flow": null,
      "grid_area": null,
      "grid_auto_columns": null,
      "grid_auto_flow": null,
      "grid_auto_rows": null,
      "grid_column": null,
      "grid_gap": null,
      "grid_row": null,
      "grid_template_areas": null,
      "grid_template_columns": null,
      "grid_template_rows": null,
      "height": null,
      "justify_content": null,
      "justify_items": null,
      "left": null,
      "margin": null,
      "max_height": null,
      "max_width": null,
      "min_height": null,
      "min_width": null,
      "object_fit": null,
      "object_position": null,
      "order": null,
      "overflow": null,
      "overflow_x": null,
      "overflow_y": null,
      "padding": null,
      "right": null,
      "top": null,
      "visibility": null,
      "width": null
     }
    },
    "5cf90e149a04462294132d2f77dadc82": {
     "model_module": "@jupyter-widgets/controls",
     "model_name": "HTMLModel",
     "state": {
      "_dom_classes": [],
      "_model_module": "@jupyter-widgets/controls",
      "_model_module_version": "1.5.0",
      "_model_name": "HTMLModel",
      "_view_count": null,
      "_view_module": "@jupyter-widgets/controls",
      "_view_module_version": "1.5.0",
      "_view_name": "HTMLView",
      "description": "",
      "description_tooltip": null,
      "layout": "IPY_MODEL_cae606687dec47008840cc107104aac6",
      "placeholder": "​",
      "style": "IPY_MODEL_22e67e1ff7ce4ecba749f00d267ae424",
      "value": " 213k/213k [00:00&lt;00:00, 816kB/s]"
     }
    },
    "6419e6550f6a4404ac747d0a92e1b3d8": {
     "model_module": "@jupyter-widgets/base",
     "model_name": "LayoutModel",
     "state": {
      "_model_module": "@jupyter-widgets/base",
      "_model_module_version": "1.2.0",
      "_model_name": "LayoutModel",
      "_view_count": null,
      "_view_module": "@jupyter-widgets/base",
      "_view_module_version": "1.2.0",
      "_view_name": "LayoutView",
      "align_content": null,
      "align_items": null,
      "align_self": null,
      "border": null,
      "bottom": null,
      "display": null,
      "flex": null,
      "flex_flow": null,
      "grid_area": null,
      "grid_auto_columns": null,
      "grid_auto_flow": null,
      "grid_auto_rows": null,
      "grid_column": null,
      "grid_gap": null,
      "grid_row": null,
      "grid_template_areas": null,
      "grid_template_columns": null,
      "grid_template_rows": null,
      "height": null,
      "justify_content": null,
      "justify_items": null,
      "left": null,
      "margin": null,
      "max_height": null,
      "max_width": null,
      "min_height": null,
      "min_width": null,
      "object_fit": null,
      "object_position": null,
      "order": null,
      "overflow": null,
      "overflow_x": null,
      "overflow_y": null,
      "padding": null,
      "right": null,
      "top": null,
      "visibility": null,
      "width": null
     }
    },
    "87d98244594e410483c77e9e85f789a3": {
     "model_module": "@jupyter-widgets/base",
     "model_name": "LayoutModel",
     "state": {
      "_model_module": "@jupyter-widgets/base",
      "_model_module_version": "1.2.0",
      "_model_name": "LayoutModel",
      "_view_count": null,
      "_view_module": "@jupyter-widgets/base",
      "_view_module_version": "1.2.0",
      "_view_name": "LayoutView",
      "align_content": null,
      "align_items": null,
      "align_self": null,
      "border": null,
      "bottom": null,
      "display": null,
      "flex": null,
      "flex_flow": null,
      "grid_area": null,
      "grid_auto_columns": null,
      "grid_auto_flow": null,
      "grid_auto_rows": null,
      "grid_column": null,
      "grid_gap": null,
      "grid_row": null,
      "grid_template_areas": null,
      "grid_template_columns": null,
      "grid_template_rows": null,
      "height": null,
      "justify_content": null,
      "justify_items": null,
      "left": null,
      "margin": null,
      "max_height": null,
      "max_width": null,
      "min_height": null,
      "min_width": null,
      "object_fit": null,
      "object_position": null,
      "order": null,
      "overflow": null,
      "overflow_x": null,
      "overflow_y": null,
      "padding": null,
      "right": null,
      "top": null,
      "visibility": null,
      "width": null
     }
    },
    "8ec949bead684c2294846464272c38a3": {
     "model_module": "@jupyter-widgets/controls",
     "model_name": "HBoxModel",
     "state": {
      "_dom_classes": [],
      "_model_module": "@jupyter-widgets/controls",
      "_model_module_version": "1.5.0",
      "_model_name": "HBoxModel",
      "_view_count": null,
      "_view_module": "@jupyter-widgets/controls",
      "_view_module_version": "1.5.0",
      "_view_name": "HBoxView",
      "box_style": "",
      "children": [
       "IPY_MODEL_d4fae1147d084d8db4f2b7cdeedffdc8",
       "IPY_MODEL_f2b72d2e3c454b80834590b7a2adca0f"
      ],
      "layout": "IPY_MODEL_87d98244594e410483c77e9e85f789a3"
     }
    },
    "c180b8c387364532bc6fdb2a394843c4": {
     "model_module": "@jupyter-widgets/controls",
     "model_name": "FloatProgressModel",
     "state": {
      "_dom_classes": [],
      "_model_module": "@jupyter-widgets/controls",
      "_model_module_version": "1.5.0",
      "_model_name": "FloatProgressModel",
      "_view_count": null,
      "_view_module": "@jupyter-widgets/controls",
      "_view_module_version": "1.5.0",
      "_view_name": "ProgressView",
      "bar_style": "success",
      "description": "Downloading: 100%",
      "description_tooltip": null,
      "layout": "IPY_MODEL_3861ff5a2573430b8cf30ef98e610b28",
      "max": 433,
      "min": 0,
      "orientation": "horizontal",
      "style": "IPY_MODEL_ec4e9d13d7e74293b0eba1e0cb2671d3",
      "value": 433
     }
    },
    "cae606687dec47008840cc107104aac6": {
     "model_module": "@jupyter-widgets/base",
     "model_name": "LayoutModel",
     "state": {
      "_model_module": "@jupyter-widgets/base",
      "_model_module_version": "1.2.0",
      "_model_name": "LayoutModel",
      "_view_count": null,
      "_view_module": "@jupyter-widgets/base",
      "_view_module_version": "1.2.0",
      "_view_name": "LayoutView",
      "align_content": null,
      "align_items": null,
      "align_self": null,
      "border": null,
      "bottom": null,
      "display": null,
      "flex": null,
      "flex_flow": null,
      "grid_area": null,
      "grid_auto_columns": null,
      "grid_auto_flow": null,
      "grid_auto_rows": null,
      "grid_column": null,
      "grid_gap": null,
      "grid_row": null,
      "grid_template_areas": null,
      "grid_template_columns": null,
      "grid_template_rows": null,
      "height": null,
      "justify_content": null,
      "justify_items": null,
      "left": null,
      "margin": null,
      "max_height": null,
      "max_width": null,
      "min_height": null,
      "min_width": null,
      "object_fit": null,
      "object_position": null,
      "order": null,
      "overflow": null,
      "overflow_x": null,
      "overflow_y": null,
      "padding": null,
      "right": null,
      "top": null,
      "visibility": null,
      "width": null
     }
    },
    "d4fae1147d084d8db4f2b7cdeedffdc8": {
     "model_module": "@jupyter-widgets/controls",
     "model_name": "FloatProgressModel",
     "state": {
      "_dom_classes": [],
      "_model_module": "@jupyter-widgets/controls",
      "_model_module_version": "1.5.0",
      "_model_name": "FloatProgressModel",
      "_view_count": null,
      "_view_module": "@jupyter-widgets/controls",
      "_view_module_version": "1.5.0",
      "_view_name": "ProgressView",
      "bar_style": "success",
      "description": "Downloading: 100%",
      "description_tooltip": null,
      "layout": "IPY_MODEL_6419e6550f6a4404ac747d0a92e1b3d8",
      "max": 435779157,
      "min": 0,
      "orientation": "horizontal",
      "style": "IPY_MODEL_f34cf9d547d545a0a5ac9f87cd84f507",
      "value": 435779157
     }
    },
    "d9078504deea42b280b69e97589107f9": {
     "model_module": "@jupyter-widgets/controls",
     "model_name": "ProgressStyleModel",
     "state": {
      "_model_module": "@jupyter-widgets/controls",
      "_model_module_version": "1.5.0",
      "_model_name": "ProgressStyleModel",
      "_view_count": null,
      "_view_module": "@jupyter-widgets/base",
      "_view_module_version": "1.2.0",
      "_view_name": "StyleView",
      "bar_color": null,
      "description_width": "initial"
     }
    },
    "d9badf8646084cf5bb2a209acb4c1c70": {
     "model_module": "@jupyter-widgets/controls",
     "model_name": "FloatProgressModel",
     "state": {
      "_dom_classes": [],
      "_model_module": "@jupyter-widgets/controls",
      "_model_module_version": "1.5.0",
      "_model_name": "FloatProgressModel",
      "_view_count": null,
      "_view_module": "@jupyter-widgets/controls",
      "_view_module_version": "1.5.0",
      "_view_name": "ProgressView",
      "bar_style": "success",
      "description": "Downloading: 100%",
      "description_tooltip": null,
      "layout": "IPY_MODEL_04756700f6c14b5ebe5318ba52486a67",
      "max": 213450,
      "min": 0,
      "orientation": "horizontal",
      "style": "IPY_MODEL_d9078504deea42b280b69e97589107f9",
      "value": 213450
     }
    },
    "e1106e3702d24c3da64d3817c99a029a": {
     "model_module": "@jupyter-widgets/base",
     "model_name": "LayoutModel",
     "state": {
      "_model_module": "@jupyter-widgets/base",
      "_model_module_version": "1.2.0",
      "_model_name": "LayoutModel",
      "_view_count": null,
      "_view_module": "@jupyter-widgets/base",
      "_view_module_version": "1.2.0",
      "_view_name": "LayoutView",
      "align_content": null,
      "align_items": null,
      "align_self": null,
      "border": null,
      "bottom": null,
      "display": null,
      "flex": null,
      "flex_flow": null,
      "grid_area": null,
      "grid_auto_columns": null,
      "grid_auto_flow": null,
      "grid_auto_rows": null,
      "grid_column": null,
      "grid_gap": null,
      "grid_row": null,
      "grid_template_areas": null,
      "grid_template_columns": null,
      "grid_template_rows": null,
      "height": null,
      "justify_content": null,
      "justify_items": null,
      "left": null,
      "margin": null,
      "max_height": null,
      "max_width": null,
      "min_height": null,
      "min_width": null,
      "object_fit": null,
      "object_position": null,
      "order": null,
      "overflow": null,
      "overflow_x": null,
      "overflow_y": null,
      "padding": null,
      "right": null,
      "top": null,
      "visibility": null,
      "width": null
     }
    },
    "e54f33a20347424ba431be49bd4ae228": {
     "model_module": "@jupyter-widgets/base",
     "model_name": "LayoutModel",
     "state": {
      "_model_module": "@jupyter-widgets/base",
      "_model_module_version": "1.2.0",
      "_model_name": "LayoutModel",
      "_view_count": null,
      "_view_module": "@jupyter-widgets/base",
      "_view_module_version": "1.2.0",
      "_view_name": "LayoutView",
      "align_content": null,
      "align_items": null,
      "align_self": null,
      "border": null,
      "bottom": null,
      "display": null,
      "flex": null,
      "flex_flow": null,
      "grid_area": null,
      "grid_auto_columns": null,
      "grid_auto_flow": null,
      "grid_auto_rows": null,
      "grid_column": null,
      "grid_gap": null,
      "grid_row": null,
      "grid_template_areas": null,
      "grid_template_columns": null,
      "grid_template_rows": null,
      "height": null,
      "justify_content": null,
      "justify_items": null,
      "left": null,
      "margin": null,
      "max_height": null,
      "max_width": null,
      "min_height": null,
      "min_width": null,
      "object_fit": null,
      "object_position": null,
      "order": null,
      "overflow": null,
      "overflow_x": null,
      "overflow_y": null,
      "padding": null,
      "right": null,
      "top": null,
      "visibility": null,
      "width": null
     }
    },
    "ec4e9d13d7e74293b0eba1e0cb2671d3": {
     "model_module": "@jupyter-widgets/controls",
     "model_name": "ProgressStyleModel",
     "state": {
      "_model_module": "@jupyter-widgets/controls",
      "_model_module_version": "1.5.0",
      "_model_name": "ProgressStyleModel",
      "_view_count": null,
      "_view_module": "@jupyter-widgets/base",
      "_view_module_version": "1.2.0",
      "_view_name": "StyleView",
      "bar_color": null,
      "description_width": "initial"
     }
    },
    "f2b72d2e3c454b80834590b7a2adca0f": {
     "model_module": "@jupyter-widgets/controls",
     "model_name": "HTMLModel",
     "state": {
      "_dom_classes": [],
      "_model_module": "@jupyter-widgets/controls",
      "_model_module_version": "1.5.0",
      "_model_name": "HTMLModel",
      "_view_count": null,
      "_view_module": "@jupyter-widgets/controls",
      "_view_module_version": "1.5.0",
      "_view_name": "HTMLView",
      "description": "",
      "description_tooltip": null,
      "layout": "IPY_MODEL_e1106e3702d24c3da64d3817c99a029a",
      "placeholder": "​",
      "style": "IPY_MODEL_288326712deb4c489bda304680cc33de",
      "value": " 436M/436M [00:06&lt;00:00, 68.0MB/s]"
     }
    },
    "f34cf9d547d545a0a5ac9f87cd84f507": {
     "model_module": "@jupyter-widgets/controls",
     "model_name": "ProgressStyleModel",
     "state": {
      "_model_module": "@jupyter-widgets/controls",
      "_model_module_version": "1.5.0",
      "_model_name": "ProgressStyleModel",
      "_view_count": null,
      "_view_module": "@jupyter-widgets/base",
      "_view_module_version": "1.2.0",
      "_view_name": "StyleView",
      "bar_color": null,
      "description_width": "initial"
     }
    },
    "fb4f06fb41fa41788d7681dfe68f1f38": {
     "model_module": "@jupyter-widgets/controls",
     "model_name": "DescriptionStyleModel",
     "state": {
      "_model_module": "@jupyter-widgets/controls",
      "_model_module_version": "1.5.0",
      "_model_name": "DescriptionStyleModel",
      "_view_count": null,
      "_view_module": "@jupyter-widgets/base",
      "_view_module_version": "1.2.0",
      "_view_name": "StyleView",
      "description_width": ""
     }
    }
   }
  }
 },
 "nbformat": 4,
 "nbformat_minor": 4
}
