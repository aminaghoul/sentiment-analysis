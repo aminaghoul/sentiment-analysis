{
  "nbformat": 4,
  "nbformat_minor": 0,
  "metadata": {
    "kernelspec": {
      "display_name": "Python 3",
      "language": "python",
      "name": "python3"
    },
    "language_info": {
      "codemirror_mode": {
        "name": "ipython",
        "version": 3
      },
      "file_extension": ".py",
      "mimetype": "text/x-python",
      "name": "python",
      "nbconvert_exporter": "python",
      "pygments_lexer": "ipython3",
      "version": "3.7.6"
    },
    "colab": {
      "name": "2b-GRU.ipynb",
      "provenance": []
    },
    "accelerator": "GPU"
  },
  "cells": [
    {
      "cell_type": "markdown",
      "metadata": {
        "id": "kkKORoJSWGEl"
      },
      "source": [
        "# GRU\n",
        "\n",
        "Dans ce notebook, nous utilisons un modèle de réseau de neurones récurrents particulier, le **GRU**.\n",
        "Son architecture est plus simple que le LSTM utilisé dans le notebook précédent. Voir [cet article](https://penseeartificielle.fr/comprendre-lstm-gru-fonctionnement-schema/) pour comprendre l'architecture du GRU et du LSTM.\n",
        "## Importer et préparer des données\n",
        "\n",
        "La première étape est la même que dans le notebook précédent.\n",
        "\n",
        "La seule différence est que nous définissons `include_lengths = True` pour notre champ `TEXT`. Cela fera que `batch.text` sera maintenant un tuple avec le premier élément étant notre phrase et le deuxième élément étant les longueurs réelles de nos phrases."
      ]
    },
    {
      "cell_type": "code",
      "metadata": {
        "id": "xGoVTz1cWGEm",
        "outputId": "be24cda8-1905-451f-b974-5073313cb162",
        "colab": {
          "base_uri": "https://localhost:8080/"
        }
      },
      "source": [
        "import pandas as pd\n",
        "import torch\n",
        "from torchtext import data\n",
        "import random\n",
        "from torchtext import datasets\n",
        "\n",
        "SEED = 1234\n",
        "torch.manual_seed(SEED)\n",
        "torch.backends.cudnn.deterministic = True\n",
        "\n",
        "TEXT = data.Field(sequential=True,lower=True, tokenize = 'spacy', include_lengths=True)\n",
        "LABEL = data.LabelField(dtype = torch.float)\n",
        "\n",
        "train_data, test_data = datasets.IMDB.splits(TEXT, LABEL)\n",
        "test_data, valid_data = test_data.split(random_state = random.seed(1234))\n",
        "\n",
        "print(f'Taille des données train: {len(train_data)}')\n",
        "print(f'Taille des données de validation: {len(valid_data)}')\n",
        "print(f'Taille des données test: {len(test_data)}')"
      ],
      "execution_count": 1,
      "outputs": [
        {
          "output_type": "stream",
          "text": [
            "Taille des données train: 25000\n",
            "Taille des données de validation: 7500\n",
            "Taille des données test: 17500\n"
          ],
          "name": "stdout"
        }
      ]
    },
    {
      "cell_type": "markdown",
      "metadata": {
        "id": "94m-weCzWGEu"
      },
      "source": [
        "## Vocabulaire\n",
        "\n"
      ]
    },
    {
      "cell_type": "markdown",
      "metadata": {
        "id": "-D6U5b2MWGEv"
      },
      "source": [
        "Vient ensuite l'utilisation de word embeding pré-entraînées. Maintenant, au lieu d'avoir nos embeddings de mots initialisés au hasard, ils sont initialisés avec ces vecteurs pré-entraînés. Nous obtenons ces vecteurs simplement en spécifiant quels vecteurs nous voulons et en les passant comme argument à `build_vocab`. `TorchText` gère le téléchargement des vecteurs et les associe aux mots corrects de notre vocabulaire.\n",
        "\n",
        "Ici, nous allons utiliser les \"vecteurs\" glove.6B.100d. **GloVe** est l'algorithme utilisé pour calculer les vecteurs. 6B indique que ces vecteurs ont été entraînés sur 6 milliards de tokens et 100d indique que ces vecteurs sont 100 -dimensionnelle. Pour plus d'informations sur la représentation GloVe, lire [cet article](https://nlp.stanford.edu/projects/glove/)."
      ]
    },
    {
      "cell_type": "code",
      "metadata": {
        "id": "_GgNd5LpWGEw"
      },
      "source": [
        "MAX_VOCAB_SIZE = 50_000\n",
        "\n",
        "TEXT.build_vocab(train_data, \n",
        "                 max_size = MAX_VOCAB_SIZE, \n",
        "                 vectors = \"glove.6B.100d\", \n",
        "                 unk_init = torch.Tensor.normal_)\n",
        "LABEL.build_vocab(train_data)"
      ],
      "execution_count": 2,
      "outputs": []
    },
    {
      "cell_type": "markdown",
      "metadata": {
        "id": "dL-CjPAOWGE2"
      },
      "source": [
        "## Itérateur\n",
        "\n",
        "Ici tous les tenseurs d'un batch doivent être triés par leurs longueurs. Ceci est géré dans l'itérateur en définissant `sort_within_batch = True`."
      ]
    },
    {
      "cell_type": "code",
      "metadata": {
        "id": "3Fc5GuU5WGE3"
      },
      "source": [
        "BATCH_SIZE = 32\n",
        "\n",
        "device = torch.device('cuda' if torch.cuda.is_available() else 'cpu')\n",
        "#device = 'cpu'\n",
        "train_iterator, valid_iterator, test_iterator = data.BucketIterator.splits(\n",
        "    (train_data, valid_data, test_data), \n",
        "    batch_size = BATCH_SIZE,\n",
        "    device = device,sort_key=lambda x: len(x.text),\n",
        "    sort_within_batch = True)"
      ],
      "execution_count": 3,
      "outputs": []
    },
    {
      "cell_type": "markdown",
      "metadata": {
        "id": "j5hlZlTXWGE8"
      },
      "source": [
        "## Modèle\n",
        "\n",
        "Le modèle utilisé ici est le même que celui du notebook précédent, à la seule différence que l'on utilise ici un **GRU** au lieu d'un **LSTM**.\n"
      ]
    },
    {
      "cell_type": "code",
      "metadata": {
        "id": "ZVhOOkncWGE9"
      },
      "source": [
        "import torch.nn as nn\n",
        "\n",
        "class RNN(nn.Module):\n",
        "    def __init__(self, vocab_size, embedding_dim, hidden_dim, output_dim, n_layers, \n",
        "                 bidirectional, dropout, pad_idx):\n",
        "        \n",
        "        super().__init__()\n",
        "        \n",
        "        self.embedding = nn.Embedding(vocab_size, embedding_dim, padding_idx = pad_idx)\n",
        "        \n",
        "        self.rnn = nn.GRU(embedding_dim, \n",
        "                           hidden_dim, \n",
        "                           num_layers=n_layers, \n",
        "                           bidirectional=bidirectional, \n",
        "                           dropout=dropout)\n",
        "        \n",
        "        self.fc = nn.Linear(hidden_dim * 2, output_dim)\n",
        "        \n",
        "        self.dropout = nn.Dropout(dropout)\n",
        "        \n",
        "    def forward(self, text, text_lengths):\n",
        "        \n",
        "        #text = [sent len, batch size]\n",
        "        embedded = self.dropout(self.embedding(text))    \n",
        "        #embedded = [sent len, batch size, emb dim]\n",
        "        \n",
        "        packed_embedded = nn.utils.rnn.pack_padded_sequence(embedded, text_lengths)\n",
        "        packed_output, hidden = self.rnn(packed_embedded)\n",
        "        output, output_lengths = nn.utils.rnn.pad_packed_sequence(packed_output)\n",
        "\n",
        "        #output = [sent len, batch size, hid dim * num directions]   \n",
        "        #hidden = [num layers * num directions, batch size, hid dim]\n",
        "        #cell = [num layers * num directions, batch size, hid dim]\n",
        "        \n",
        "        hidden = self.dropout(torch.cat((hidden[-2,:,:], hidden[-1,:,:]), dim = 1))           \n",
        "        #hidden = [batch size, hid dim * num directions]\n",
        "            \n",
        "        return self.fc(hidden)"
      ],
      "execution_count": 4,
      "outputs": []
    },
    {
      "cell_type": "markdown",
      "metadata": {
        "id": "HrG9ZXpsWGFC"
      },
      "source": [
        "Comme auparavant, nous allons créer une instance de notre classe RNN, avec les nouveaux paramètres et arguments pour le nombre de couches, la bidirectionnalité et la probabilité de dropout.\n",
        "Pour garantir que les vecteurs pré-entraînés peuvent être chargés dans le modèle, `EMBEDDING_DIM` doit être égal à celui des vecteurs GloVe pré-entraînés chargés précédemment."
      ]
    },
    {
      "cell_type": "code",
      "metadata": {
        "id": "cRFx6I8lWGFD",
        "outputId": "b72e067e-e3b0-479d-8f22-017f93f5e9b0",
        "colab": {
          "base_uri": "https://localhost:8080/"
        }
      },
      "source": [
        "INPUT_DIM = len(TEXT.vocab)\n",
        "EMBEDDING_DIM = 100\n",
        "HIDDEN_DIM = 100\n",
        "OUTPUT_DIM = 1\n",
        "N_LAYERS = 2\n",
        "BIDIRECTIONAL = True\n",
        "DROPOUT = 0.6\n",
        "PAD_IDX = TEXT.vocab.stoi[TEXT.pad_token]\n",
        "\n",
        "model = RNN(INPUT_DIM, EMBEDDING_DIM, HIDDEN_DIM, OUTPUT_DIM, N_LAYERS, BIDIRECTIONAL, DROPOUT, PAD_IDX)\n",
        "\n",
        "def count_parameters(model):\n",
        "    return sum(p.numel() for p in model.parameters() if p.requires_grad)\n",
        "\n",
        "print(f'Le modèle a {count_parameters(model):,} paramètres à entraîner')"
      ],
      "execution_count": 5,
      "outputs": [
        {
          "output_type": "stream",
          "text": [
            "Le modèle a 5,302,801 paramètres à entraîner\n"
          ],
          "name": "stdout"
        }
      ]
    },
    {
      "cell_type": "markdown",
      "metadata": {
        "id": "bpVUcsyOWGFH"
      },
      "source": [
        "Le dernier ajout consiste à copier les embeddings de mots pré-entraînées que nous avons chargées précédemment dans la couche d'embedding de notre modèle.\n",
        "Nous récupérons les embeddings à partir du vocabulaire de `Field` et vérifions qu'elles sont de la bonne taille, **[taille du vocabulaire,dim embedding]**\n",
        "\n",
        "Comme nos tokens `<unk>` et `<pad>` ne sont pas dans le vocabulaire pré-entraîné, ils ont été initialisés en utilisant `unk_init` (une distribution $ \\mathcal {N} (0,1) $) lors de la construction de notre vocabulaire. Il est préférable de les initialiser tous les deux à zéros pour indiquer explicitement à notre modèle que, au départ, ils ne sont pas pertinents pour déterminer le sentiment.\n"
      ]
    },
    {
      "cell_type": "code",
      "metadata": {
        "id": "gygvwMD7WGFI"
      },
      "source": [
        "pretrained_embeddings = TEXT.vocab.vectors\n",
        "model.embedding.weight.data.copy_(pretrained_embeddings)\n",
        "\n",
        "UNK_IDX = TEXT.vocab.stoi[TEXT.unk_token]\n",
        "\n",
        "model.embedding.weight.data[UNK_IDX] = torch.zeros(EMBEDDING_DIM)\n",
        "model.embedding.weight.data[PAD_IDX] = torch.zeros(EMBEDDING_DIM)"
      ],
      "execution_count": 6,
      "outputs": []
    },
    {
      "cell_type": "markdown",
      "metadata": {
        "id": "g1NifTvZWGFM"
      },
      "source": [
        "## Métriques\n",
        "\n",
        "On utilise l'**accuracy** comme métrique."
      ]
    },
    {
      "cell_type": "code",
      "metadata": {
        "id": "QVv7dlOyWGFN"
      },
      "source": [
        "def binary_accuracy(preds, y):\n",
        "    rounded_preds = torch.round(torch.sigmoid(preds))\n",
        "    correct = (rounded_preds == y).float()\n",
        "    acc = correct.sum() / len(correct)\n",
        "    return acc"
      ],
      "execution_count": 7,
      "outputs": []
    },
    {
      "cell_type": "markdown",
      "metadata": {
        "id": "YV7BiND6WGFQ"
      },
      "source": [
        "## Optimiseur et fonction de perte"
      ]
    },
    {
      "cell_type": "code",
      "metadata": {
        "id": "miVoFFFpWGFR"
      },
      "source": [
        "import torch.optim as optim\n",
        "\n",
        "def optimiseur(model, lr=1e-4, eps=1e-6, weight_decay_rate=0.001, second_weight_decay_rate=0.0):\n",
        "    param_optimizer = list(model.named_parameters())\n",
        "    no_decay = ['bias', 'gamma', 'beta']\n",
        "    optimizer_grouped_parameters = [\n",
        "        {'params': [p for n, p in param_optimizer if not any(nd in n for nd in no_decay)],\n",
        "            'weight_decay_rate': weight_decay_rate},\n",
        "        {'params': [p for n, p in param_optimizer if any(nd in n for nd in no_decay)],\n",
        "            'weight_decay_rate': second_weight_decay_rate}]\n",
        "    return optim.Adam(\n",
        "        optimizer_grouped_parameters,\n",
        "        lr=lr,\n",
        "        eps=eps\n",
        "    )\n",
        "\n",
        "optimizer = optimiseur(model, lr=1e-4, eps=1e-6, weight_decay_rate=0.001, second_weight_decay_rate=0.0)\n",
        "criterion = nn.BCEWithLogitsLoss()\n",
        "model = model.to(device)\n",
        "criterion = criterion.to(device)"
      ],
      "execution_count": 8,
      "outputs": []
    },
    {
      "cell_type": "markdown",
      "metadata": {
        "id": "Zl6Gt4UDWGFV"
      },
      "source": [
        "## Entraîner le modèle"
      ]
    },
    {
      "cell_type": "code",
      "metadata": {
        "id": "A4TL6kDfWGFV",
        "outputId": "67b96277-35e6-4ae0-b604-0e6f65e5ee0a",
        "colab": {
          "base_uri": "https://localhost:8080/"
        }
      },
      "source": [
        "def train(model, iterator, optimizer, criterion):\n",
        "    \n",
        "    epoch_loss = 0\n",
        "    epoch_acc = 0\n",
        "    \n",
        "    model.train()\n",
        "    \n",
        "    for batch in iterator:\n",
        "        \n",
        "        optimizer.zero_grad()\n",
        "        text, text_lengths = batch.text       \n",
        "        predictions = model(text, text_lengths.to('cpu')).squeeze(1)\n",
        "        loss = criterion(predictions, batch.label)\n",
        "        \n",
        "        acc = binary_accuracy(predictions, batch.label)\n",
        "        \n",
        "        loss.backward()\n",
        "        \n",
        "        optimizer.step()\n",
        "        \n",
        "        epoch_loss += loss.item()\n",
        "        epoch_acc += acc.item()     \n",
        "        \n",
        "    return epoch_loss / len(iterator), epoch_acc / len(iterator)\n",
        "\n",
        "def evaluate(model, iterator, criterion):\n",
        "    \n",
        "    epoch_loss = 0\n",
        "    epoch_acc = 0\n",
        "    \n",
        "    model.eval()\n",
        "    \n",
        "    with torch.no_grad():\n",
        "    \n",
        "        for batch in iterator:\n",
        "            \n",
        "            text, text_lengths = batch.text       \n",
        "            predictions = model(text, text_lengths.to('cpu')).squeeze(1) \n",
        "            loss = criterion(predictions, batch.label)    \n",
        "\n",
        "            acc = binary_accuracy(predictions, batch.label)\n",
        "            \n",
        "            epoch_loss += loss.item()\n",
        "            epoch_acc += acc.item()\n",
        "        \n",
        "    return epoch_loss / len(iterator), epoch_acc / len(iterator)\n",
        "\n",
        "import time\n",
        "\n",
        "def epoch_time(start_time, end_time):\n",
        "    elapsed_time = end_time - start_time\n",
        "    elapsed_mins = int(elapsed_time / 60)\n",
        "    elapsed_secs = int(elapsed_time - (elapsed_mins * 60))\n",
        "    return elapsed_mins, elapsed_secs\n",
        "\n",
        "\n",
        "N_EPOCHS = 50\n",
        "\n",
        "best_valid_loss = float('inf')\n",
        "tloss = []\n",
        "tacc = []\n",
        "vloss = []\n",
        "vacc = []\n",
        "for epoch in range(N_EPOCHS):\n",
        "\n",
        "    start_time = time.time()\n",
        "    \n",
        "    train_loss, train_acc = train(model, train_iterator, optimizer, criterion)\n",
        "    tloss.append(train_loss)\n",
        "    tacc.append(train_acc)  \n",
        "    \n",
        "    valid_loss, valid_acc = evaluate(model, valid_iterator, criterion)\n",
        "    vloss.append(valid_loss)\n",
        "    vacc.append(valid_acc)     \n",
        "    end_time = time.time()\n",
        "\n",
        "    epoch_mins, epoch_secs = epoch_time(start_time, end_time)\n",
        "    \n",
        "    if valid_loss < best_valid_loss:\n",
        "        best_valid_loss = valid_loss\n",
        "        torch.save(model.state_dict(), 'tut2-model.pt')\n",
        "    \n",
        "    print(f'Epoch: {epoch+1:02} | Epoch Time: {epoch_mins}m {epoch_secs}s')\n",
        "    print(f'\\tTrain Loss: {train_loss:.3f} | Train Acc: {train_acc*100:.2f}%')\n",
        "    print(f'\\t Val. Loss: {valid_loss:.3f} |  Val. Acc: {valid_acc*100:.2f}%')"
      ],
      "execution_count": 9,
      "outputs": [
        {
          "output_type": "stream",
          "text": [
            "Epoch: 01 | Epoch Time: 0m 51s\n",
            "\tTrain Loss: 0.690 | Train Acc: 52.95%\n",
            "\t Val. Loss: 0.669 |  Val. Acc: 61.12%\n",
            "Epoch: 02 | Epoch Time: 0m 51s\n",
            "\tTrain Loss: 0.635 | Train Acc: 63.60%\n",
            "\t Val. Loss: 0.633 |  Val. Acc: 66.64%\n",
            "Epoch: 03 | Epoch Time: 0m 51s\n",
            "\tTrain Loss: 0.547 | Train Acc: 72.73%\n",
            "\t Val. Loss: 0.554 |  Val. Acc: 75.62%\n",
            "Epoch: 04 | Epoch Time: 0m 51s\n",
            "\tTrain Loss: 0.492 | Train Acc: 76.65%\n",
            "\t Val. Loss: 0.479 |  Val. Acc: 80.12%\n",
            "Epoch: 05 | Epoch Time: 0m 51s\n",
            "\tTrain Loss: 0.446 | Train Acc: 79.70%\n",
            "\t Val. Loss: 0.609 |  Val. Acc: 76.04%\n",
            "Epoch: 06 | Epoch Time: 0m 51s\n",
            "\tTrain Loss: 0.418 | Train Acc: 81.00%\n",
            "\t Val. Loss: 0.422 |  Val. Acc: 81.77%\n",
            "Epoch: 07 | Epoch Time: 0m 51s\n",
            "\tTrain Loss: 0.387 | Train Acc: 82.77%\n",
            "\t Val. Loss: 0.325 |  Val. Acc: 86.14%\n",
            "Epoch: 08 | Epoch Time: 0m 51s\n",
            "\tTrain Loss: 0.360 | Train Acc: 84.31%\n",
            "\t Val. Loss: 0.353 |  Val. Acc: 86.09%\n",
            "Epoch: 09 | Epoch Time: 0m 51s\n",
            "\tTrain Loss: 0.340 | Train Acc: 85.47%\n",
            "\t Val. Loss: 0.347 |  Val. Acc: 86.17%\n",
            "Epoch: 10 | Epoch Time: 0m 51s\n",
            "\tTrain Loss: 0.320 | Train Acc: 86.71%\n",
            "\t Val. Loss: 0.328 |  Val. Acc: 86.83%\n",
            "Epoch: 11 | Epoch Time: 0m 51s\n",
            "\tTrain Loss: 0.312 | Train Acc: 86.75%\n",
            "\t Val. Loss: 0.299 |  Val. Acc: 87.36%\n",
            "Epoch: 12 | Epoch Time: 0m 51s\n",
            "\tTrain Loss: 0.296 | Train Acc: 87.85%\n",
            "\t Val. Loss: 0.301 |  Val. Acc: 87.13%\n",
            "Epoch: 13 | Epoch Time: 0m 51s\n",
            "\tTrain Loss: 0.288 | Train Acc: 88.00%\n",
            "\t Val. Loss: 0.274 |  Val. Acc: 88.62%\n",
            "Epoch: 14 | Epoch Time: 0m 51s\n",
            "\tTrain Loss: 0.276 | Train Acc: 88.68%\n",
            "\t Val. Loss: 0.299 |  Val. Acc: 88.13%\n",
            "Epoch: 15 | Epoch Time: 0m 51s\n",
            "\tTrain Loss: 0.268 | Train Acc: 89.15%\n",
            "\t Val. Loss: 0.255 |  Val. Acc: 89.13%\n",
            "Epoch: 16 | Epoch Time: 0m 51s\n",
            "\tTrain Loss: 0.258 | Train Acc: 89.65%\n",
            "\t Val. Loss: 0.253 |  Val. Acc: 89.47%\n",
            "Epoch: 17 | Epoch Time: 0m 51s\n",
            "\tTrain Loss: 0.250 | Train Acc: 89.73%\n",
            "\t Val. Loss: 0.261 |  Val. Acc: 89.73%\n",
            "Epoch: 18 | Epoch Time: 0m 51s\n",
            "\tTrain Loss: 0.240 | Train Acc: 90.26%\n",
            "\t Val. Loss: 0.278 |  Val. Acc: 89.07%\n",
            "Epoch: 19 | Epoch Time: 0m 51s\n",
            "\tTrain Loss: 0.238 | Train Acc: 90.42%\n",
            "\t Val. Loss: 0.260 |  Val. Acc: 89.17%\n",
            "Epoch: 20 | Epoch Time: 0m 51s\n",
            "\tTrain Loss: 0.234 | Train Acc: 90.85%\n",
            "\t Val. Loss: 0.267 |  Val. Acc: 89.33%\n",
            "Epoch: 21 | Epoch Time: 0m 51s\n",
            "\tTrain Loss: 0.224 | Train Acc: 91.24%\n",
            "\t Val. Loss: 0.286 |  Val. Acc: 88.89%\n",
            "Epoch: 22 | Epoch Time: 0m 51s\n",
            "\tTrain Loss: 0.220 | Train Acc: 91.30%\n",
            "\t Val. Loss: 0.248 |  Val. Acc: 90.40%\n",
            "Epoch: 23 | Epoch Time: 0m 52s\n",
            "\tTrain Loss: 0.211 | Train Acc: 91.82%\n",
            "\t Val. Loss: 0.299 |  Val. Acc: 89.14%\n",
            "Epoch: 24 | Epoch Time: 0m 51s\n",
            "\tTrain Loss: 0.202 | Train Acc: 92.22%\n",
            "\t Val. Loss: 0.263 |  Val. Acc: 90.43%\n",
            "Epoch: 25 | Epoch Time: 0m 51s\n",
            "\tTrain Loss: 0.201 | Train Acc: 92.27%\n",
            "\t Val. Loss: 0.255 |  Val. Acc: 90.56%\n",
            "Epoch: 26 | Epoch Time: 0m 51s\n",
            "\tTrain Loss: 0.194 | Train Acc: 92.39%\n",
            "\t Val. Loss: 0.251 |  Val. Acc: 90.63%\n",
            "Epoch: 27 | Epoch Time: 0m 51s\n",
            "\tTrain Loss: 0.184 | Train Acc: 92.79%\n",
            "\t Val. Loss: 0.265 |  Val. Acc: 90.42%\n",
            "Epoch: 28 | Epoch Time: 0m 51s\n",
            "\tTrain Loss: 0.185 | Train Acc: 92.90%\n",
            "\t Val. Loss: 0.258 |  Val. Acc: 90.48%\n",
            "Epoch: 29 | Epoch Time: 0m 51s\n",
            "\tTrain Loss: 0.182 | Train Acc: 93.00%\n",
            "\t Val. Loss: 0.305 |  Val. Acc: 89.18%\n",
            "Epoch: 30 | Epoch Time: 0m 51s\n",
            "\tTrain Loss: 0.178 | Train Acc: 93.11%\n",
            "\t Val. Loss: 0.244 |  Val. Acc: 90.58%\n",
            "Epoch: 31 | Epoch Time: 0m 52s\n",
            "\tTrain Loss: 0.174 | Train Acc: 93.11%\n",
            "\t Val. Loss: 0.266 |  Val. Acc: 90.19%\n",
            "Epoch: 32 | Epoch Time: 0m 52s\n",
            "\tTrain Loss: 0.168 | Train Acc: 93.81%\n",
            "\t Val. Loss: 0.239 |  Val. Acc: 90.50%\n",
            "Epoch: 33 | Epoch Time: 0m 51s\n",
            "\tTrain Loss: 0.162 | Train Acc: 93.80%\n",
            "\t Val. Loss: 0.276 |  Val. Acc: 89.66%\n",
            "Epoch: 34 | Epoch Time: 0m 51s\n",
            "\tTrain Loss: 0.160 | Train Acc: 93.87%\n",
            "\t Val. Loss: 0.250 |  Val. Acc: 90.58%\n",
            "Epoch: 35 | Epoch Time: 0m 51s\n",
            "\tTrain Loss: 0.155 | Train Acc: 94.21%\n",
            "\t Val. Loss: 0.249 |  Val. Acc: 90.41%\n",
            "Epoch: 36 | Epoch Time: 0m 51s\n",
            "\tTrain Loss: 0.149 | Train Acc: 94.40%\n",
            "\t Val. Loss: 0.258 |  Val. Acc: 90.39%\n",
            "Epoch: 37 | Epoch Time: 0m 51s\n",
            "\tTrain Loss: 0.145 | Train Acc: 94.52%\n",
            "\t Val. Loss: 0.274 |  Val. Acc: 90.30%\n",
            "Epoch: 38 | Epoch Time: 0m 49s\n",
            "\tTrain Loss: 0.139 | Train Acc: 94.67%\n",
            "\t Val. Loss: 0.267 |  Val. Acc: 90.47%\n",
            "Epoch: 39 | Epoch Time: 0m 50s\n",
            "\tTrain Loss: 0.133 | Train Acc: 95.00%\n",
            "\t Val. Loss: 0.284 |  Val. Acc: 90.42%\n",
            "Epoch: 40 | Epoch Time: 0m 49s\n",
            "\tTrain Loss: 0.136 | Train Acc: 94.84%\n",
            "\t Val. Loss: 0.296 |  Val. Acc: 90.03%\n",
            "Epoch: 41 | Epoch Time: 0m 51s\n",
            "\tTrain Loss: 0.134 | Train Acc: 94.91%\n",
            "\t Val. Loss: 0.290 |  Val. Acc: 90.20%\n",
            "Epoch: 42 | Epoch Time: 0m 51s\n",
            "\tTrain Loss: 0.129 | Train Acc: 95.25%\n",
            "\t Val. Loss: 0.294 |  Val. Acc: 90.27%\n",
            "Epoch: 43 | Epoch Time: 0m 51s\n",
            "\tTrain Loss: 0.124 | Train Acc: 95.29%\n",
            "\t Val. Loss: 0.309 |  Val. Acc: 90.19%\n",
            "Epoch: 44 | Epoch Time: 0m 51s\n",
            "\tTrain Loss: 0.117 | Train Acc: 95.59%\n",
            "\t Val. Loss: 0.293 |  Val. Acc: 90.31%\n",
            "Epoch: 45 | Epoch Time: 0m 51s\n",
            "\tTrain Loss: 0.122 | Train Acc: 95.54%\n",
            "\t Val. Loss: 0.275 |  Val. Acc: 90.62%\n",
            "Epoch: 46 | Epoch Time: 0m 51s\n",
            "\tTrain Loss: 0.116 | Train Acc: 95.64%\n",
            "\t Val. Loss: 0.297 |  Val. Acc: 90.40%\n",
            "Epoch: 47 | Epoch Time: 0m 52s\n",
            "\tTrain Loss: 0.112 | Train Acc: 95.84%\n",
            "\t Val. Loss: 0.302 |  Val. Acc: 90.33%\n",
            "Epoch: 48 | Epoch Time: 0m 51s\n",
            "\tTrain Loss: 0.110 | Train Acc: 95.94%\n",
            "\t Val. Loss: 0.313 |  Val. Acc: 90.32%\n",
            "Epoch: 49 | Epoch Time: 0m 50s\n",
            "\tTrain Loss: 0.107 | Train Acc: 95.92%\n",
            "\t Val. Loss: 0.307 |  Val. Acc: 90.29%\n",
            "Epoch: 50 | Epoch Time: 0m 51s\n",
            "\tTrain Loss: 0.106 | Train Acc: 96.00%\n",
            "\t Val. Loss: 0.303 |  Val. Acc: 90.11%\n"
          ],
          "name": "stdout"
        }
      ]
    },
    {
      "cell_type": "code",
      "metadata": {
        "id": "jfNVPGGbWGFZ",
        "outputId": "6b09f064-4d27-4e2a-8d97-65828e46c07c",
        "colab": {
          "base_uri": "https://localhost:8080/",
          "height": 301
        }
      },
      "source": [
        "import seaborn as sns\n",
        "import matplotlib.pyplot as plt \n",
        "import numpy as np \n",
        "sns.set()\n",
        "\n",
        "x = np.linspace(0, N_EPOCHS,N_EPOCHS)\n",
        "\n",
        "plt.plot(x,tloss)\n",
        "plt.plot(x,vloss)\n",
        "plt.title(\"Loss\")\n",
        "plt.legend([\"Train loss\", \"Valid loss\"])"
      ],
      "execution_count": 10,
      "outputs": [
        {
          "output_type": "execute_result",
          "data": {
            "text/plain": [
              "<matplotlib.legend.Legend at 0x7f98864e6630>"
            ]
          },
          "metadata": {
            "tags": []
          },
          "execution_count": 10
        },
        {
          "output_type": "display_data",
          "data": {
            "image/png": "[encoded data removed]",
            "text/plain": [
              "<Figure size 432x288 with 1 Axes>"
            ]
          },
          "metadata": {
            "tags": []
          }
        }
      ]
    },
    {
      "cell_type": "code",
      "metadata": {
        "id": "6YFEDipFWGFc",
        "outputId": "64c4619f-bf9d-4b1f-f635-42714bf66732",
        "colab": {
          "base_uri": "https://localhost:8080/",
          "height": 301
        }
      },
      "source": [
        "x = np.linspace(0, N_EPOCHS,N_EPOCHS)\n",
        "\n",
        "plt.plot(x,tacc)\n",
        "plt.plot(x,vacc)\n",
        "plt.title(\"Accuracy\")\n",
        "plt.legend([\"Train acc\", \"Valid acc\"])"
      ],
      "execution_count": 11,
      "outputs": [
        {
          "output_type": "execute_result",
          "data": {
            "text/plain": [
              "<matplotlib.legend.Legend at 0x7f9886021c88>"
            ]
          },
          "metadata": {
            "tags": []
          },
          "execution_count": 11
        },
        {
          "output_type": "display_data",
          "data": {
            "image/png": "[encoded data removed]",
            "text/plain": [
              "<Figure size 432x288 with 1 Axes>"
            ]
          },
          "metadata": {
            "tags": []
          }
        }
      ]
    },
    {
      "cell_type": "markdown",
      "metadata": {
        "id": "5eqRQlywWGFg"
      },
      "source": [
        "Les hyperparamètres choisis sont : \n",
        "\n",
        "\n",
        "|Embedding dim|Hidden dim|Learning rate|Number of layers|Dropout|\n",
        "|-------------|----------|-------------|----------------|-------|\n",
        "|50           | 256      | 1e-4        |   2            |  0.5  |"
      ]
    },
    {
      "cell_type": "markdown",
      "metadata": {
        "id": "ZFQHmKROWGFg"
      },
      "source": [
        "## Tester le modèle"
      ]
    },
    {
      "cell_type": "code",
      "metadata": {
        "id": "6r7vlOr5WGFh",
        "outputId": "d5d5aa3b-88da-4175-ec21-d27f534da697",
        "colab": {
          "base_uri": "https://localhost:8080/"
        }
      },
      "source": [
        "model.load_state_dict(torch.load('tut2-model.pt'))\n",
        "test_loss, test_acc = evaluate(model, test_iterator, criterion)\n",
        "\n",
        "print(f'Test Loss: {test_loss:.3f} | Test Acc: {test_acc*100:.2f}%')"
      ],
      "execution_count": 12,
      "outputs": [
        {
          "output_type": "stream",
          "text": [
            "Test Loss: 0.244 | Test Acc: 90.54%\n"
          ],
          "name": "stdout"
        }
      ]
    },
    {
      "cell_type": "markdown",
      "metadata": {
        "id": "lCWEAdcOWGFl"
      },
      "source": [
        "### Inférence"
      ]
    },
    {
      "cell_type": "code",
      "metadata": {
        "id": "VyiLWKJDWGFl"
      },
      "source": [
        "import spacy\n",
        "nlp = spacy.load('en')\n",
        "\n",
        "def predict_sentiment(model, sentence):\n",
        "    model.eval()\n",
        "    tokenized = [tok.text for tok in nlp.tokenizer(sentence)]\n",
        "    indexed = [TEXT.vocab.stoi[t] for t in tokenized]\n",
        "    length = [len(indexed)]\n",
        "    tensor = torch.LongTensor(indexed).to(device)\n",
        "    tensor = tensor.unsqueeze(1)\n",
        "    length_tensor = torch.LongTensor(length)\n",
        "    prediction = torch.sigmoid(model(tensor, length_tensor))\n",
        "    if (prediction.item() > 0.5):\n",
        "      print (\"Sentiment: Positive\")\n",
        "    else:\n",
        "      print (\"Sentiment: Negative\")\n"
      ],
      "execution_count": 17,
      "outputs": []
    },
    {
      "cell_type": "code",
      "metadata": {
        "id": "jIsH7rPSWGFo",
        "outputId": "2214fb83-ed19-4c1d-9942-809eb5591307",
        "colab": {
          "base_uri": "https://localhost:8080/"
        }
      },
      "source": [
        "predict_sentiment(model, \"This film is great\")"
      ],
      "execution_count": 18,
      "outputs": [
        {
          "output_type": "stream",
          "text": [
            "Sentiment: Positive\n"
          ],
          "name": "stdout"
        }
      ]
    },
    {
      "cell_type": "code",
      "metadata": {
        "id": "NSH4wQFrWGFr",
        "outputId": "fed2a963-23f8-4e7a-f315-29da24b3dae7",
        "colab": {
          "base_uri": "https://localhost:8080/"
        }
      },
      "source": [
        "predict_sentiment(model, \"This film is terrible\")"
      ],
      "execution_count": 19,
      "outputs": [
        {
          "output_type": "stream",
          "text": [
            "Sentiment: Negative\n"
          ],
          "name": "stdout"
        }
      ]
    },
    {
      "cell_type": "code",
      "metadata": {
        "id": "2jBo8L92WGFu",
        "outputId": "6a721a48-e6d2-4b04-85e0-afd1491932b2",
        "colab": {
          "base_uri": "https://localhost:8080/"
        }
      },
      "source": [
        "predict_sentiment(model, \"This film is not good at all\")"
      ],
      "execution_count": 24,
      "outputs": [
        {
          "output_type": "stream",
          "text": [
            "Sentiment: Positive\n"
          ],
          "name": "stdout"
        }
      ]
    },
    {
      "cell_type": "markdown",
      "metadata": {
        "id": "Ej-EptQ34fW8"
      },
      "source": [
        "Comme pour le modèle BiLSTM, on remarque que le modèle GRU nous donne de bons résultats d'acuracy mais curieusement, il ne prédit pas correctement la négation.\n"
      ]
    },
    {
      "cell_type": "markdown",
      "metadata": {
        "id": "gVDHBD5TWGFy"
      },
      "source": [
        "## Référence : \n",
        "\n",
        " - https://github.com/bentrevett/pytorch-sentiment-analysis/blob/master/2%20-%20Upgraded%20Sentiment%20Analysis.ipynb"
      ]
    }
  ]
}